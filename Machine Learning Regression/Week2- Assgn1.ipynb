{
 "cells": [
  {
   "cell_type": "code",
   "execution_count": 26,
   "metadata": {},
   "outputs": [],
   "source": [
    "import pandas as pd\n",
    "import numpy as np\n",
    "from sklearn.linear_model import LinearRegression"
   ]
  },
  {
   "cell_type": "markdown",
   "metadata": {},
   "source": [
    "train_data = pd.read_csv('kc_house_train_data.csv')\n",
    "test_data = pd.read_csv('kc_house_test_data.csv')\n",
    "print(train_data.head())\n",
    "print(test_data.head())"
   ]
  },
  {
   "cell_type": "code",
   "execution_count": 9,
   "metadata": {},
   "outputs": [
    {
     "name": "stdout",
     "output_type": "stream",
     "text": [
      "<class 'pandas.core.frame.DataFrame'>\n",
      "RangeIndex: 17384 entries, 0 to 17383\n",
      "Data columns (total 21 columns):\n",
      "id               17384 non-null int64\n",
      "date             17384 non-null object\n",
      "price            17384 non-null float64\n",
      "bedrooms         17384 non-null int64\n",
      "bathrooms        17384 non-null float64\n",
      "sqft_living      17384 non-null int64\n",
      "sqft_lot         17384 non-null int64\n",
      "floors           17384 non-null float64\n",
      "waterfront       17384 non-null int64\n",
      "view             17384 non-null int64\n",
      "condition        17384 non-null int64\n",
      "grade            17384 non-null int64\n",
      "sqft_above       17384 non-null int64\n",
      "sqft_basement    17384 non-null int64\n",
      "yr_built         17384 non-null int64\n",
      "yr_renovated     17384 non-null int64\n",
      "zipcode          17384 non-null int64\n",
      "lat              17384 non-null float64\n",
      "long             17384 non-null float64\n",
      "sqft_living15    17384 non-null int64\n",
      "sqft_lot15       17384 non-null int64\n",
      "dtypes: float64(5), int64(15), object(1)\n",
      "memory usage: 2.8+ MB\n",
      "None\n",
      "<class 'pandas.core.frame.DataFrame'>\n",
      "RangeIndex: 4229 entries, 0 to 4228\n",
      "Data columns (total 21 columns):\n",
      "id               4229 non-null int64\n",
      "date             4229 non-null object\n",
      "price            4229 non-null float64\n",
      "bedrooms         4229 non-null int64\n",
      "bathrooms        4229 non-null float64\n",
      "sqft_living      4229 non-null int64\n",
      "sqft_lot         4229 non-null int64\n",
      "floors           4229 non-null float64\n",
      "waterfront       4229 non-null int64\n",
      "view             4229 non-null int64\n",
      "condition        4229 non-null int64\n",
      "grade            4229 non-null int64\n",
      "sqft_above       4229 non-null int64\n",
      "sqft_basement    4229 non-null int64\n",
      "yr_built         4229 non-null int64\n",
      "yr_renovated     4229 non-null int64\n",
      "zipcode          4229 non-null int64\n",
      "lat              4229 non-null float64\n",
      "long             4229 non-null float64\n",
      "sqft_living15    4229 non-null int64\n",
      "sqft_lot15       4229 non-null int64\n",
      "dtypes: float64(5), int64(15), object(1)\n",
      "memory usage: 693.9+ KB\n",
      "None\n"
     ]
    }
   ],
   "source": [
    "print(train_data.info())\n",
    "print(test_data.info())"
   ]
  },
  {
   "cell_type": "markdown",
   "metadata": {},
   "source": [
    "Change column type"
   ]
  },
  {
   "cell_type": "code",
   "execution_count": 13,
   "metadata": {
    "collapsed": true
   },
   "outputs": [],
   "source": [
    "dtype_dict = {'bathrooms':float, 'waterfront':int, 'sqft_above':int, 'sqft_living15':float, 'grade':int, 'yr_renovated':int, 'price':float, 'bedrooms':float, 'zipcode':str, 'long':float, 'sqft_lot15':float, 'sqft_living':float, 'floors':str, 'condition':int, 'lat':float, 'date':str, 'sqft_basement':int, 'yr_built':int, 'id':str, 'sqft_lot':int, 'view':int}\n",
    "for cols in train_data.columns:\n",
    "    train_data[cols] = train_data[cols].astype(dtype_dict[cols])\n",
    "    test_data[cols] = test_data[cols].astype(dtype_dict[cols])"
   ]
  },
  {
   "cell_type": "code",
   "execution_count": 15,
   "metadata": {},
   "outputs": [
    {
     "name": "stdout",
     "output_type": "stream",
     "text": [
      "<class 'pandas.core.frame.DataFrame'>\n",
      "RangeIndex: 17384 entries, 0 to 17383\n",
      "Data columns (total 21 columns):\n",
      "id               17384 non-null object\n",
      "date             17384 non-null object\n",
      "price            17384 non-null float64\n",
      "bedrooms         17384 non-null float64\n",
      "bathrooms        17384 non-null float64\n",
      "sqft_living      17384 non-null float64\n",
      "sqft_lot         17384 non-null int64\n",
      "floors           17384 non-null object\n",
      "waterfront       17384 non-null int64\n",
      "view             17384 non-null int64\n",
      "condition        17384 non-null int64\n",
      "grade            17384 non-null int64\n",
      "sqft_above       17384 non-null int64\n",
      "sqft_basement    17384 non-null int64\n",
      "yr_built         17384 non-null int64\n",
      "yr_renovated     17384 non-null int64\n",
      "zipcode          17384 non-null object\n",
      "lat              17384 non-null float64\n",
      "long             17384 non-null float64\n",
      "sqft_living15    17384 non-null float64\n",
      "sqft_lot15       17384 non-null float64\n",
      "dtypes: float64(8), int64(9), object(4)\n",
      "memory usage: 2.8+ MB\n",
      "None\n",
      "<class 'pandas.core.frame.DataFrame'>\n",
      "RangeIndex: 4229 entries, 0 to 4228\n",
      "Data columns (total 21 columns):\n",
      "id               4229 non-null object\n",
      "date             4229 non-null object\n",
      "price            4229 non-null float64\n",
      "bedrooms         4229 non-null float64\n",
      "bathrooms        4229 non-null float64\n",
      "sqft_living      4229 non-null float64\n",
      "sqft_lot         4229 non-null int64\n",
      "floors           4229 non-null object\n",
      "waterfront       4229 non-null int64\n",
      "view             4229 non-null int64\n",
      "condition        4229 non-null int64\n",
      "grade            4229 non-null int64\n",
      "sqft_above       4229 non-null int64\n",
      "sqft_basement    4229 non-null int64\n",
      "yr_built         4229 non-null int64\n",
      "yr_renovated     4229 non-null int64\n",
      "zipcode          4229 non-null object\n",
      "lat              4229 non-null float64\n",
      "long             4229 non-null float64\n",
      "sqft_living15    4229 non-null float64\n",
      "sqft_lot15       4229 non-null float64\n",
      "dtypes: float64(8), int64(9), object(4)\n",
      "memory usage: 693.9+ KB\n",
      "None\n"
     ]
    }
   ],
   "source": [
    "print(train_data.info())\n",
    "print(test_data.info())"
   ]
  },
  {
   "cell_type": "markdown",
   "metadata": {},
   "source": [
    "Add new Columns to Train and Test Datasets"
   ]
  },
  {
   "cell_type": "code",
   "execution_count": 17,
   "metadata": {
    "collapsed": true
   },
   "outputs": [],
   "source": [
    "train_data['bedrooms_squared'] = train_data['bedrooms'] * train_data['bedrooms']\n",
    "train_data['bed_bath_rooms'] = train_data['bedrooms'] * train_data['bathrooms']\n",
    "train_data['log_sqft_living'] = train_data['sqft_living'].apply(lambda x:np.log(x))\n",
    "train_data['lat_plus_long'] = train_data['lat'] + train_data['long']"
   ]
  },
  {
   "cell_type": "code",
   "execution_count": 18,
   "metadata": {
    "collapsed": true
   },
   "outputs": [],
   "source": [
    "test_data['bedrooms_squared'] = test_data['bedrooms'] * test_data['bedrooms']\n",
    "test_data['bed_bath_rooms'] = test_data['bedrooms'] * test_data['bathrooms']\n",
    "test_data['log_sqft_living'] = test_data['sqft_living'].apply(lambda x:np.log(x))\n",
    "test_data['lat_plus_long'] = test_data['lat'] + test_data['long']"
   ]
  },
  {
   "cell_type": "code",
   "execution_count": 19,
   "metadata": {},
   "outputs": [
    {
     "name": "stdout",
     "output_type": "stream",
     "text": [
      "           id             date     price  bedrooms  bathrooms  sqft_living  \\\n",
      "0  7129300520  20141013T000000  221900.0       3.0       1.00       1180.0   \n",
      "1  6414100192  20141209T000000  538000.0       3.0       2.25       2570.0   \n",
      "2  5631500400  20150225T000000  180000.0       2.0       1.00        770.0   \n",
      "3  2487200875  20141209T000000  604000.0       4.0       3.00       1960.0   \n",
      "4  1954400510  20150218T000000  510000.0       3.0       2.00       1680.0   \n",
      "\n",
      "   sqft_lot floors  waterfront  view      ...        yr_renovated  zipcode  \\\n",
      "0      5650    1.0           0     0      ...                   0    98178   \n",
      "1      7242    2.0           0     0      ...                1991    98125   \n",
      "2     10000    1.0           0     0      ...                   0    98028   \n",
      "3      5000    1.0           0     0      ...                   0    98136   \n",
      "4      8080    1.0           0     0      ...                   0    98074   \n",
      "\n",
      "       lat     long  sqft_living15  sqft_lot15 bedrooms_squared  \\\n",
      "0  47.5112 -122.257         1340.0      5650.0              9.0   \n",
      "1  47.7210 -122.319         1690.0      7639.0              9.0   \n",
      "2  47.7379 -122.233         2720.0      8062.0              4.0   \n",
      "3  47.5208 -122.393         1360.0      5000.0             16.0   \n",
      "4  47.6168 -122.045         1800.0      7503.0              9.0   \n",
      "\n",
      "   bed_bath_rooms  log_sqft_living  lat_plus_long  \n",
      "0            3.00         7.073270       -74.7458  \n",
      "1            6.75         7.851661       -74.5980  \n",
      "2            2.00         6.646391       -74.4951  \n",
      "3           12.00         7.580700       -74.8722  \n",
      "4            6.00         7.426549       -74.4282  \n",
      "\n",
      "[5 rows x 25 columns]\n",
      "           id             date     price  bedrooms  bathrooms  sqft_living  \\\n",
      "0   114101516  20140528T000000  310000.0       3.0        1.0       1430.0   \n",
      "1  9297300055  20150124T000000  650000.0       4.0        3.0       2950.0   \n",
      "2  1202000200  20141103T000000  233000.0       3.0        2.0       1710.0   \n",
      "3  8562750320  20141110T000000  580500.0       3.0        2.5       2320.0   \n",
      "4  7589200193  20141110T000000  535000.0       3.0        1.0       1090.0   \n",
      "\n",
      "   sqft_lot floors  waterfront  view      ...        yr_renovated  zipcode  \\\n",
      "0     19901    1.5           0     0      ...                   0    98028   \n",
      "1      5000    2.0           0     3      ...                   0    98126   \n",
      "2      4697    1.5           0     0      ...                   0    98002   \n",
      "3      3980    2.0           0     0      ...                   0    98027   \n",
      "4      3000    1.5           0     0      ...                   0    98117   \n",
      "\n",
      "       lat     long  sqft_living15  sqft_lot15 bedrooms_squared  \\\n",
      "0  47.7558 -122.229         1780.0     12697.0              9.0   \n",
      "1  47.5714 -122.375         2140.0      4000.0             16.0   \n",
      "2  47.3048 -122.218         1030.0      4705.0              9.0   \n",
      "3  47.5391 -122.070         2580.0      3980.0              9.0   \n",
      "4  47.6889 -122.375         1570.0      5080.0              9.0   \n",
      "\n",
      "   bed_bath_rooms  log_sqft_living  lat_plus_long  \n",
      "0             3.0         7.265430       -74.4732  \n",
      "1            12.0         7.989560       -74.8036  \n",
      "2             6.0         7.444249       -74.9132  \n",
      "3             7.5         7.749322       -74.5309  \n",
      "4             3.0         6.993933       -74.6861  \n",
      "\n",
      "[5 rows x 25 columns]\n"
     ]
    }
   ],
   "source": [
    "print(train_data.head())\n",
    "print(test_data.head())"
   ]
  },
  {
   "cell_type": "markdown",
   "metadata": {},
   "source": [
    "Qn1"
   ]
  },
  {
   "cell_type": "code",
   "execution_count": 20,
   "metadata": {},
   "outputs": [
    {
     "data": {
      "text/plain": [
       "12.4466777015843"
      ]
     },
     "execution_count": 20,
     "metadata": {},
     "output_type": "execute_result"
    }
   ],
   "source": [
    "test_data['bedrooms_squared'].mean()"
   ]
  },
  {
   "cell_type": "markdown",
   "metadata": {},
   "source": [
    "Qn2"
   ]
  },
  {
   "cell_type": "code",
   "execution_count": 22,
   "metadata": {},
   "outputs": [
    {
     "data": {
      "text/plain": [
       "7.5039016315913925"
      ]
     },
     "execution_count": 22,
     "metadata": {},
     "output_type": "execute_result"
    }
   ],
   "source": [
    "test_data['bed_bath_rooms'].mean()"
   ]
  },
  {
   "cell_type": "markdown",
   "metadata": {},
   "source": [
    "Qn3"
   ]
  },
  {
   "cell_type": "code",
   "execution_count": 23,
   "metadata": {},
   "outputs": [
    {
     "data": {
      "text/plain": [
       "7.550274679645921"
      ]
     },
     "execution_count": 23,
     "metadata": {},
     "output_type": "execute_result"
    }
   ],
   "source": [
    "test_data['log_sqft_living'].mean()"
   ]
  },
  {
   "cell_type": "markdown",
   "metadata": {},
   "source": [
    "Qn4"
   ]
  },
  {
   "cell_type": "code",
   "execution_count": 24,
   "metadata": {},
   "outputs": [
    {
     "data": {
      "text/plain": [
       "-74.65333355403185"
      ]
     },
     "execution_count": 24,
     "metadata": {},
     "output_type": "execute_result"
    }
   ],
   "source": [
    "test_data['lat_plus_long'].mean()"
   ]
  },
  {
   "cell_type": "markdown",
   "metadata": {},
   "source": [
    "Linear Regression"
   ]
  },
  {
   "cell_type": "code",
   "execution_count": 52,
   "metadata": {
    "collapsed": true
   },
   "outputs": [],
   "source": [
    "model = LinearRegression()"
   ]
  },
  {
   "cell_type": "markdown",
   "metadata": {},
   "source": [
    "Model1"
   ]
  },
  {
   "cell_type": "code",
   "execution_count": 53,
   "metadata": {},
   "outputs": [],
   "source": [
    "X_train1 = train_data.loc[:,['sqft_living', 'bedrooms', 'bathrooms', 'lat', 'long']]\n",
    "X_test1 = test_data.loc[:,['sqft_living', 'bedrooms', 'bathrooms', 'lat', 'long']]\n",
    "y_train = train_data.loc[:,['price']]\n",
    "y_test = test_data.loc[:,['price']]"
   ]
  },
  {
   "cell_type": "code",
   "execution_count": 54,
   "metadata": {},
   "outputs": [
    {
     "name": "stdout",
     "output_type": "stream",
     "text": [
      "   sqft_living  bedrooms  bathrooms      lat     long\n",
      "0       1180.0       3.0       1.00  47.5112 -122.257\n",
      "1       2570.0       3.0       2.25  47.7210 -122.319\n",
      "2        770.0       2.0       1.00  47.7379 -122.233\n",
      "3       1960.0       4.0       3.00  47.5208 -122.393\n",
      "4       1680.0       3.0       2.00  47.6168 -122.045\n",
      "   sqft_living  bedrooms  bathrooms      lat     long\n",
      "0       1430.0       3.0        1.0  47.7558 -122.229\n",
      "1       2950.0       4.0        3.0  47.5714 -122.375\n",
      "2       1710.0       3.0        2.0  47.3048 -122.218\n",
      "3       2320.0       3.0        2.5  47.5391 -122.070\n",
      "4       1090.0       3.0        1.0  47.6889 -122.375\n",
      "      price\n",
      "0  221900.0\n",
      "1  538000.0\n",
      "2  180000.0\n",
      "3  604000.0\n",
      "4  510000.0\n",
      "      price\n",
      "0  310000.0\n",
      "1  650000.0\n",
      "2  233000.0\n",
      "3  580500.0\n",
      "4  535000.0\n"
     ]
    }
   ],
   "source": [
    "print(X_train1.head())\n",
    "print(X_test1.head())\n",
    "print(y_train.head())\n",
    "print(y_test.head())"
   ]
  },
  {
   "cell_type": "markdown",
   "metadata": {},
   "source": [
    "Training and Predicting Using Model1"
   ]
  },
  {
   "cell_type": "code",
   "execution_count": 55,
   "metadata": {},
   "outputs": [
    {
     "data": {
      "text/plain": [
       "LinearRegression(copy_X=True, fit_intercept=True, n_jobs=1, normalize=False)"
      ]
     },
     "execution_count": 55,
     "metadata": {},
     "output_type": "execute_result"
    }
   ],
   "source": [
    "model.fit(X=X_train1,y=y_train)"
   ]
  },
  {
   "cell_type": "code",
   "execution_count": 56,
   "metadata": {},
   "outputs": [
    {
     "data": {
      "text/plain": [
       "array([[  3.12258646e+02,  -5.95865332e+04,   1.57067421e+04,\n",
       "          6.58619264e+05,  -3.09374351e+05]])"
      ]
     },
     "execution_count": 56,
     "metadata": {},
     "output_type": "execute_result"
    }
   ],
   "source": [
    "model.coef_ ### coeff of bathroom - positive"
   ]
  },
  {
   "cell_type": "markdown",
   "metadata": {},
   "source": [
    "Calculate Training and Test RSS"
   ]
  },
  {
   "cell_type": "code",
   "execution_count": 73,
   "metadata": {},
   "outputs": [],
   "source": [
    "train_pred1 = model.predict(X_train1)"
   ]
  },
  {
   "cell_type": "code",
   "execution_count": 74,
   "metadata": {
    "scrolled": true
   },
   "outputs": [
    {
     "data": {
      "text/plain": [
       "price    9.678800e+14\n",
       "dtype: float64"
      ]
     },
     "execution_count": 74,
     "metadata": {},
     "output_type": "execute_result"
    }
   ],
   "source": [
    "rss_train1 = (y_train - train_pred1).apply(lambda x:x**2).sum()\n",
    "rss_train1"
   ]
  },
  {
   "cell_type": "code",
   "execution_count": 75,
   "metadata": {
    "collapsed": true
   },
   "outputs": [],
   "source": [
    "test_pred1 = model.predict(X_test1)"
   ]
  },
  {
   "cell_type": "code",
   "execution_count": 76,
   "metadata": {},
   "outputs": [
    {
     "data": {
      "text/plain": [
       "price    2.255005e+14\n",
       "dtype: float64"
      ]
     },
     "execution_count": 76,
     "metadata": {},
     "output_type": "execute_result"
    }
   ],
   "source": [
    "rss_test1 = (y_test - test_pred1).apply(lambda x:x**2).sum()\n",
    "rss_test1"
   ]
  },
  {
   "cell_type": "markdown",
   "metadata": {},
   "source": [
    "Model2"
   ]
  },
  {
   "cell_type": "code",
   "execution_count": 77,
   "metadata": {
    "collapsed": true
   },
   "outputs": [],
   "source": [
    "X_train2 = train_data.loc[:,['sqft_living', 'bedrooms', 'bathrooms', 'lat', 'long', 'bed_bath_rooms']]\n",
    "X_test2 = test_data.loc[:,['sqft_living', 'bedrooms', 'bathrooms', 'lat', 'long', 'bed_bath_rooms']]"
   ]
  },
  {
   "cell_type": "code",
   "execution_count": 78,
   "metadata": {},
   "outputs": [
    {
     "name": "stdout",
     "output_type": "stream",
     "text": [
      "   sqft_living  bedrooms  bathrooms      lat     long  bed_bath_rooms\n",
      "0       1180.0       3.0       1.00  47.5112 -122.257            3.00\n",
      "1       2570.0       3.0       2.25  47.7210 -122.319            6.75\n",
      "2        770.0       2.0       1.00  47.7379 -122.233            2.00\n",
      "3       1960.0       4.0       3.00  47.5208 -122.393           12.00\n",
      "4       1680.0       3.0       2.00  47.6168 -122.045            6.00\n",
      "   sqft_living  bedrooms  bathrooms      lat     long  bed_bath_rooms\n",
      "0       1430.0       3.0        1.0  47.7558 -122.229             3.0\n",
      "1       2950.0       4.0        3.0  47.5714 -122.375            12.0\n",
      "2       1710.0       3.0        2.0  47.3048 -122.218             6.0\n",
      "3       2320.0       3.0        2.5  47.5391 -122.070             7.5\n",
      "4       1090.0       3.0        1.0  47.6889 -122.375             3.0\n"
     ]
    }
   ],
   "source": [
    "print(X_train2.head())\n",
    "print(X_test2.head())"
   ]
  },
  {
   "cell_type": "markdown",
   "metadata": {},
   "source": [
    "Training and Predicting Using Model2"
   ]
  },
  {
   "cell_type": "code",
   "execution_count": 79,
   "metadata": {},
   "outputs": [
    {
     "data": {
      "text/plain": [
       "LinearRegression(copy_X=True, fit_intercept=True, n_jobs=1, normalize=False)"
      ]
     },
     "execution_count": 79,
     "metadata": {},
     "output_type": "execute_result"
    }
   ],
   "source": [
    "model.fit(X=X_train2,y=y_train)"
   ]
  },
  {
   "cell_type": "code",
   "execution_count": 80,
   "metadata": {},
   "outputs": [
    {
     "data": {
      "text/plain": [
       "array([[  3.06610053e+02,  -1.13446368e+05,  -7.14613083e+04,\n",
       "          6.54844630e+05,  -2.94298969e+05,   2.55796520e+04]])"
      ]
     },
     "execution_count": 80,
     "metadata": {},
     "output_type": "execute_result"
    }
   ],
   "source": [
    "model.coef_ ### coeff of bathroom - negative"
   ]
  },
  {
   "cell_type": "code",
   "execution_count": 81,
   "metadata": {
    "collapsed": true
   },
   "outputs": [],
   "source": [
    "train_pred2 = model.predict(X_train2)"
   ]
  },
  {
   "cell_type": "code",
   "execution_count": 82,
   "metadata": {},
   "outputs": [
    {
     "data": {
      "text/plain": [
       "price    9.584196e+14\n",
       "dtype: float64"
      ]
     },
     "execution_count": 82,
     "metadata": {},
     "output_type": "execute_result"
    }
   ],
   "source": [
    "rss_train2 = (y_train - train_pred2).apply(lambda x:x**2).sum()\n",
    "rss_train2"
   ]
  },
  {
   "cell_type": "code",
   "execution_count": 83,
   "metadata": {
    "collapsed": true
   },
   "outputs": [],
   "source": [
    "test_pred2 = model.predict(X_test2)"
   ]
  },
  {
   "cell_type": "code",
   "execution_count": 84,
   "metadata": {},
   "outputs": [
    {
     "data": {
      "text/plain": [
       "price    2.233775e+14\n",
       "dtype: float64"
      ]
     },
     "execution_count": 84,
     "metadata": {},
     "output_type": "execute_result"
    }
   ],
   "source": [
    "rss_test2 = (y_test - test_pred2).apply(lambda x:x**2).sum()\n",
    "rss_test2"
   ]
  },
  {
   "cell_type": "markdown",
   "metadata": {},
   "source": [
    "Model3"
   ]
  },
  {
   "cell_type": "code",
   "execution_count": 85,
   "metadata": {
    "collapsed": true
   },
   "outputs": [],
   "source": [
    "X_train3 = train_data.loc[:,['sqft_living', 'bedrooms', 'bathrooms', 'lat', 'long', 'bed_bath_rooms', 'bedrooms_squared', 'log_sqft_living', 'lat_plus_long']]\n",
    "X_test3 = test_data.loc[:,['sqft_living', 'bedrooms', 'bathrooms', 'lat', 'long', 'bed_bath_rooms', 'bedrooms_squared', 'log_sqft_living', 'lat_plus_long']]"
   ]
  },
  {
   "cell_type": "code",
   "execution_count": 86,
   "metadata": {},
   "outputs": [
    {
     "name": "stdout",
     "output_type": "stream",
     "text": [
      "   sqft_living  bedrooms  bathrooms      lat     long  bed_bath_rooms  \\\n",
      "0       1180.0       3.0       1.00  47.5112 -122.257            3.00   \n",
      "1       2570.0       3.0       2.25  47.7210 -122.319            6.75   \n",
      "2        770.0       2.0       1.00  47.7379 -122.233            2.00   \n",
      "3       1960.0       4.0       3.00  47.5208 -122.393           12.00   \n",
      "4       1680.0       3.0       2.00  47.6168 -122.045            6.00   \n",
      "\n",
      "   bedrooms_squared  log_sqft_living  lat_plus_long  \n",
      "0               9.0         7.073270       -74.7458  \n",
      "1               9.0         7.851661       -74.5980  \n",
      "2               4.0         6.646391       -74.4951  \n",
      "3              16.0         7.580700       -74.8722  \n",
      "4               9.0         7.426549       -74.4282  \n",
      "   sqft_living  bedrooms  bathrooms      lat     long  bed_bath_rooms  \\\n",
      "0       1430.0       3.0        1.0  47.7558 -122.229             3.0   \n",
      "1       2950.0       4.0        3.0  47.5714 -122.375            12.0   \n",
      "2       1710.0       3.0        2.0  47.3048 -122.218             6.0   \n",
      "3       2320.0       3.0        2.5  47.5391 -122.070             7.5   \n",
      "4       1090.0       3.0        1.0  47.6889 -122.375             3.0   \n",
      "\n",
      "   bedrooms_squared  log_sqft_living  lat_plus_long  \n",
      "0               9.0         7.265430       -74.4732  \n",
      "1              16.0         7.989560       -74.8036  \n",
      "2               9.0         7.444249       -74.9132  \n",
      "3               9.0         7.749322       -74.5309  \n",
      "4               9.0         6.993933       -74.6861  \n"
     ]
    }
   ],
   "source": [
    "print(X_train3.head())\n",
    "print(X_test3.head())"
   ]
  },
  {
   "cell_type": "markdown",
   "metadata": {},
   "source": [
    "Training and Predicting Using Model3"
   ]
  },
  {
   "cell_type": "code",
   "execution_count": 87,
   "metadata": {},
   "outputs": [
    {
     "data": {
      "text/plain": [
       "LinearRegression(copy_X=True, fit_intercept=True, n_jobs=1, normalize=False)"
      ]
     },
     "execution_count": 87,
     "metadata": {},
     "output_type": "execute_result"
    }
   ],
   "source": [
    "model.fit(X=X_train3,y=y_train)"
   ]
  },
  {
   "cell_type": "code",
   "execution_count": 88,
   "metadata": {
    "collapsed": true
   },
   "outputs": [],
   "source": [
    "train_pred3 = model.predict(X_train3)"
   ]
  },
  {
   "cell_type": "code",
   "execution_count": 89,
   "metadata": {},
   "outputs": [
    {
     "data": {
      "text/plain": [
       "price    9.034365e+14\n",
       "dtype: float64"
      ]
     },
     "execution_count": 89,
     "metadata": {},
     "output_type": "execute_result"
    }
   ],
   "source": [
    "rss_train3 = (y_train - train_pred3).apply(lambda x:x**2).sum()\n",
    "rss_train3"
   ]
  },
  {
   "cell_type": "code",
   "execution_count": 91,
   "metadata": {
    "collapsed": true
   },
   "outputs": [],
   "source": [
    "test_pred3 = model.predict(X_test3)"
   ]
  },
  {
   "cell_type": "code",
   "execution_count": 92,
   "metadata": {},
   "outputs": [
    {
     "data": {
      "text/plain": [
       "price    2.592363e+14\n",
       "dtype: float64"
      ]
     },
     "execution_count": 92,
     "metadata": {},
     "output_type": "execute_result"
    }
   ],
   "source": [
    "rss_test3 = (y_test - test_pred3).apply(lambda x:x**2).sum()\n",
    "rss_test3"
   ]
  }
 ],
 "metadata": {
  "kernelspec": {
   "display_name": "Python 3",
   "language": "python",
   "name": "python3"
  },
  "language_info": {
   "codemirror_mode": {
    "name": "ipython",
    "version": 3
   },
   "file_extension": ".py",
   "mimetype": "text/x-python",
   "name": "python",
   "nbconvert_exporter": "python",
   "pygments_lexer": "ipython3",
   "version": "3.6.1"
  }
 },
 "nbformat": 4,
 "nbformat_minor": 2
}
