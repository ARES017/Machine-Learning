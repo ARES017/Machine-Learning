{
 "cells": [
  {
   "cell_type": "markdown",
   "metadata": {},
   "source": [
    "Importing Libraries"
   ]
  },
  {
   "cell_type": "code",
   "execution_count": 59,
   "metadata": {},
   "outputs": [],
   "source": [
    "import pandas as pd\n",
    "import numpy as np\n",
    "from sklearn.linear_model import Ridge\n",
    "from sklearn.metrics import mean_squared_error"
   ]
  },
  {
   "cell_type": "code",
   "execution_count": 2,
   "metadata": {},
   "outputs": [],
   "source": [
    "dtype_dict = {'bathrooms':float, 'waterfront':int, 'sqft_above':int, 'sqft_living15':float, 'grade':int, 'yr_renovated':int, 'price':float, 'bedrooms':float, 'zipcode':str, 'long':float, 'sqft_lot15':float, 'sqft_living':float, 'floors':float, 'condition':int, 'lat':float, 'date':str, 'sqft_basement':int, 'yr_built':int, 'id':str, 'sqft_lot':int, 'view':int}"
   ]
  },
  {
   "cell_type": "markdown",
   "metadata": {},
   "source": [
    "Importing Data"
   ]
  },
  {
   "cell_type": "code",
   "execution_count": 5,
   "metadata": {},
   "outputs": [
    {
     "name": "stdout",
     "output_type": "stream",
     "text": [
      "               id             date     price  bedrooms  bathrooms  \\\n",
      "19452  3980300371  20140926T000000  142000.0       0.0       0.00   \n",
      "15381  2856101479  20140701T000000  276000.0       1.0       0.75   \n",
      "860    1723049033  20140620T000000  245000.0       1.0       0.75   \n",
      "18379  1222029077  20141029T000000  265000.0       0.0       0.75   \n",
      "4868   6896300380  20141002T000000  228000.0       0.0       1.00   \n",
      "\n",
      "       sqft_living  sqft_lot  floors  waterfront  view     ...      grade  \\\n",
      "19452        290.0     20875     1.0           0     0     ...          1   \n",
      "15381        370.0      1801     1.0           0     0     ...          5   \n",
      "860          380.0     15000     1.0           0     0     ...          5   \n",
      "18379        384.0    213444     1.0           0     0     ...          4   \n",
      "4868         390.0      5900     1.0           0     0     ...          4   \n",
      "\n",
      "       sqft_above  sqft_basement  yr_built  yr_renovated  zipcode      lat  \\\n",
      "19452         290              0      1963             0    98024  47.5308   \n",
      "15381         370              0      1923             0    98117  47.6778   \n",
      "860           380              0      1963             0    98168  47.4810   \n",
      "18379         384              0      2003             0    98070  47.4177   \n",
      "4868          390              0      1953             0    98118  47.5260   \n",
      "\n",
      "          long  sqft_living15  sqft_lot15  \n",
      "19452 -121.888         1620.0     22850.0  \n",
      "15381 -122.389         1340.0      5000.0  \n",
      "860   -122.323         1170.0     15000.0  \n",
      "18379 -122.491         1920.0    224341.0  \n",
      "4868  -122.261         2170.0      6000.0  \n",
      "\n",
      "[5 rows x 21 columns]\n"
     ]
    }
   ],
   "source": [
    "sales = pd.read_csv('kc_house_data.csv', dtype=dtype_dict)\n",
    "sales = sales.sort_values(['sqft_living','price'])\n",
    "\n",
    "print(sales.head())"
   ]
  },
  {
   "cell_type": "markdown",
   "metadata": {},
   "source": [
    "Function to Add features"
   ]
  },
  {
   "cell_type": "code",
   "execution_count": 6,
   "metadata": {},
   "outputs": [],
   "source": [
    "def polynomial_sframe(feature,degree):\n",
    "    \n",
    "    feature_df = pd.DataFrame()\n",
    "    feature_df['power_1'] = feature\n",
    "    \n",
    "    for i in range(2,degree+1):\n",
    "        col_name = 'power_' + str(i)\n",
    "        feature_df[col_name] = feature_df['power_1'].apply(lambda x: x ** i)\n",
    "    \n",
    "    return(feature_df)\n",
    "    "
   ]
  },
  {
   "cell_type": "code",
   "execution_count": 7,
   "metadata": {},
   "outputs": [
    {
     "name": "stdout",
     "output_type": "stream",
     "text": [
      "19452    290.0\n",
      "15381    370.0\n",
      "860      380.0\n",
      "18379    384.0\n",
      "4868     390.0\n",
      "Name: sqft_living, dtype: float64\n",
      "19452    142000.0\n",
      "15381    276000.0\n",
      "860      245000.0\n",
      "18379    265000.0\n",
      "4868     228000.0\n",
      "Name: price, dtype: float64\n"
     ]
    }
   ],
   "source": [
    "feature, output = sales['sqft_living'], sales['price']\n",
    "\n",
    "print(feature.head())\n",
    "print(output.head())"
   ]
  },
  {
   "cell_type": "markdown",
   "metadata": {},
   "source": [
    "Qn 1"
   ]
  },
  {
   "cell_type": "code",
   "execution_count": 8,
   "metadata": {},
   "outputs": [
    {
     "name": "stdout",
     "output_type": "stream",
     "text": [
      "       power_1   power_2     power_3       power_4       power_5  \\\n",
      "19452    290.0   84100.0  24389000.0  7.072810e+09  2.051115e+12   \n",
      "15381    370.0  136900.0  50653000.0  1.874161e+10  6.934396e+12   \n",
      "860      380.0  144400.0  54872000.0  2.085136e+10  7.923517e+12   \n",
      "18379    384.0  147456.0  56623104.0  2.174327e+10  8.349416e+12   \n",
      "4868     390.0  152100.0  59319000.0  2.313441e+10  9.022420e+12   \n",
      "\n",
      "            power_6       power_7       power_8       power_9      power_10  \\\n",
      "19452  5.948233e+14  1.724988e+17  5.002464e+19  1.450715e+22  4.207072e+24   \n",
      "15381  2.565726e+15  9.493188e+17  3.512479e+20  1.299617e+23  4.808584e+25   \n",
      "860    3.010936e+15  1.144156e+18  4.347792e+20  1.652161e+23  6.278212e+25   \n",
      "18379  3.206176e+15  1.231172e+18  4.727699e+20  1.815436e+23  6.971275e+25   \n",
      "4868   3.518744e+15  1.372310e+18  5.352009e+20  2.087284e+23  8.140406e+25   \n",
      "\n",
      "           power_11      power_12      power_13      power_14      power_15  \n",
      "19452  1.220051e+27  3.538148e+29  1.026063e+32  2.975582e+34  8.629189e+36  \n",
      "15381  1.779176e+28  6.582952e+30  2.435692e+33  9.012061e+35  3.334463e+38  \n",
      "860    2.385721e+28  9.065738e+30  3.444980e+33  1.309093e+36  4.974552e+38  \n",
      "18379  2.676970e+28  1.027956e+31  3.947353e+33  1.515783e+36  5.820608e+38  \n",
      "4868   3.174758e+28  1.238156e+31  4.828807e+33  1.883235e+36  7.344616e+38  \n"
     ]
    }
   ],
   "source": [
    "feature_15 = polynomial_sframe(feature, 15)\n",
    "\n",
    "print(feature_15.head())"
   ]
  },
  {
   "cell_type": "markdown",
   "metadata": {},
   "source": [
    "Ridge Regression"
   ]
  },
  {
   "cell_type": "code",
   "execution_count": 9,
   "metadata": {},
   "outputs": [],
   "source": [
    "l2_small_penalty = 1.5e-5"
   ]
  },
  {
   "cell_type": "code",
   "execution_count": 10,
   "metadata": {},
   "outputs": [],
   "source": [
    "model = Ridge(alpha=l2_small_penalty, normalize=True)"
   ]
  },
  {
   "cell_type": "code",
   "execution_count": 11,
   "metadata": {},
   "outputs": [
    {
     "data": {
      "text/plain": [
       "Ridge(alpha=1.5e-05, copy_X=True, fit_intercept=True, max_iter=None,\n",
       "   normalize=True, random_state=None, solver='auto', tol=0.001)"
      ]
     },
     "execution_count": 11,
     "metadata": {},
     "output_type": "execute_result"
    }
   ],
   "source": [
    "model.fit(feature_15, pd.DataFrame(output))"
   ]
  },
  {
   "cell_type": "code",
   "execution_count": 12,
   "metadata": {},
   "outputs": [
    {
     "data": {
      "text/plain": [
       "array([[ 1.24873306e+02, -4.77376011e-02,  3.01446238e-05,\n",
       "        -2.44419942e-09, -1.94153675e-13,  8.54085686e-18,\n",
       "         1.51142121e-21,  8.27979094e-26,  6.52603100e-31,\n",
       "        -3.27895017e-34, -3.87962315e-38, -2.72437650e-42,\n",
       "        -1.07790800e-46,  3.78242694e-51,  1.39790296e-54]])"
      ]
     },
     "execution_count": 12,
     "metadata": {},
     "output_type": "execute_result"
    }
   ],
   "source": [
    "model.coef_"
   ]
  },
  {
   "cell_type": "markdown",
   "metadata": {},
   "source": [
    "Qn 2,3"
   ]
  },
  {
   "cell_type": "code",
   "execution_count": 14,
   "metadata": {},
   "outputs": [],
   "source": [
    "set_1 = pd.read_csv('wk3_kc_house_set_1_data.csv', dtype=dtype_dict)\n",
    "set_2 = pd.read_csv('wk3_kc_house_set_2_data.csv', dtype=dtype_dict)\n",
    "set_3 = pd.read_csv('wk3_kc_house_set_3_data.csv', dtype=dtype_dict)\n",
    "set_4 = pd.read_csv('wk3_kc_house_set_4_data.csv', dtype=dtype_dict)"
   ]
  },
  {
   "cell_type": "code",
   "execution_count": 15,
   "metadata": {},
   "outputs": [],
   "source": [
    "l2_small_penalty=1e-9"
   ]
  },
  {
   "cell_type": "code",
   "execution_count": 16,
   "metadata": {},
   "outputs": [],
   "source": [
    "set_1_15 = polynomial_sframe(set_1['sqft_living'], 15)\n",
    "set_2_15 = polynomial_sframe(set_2['sqft_living'], 15)\n",
    "set_3_15 = polynomial_sframe(set_3['sqft_living'], 15)\n",
    "set_4_15 = polynomial_sframe(set_4['sqft_living'], 15)"
   ]
  },
  {
   "cell_type": "code",
   "execution_count": 17,
   "metadata": {},
   "outputs": [],
   "source": [
    "model = Ridge(alpha=l2_small_penalty, normalize=True)"
   ]
  },
  {
   "cell_type": "code",
   "execution_count": 18,
   "metadata": {},
   "outputs": [
    {
     "data": {
      "text/plain": [
       "array([[ 5.44669399e+02, -3.55447605e-01,  1.22446380e-04,\n",
       "        -1.17175307e-08, -3.90512698e-13, -1.39075910e-17,\n",
       "         1.47860283e-20,  6.87491630e-25, -7.57203971e-29,\n",
       "        -1.04097276e-32, -3.71844269e-37,  3.39989255e-41,\n",
       "         5.56592051e-45,  2.53761389e-49, -3.35152915e-53]])"
      ]
     },
     "execution_count": 18,
     "metadata": {},
     "output_type": "execute_result"
    }
   ],
   "source": [
    "### Model1\n",
    "\n",
    "model.fit(set_1_15, pd.DataFrame(set_1['price']))\n",
    "model.coef_"
   ]
  },
  {
   "cell_type": "code",
   "execution_count": 19,
   "metadata": {},
   "outputs": [
    {
     "data": {
      "text/plain": [
       "array([[ 8.59362651e+02, -8.18118278e-01,  4.28879983e-04,\n",
       "        -9.12770660e-08, -2.69604404e-12,  3.73980300e-15,\n",
       "        -1.42711882e-19, -6.30794703e-23, -1.44559628e-27,\n",
       "         7.44321353e-31,  9.25865883e-35,  3.28010472e-41,\n",
       "        -1.29543508e-42, -1.38781255e-46,  1.66546444e-50]])"
      ]
     },
     "execution_count": 19,
     "metadata": {},
     "output_type": "execute_result"
    }
   ],
   "source": [
    "### Model2\n",
    "\n",
    "model.fit(set_2_15, pd.DataFrame(set_2['price']))\n",
    "model.coef_"
   ]
  },
  {
   "cell_type": "code",
   "execution_count": 20,
   "metadata": {},
   "outputs": [
    {
     "data": {
      "text/plain": [
       "array([[-7.55395963e+02,  9.75579541e-01, -4.58946006e-04,\n",
       "         7.77958112e-08,  7.15013417e-12, -2.88602002e-15,\n",
       "        -2.13677720e-20,  3.38085194e-23,  2.19178226e-27,\n",
       "        -1.97067793e-31, -4.15993202e-35, -1.80196143e-39,\n",
       "         3.19071198e-43,  5.08456859e-47, -3.93304243e-51]])"
      ]
     },
     "execution_count": 20,
     "metadata": {},
     "output_type": "execute_result"
    }
   ],
   "source": [
    "### Model3\n",
    "\n",
    "model.fit(set_3_15, pd.DataFrame(set_3['price']))\n",
    "model.coef_"
   ]
  },
  {
   "cell_type": "code",
   "execution_count": 21,
   "metadata": {},
   "outputs": [
    {
     "data": {
      "text/plain": [
       "array([[ 1.11944571e+03, -9.83760212e-01,  3.38770897e-04,\n",
       "         3.60377210e-08, -4.37814017e-11,  5.77191690e-15,\n",
       "         7.66795221e-19, -9.49297664e-23, -1.96030821e-26,\n",
       "        -2.10880284e-32,  3.31005065e-34,  3.47733891e-38,\n",
       "        -2.43039323e-42, -8.79553219e-46,  6.44569659e-50]])"
      ]
     },
     "execution_count": 21,
     "metadata": {},
     "output_type": "execute_result"
    }
   ],
   "source": [
    "### Model4\n",
    "\n",
    "model.fit(set_4_15, pd.DataFrame(set_4['price']))\n",
    "model.coef_"
   ]
  },
  {
   "cell_type": "markdown",
   "metadata": {},
   "source": [
    "Qn 4,5"
   ]
  },
  {
   "cell_type": "code",
   "execution_count": 22,
   "metadata": {},
   "outputs": [],
   "source": [
    "l2_large_penalty=1.23e2"
   ]
  },
  {
   "cell_type": "code",
   "execution_count": 23,
   "metadata": {},
   "outputs": [],
   "source": [
    "model = Ridge(alpha=l2_large_penalty, normalize=True)"
   ]
  },
  {
   "cell_type": "code",
   "execution_count": 24,
   "metadata": {},
   "outputs": [
    {
     "data": {
      "text/plain": [
       "array([[2.32806803e+00, 3.53621608e-04, 3.31969692e-08, 2.00082477e-12,\n",
       "        1.11492559e-16, 6.57786122e-21, 4.12939525e-25, 2.70393755e-29,\n",
       "        1.81614763e-33, 1.23824277e-37, 8.51872481e-42, 5.89455598e-46,\n",
       "        4.09542560e-50, 2.85464889e-54, 1.99547476e-58]])"
      ]
     },
     "execution_count": 24,
     "metadata": {},
     "output_type": "execute_result"
    }
   ],
   "source": [
    "### Model1\n",
    "\n",
    "model.fit(set_1_15, pd.DataFrame(set_1['price']))\n",
    "model.coef_"
   ]
  },
  {
   "cell_type": "code",
   "execution_count": 25,
   "metadata": {},
   "outputs": [
    {
     "data": {
      "text/plain": [
       "array([[2.09756903e+00, 3.90817483e-04, 6.67189944e-08, 8.90002997e-12,\n",
       "        9.72639877e-16, 9.69733682e-20, 9.50564475e-24, 9.44491031e-28,\n",
       "        9.57191338e-32, 9.86945155e-36, 1.03101115e-39, 1.08729784e-43,\n",
       "        1.15453748e-47, 1.23211305e-51, 1.31986696e-55]])"
      ]
     },
     "execution_count": 25,
     "metadata": {},
     "output_type": "execute_result"
    }
   ],
   "source": [
    "### Model2\n",
    "\n",
    "model.fit(set_2_15, pd.DataFrame(set_2['price']))\n",
    "model.coef_"
   ]
  },
  {
   "cell_type": "code",
   "execution_count": 26,
   "metadata": {},
   "outputs": [
    {
     "data": {
      "text/plain": [
       "array([[2.28906258e+00, 4.12472190e-04, 6.08835345e-08, 6.58572163e-12,\n",
       "        6.15278155e-16, 5.64446634e-20, 5.28834396e-24, 5.07091402e-28,\n",
       "        4.94657273e-32, 4.88043809e-36, 4.85009106e-40, 4.84161534e-44,\n",
       "        4.84635021e-48, 4.85883628e-52, 4.87558469e-56]])"
      ]
     },
     "execution_count": 26,
     "metadata": {},
     "output_type": "execute_result"
    }
   ],
   "source": [
    "### Model3\n",
    "\n",
    "model.fit(set_3_15, pd.DataFrame(set_3['price']))\n",
    "model.coef_"
   ]
  },
  {
   "cell_type": "code",
   "execution_count": 27,
   "metadata": {},
   "outputs": [
    {
     "data": {
      "text/plain": [
       "array([[2.08596194e+00, 4.05035772e-04, 7.46864647e-08, 1.13096608e-11,\n",
       "        1.45864442e-15, 1.73561251e-19, 2.01609632e-23, 2.34605255e-27,\n",
       "        2.75636073e-31, 3.27043069e-35, 3.91046855e-39, 4.70118041e-43,\n",
       "        5.67212304e-47, 6.85958087e-51, 8.30843630e-55]])"
      ]
     },
     "execution_count": 27,
     "metadata": {},
     "output_type": "execute_result"
    }
   ],
   "source": [
    "### Model4\n",
    "\n",
    "model.fit(set_4_15, pd.DataFrame(set_4['price']))\n",
    "model.coef_"
   ]
  },
  {
   "cell_type": "markdown",
   "metadata": {},
   "source": [
    "Qn 6"
   ]
  },
  {
   "cell_type": "code",
   "execution_count": 28,
   "metadata": {},
   "outputs": [
    {
     "name": "stdout",
     "output_type": "stream",
     "text": [
      "           id             date     price  bedrooms  bathrooms  sqft_living  \\\n",
      "0  2780400035  20140505T000000  665000.0       4.0       2.50       2800.0   \n",
      "1  1703050500  20150321T000000  645000.0       3.0       2.50       2490.0   \n",
      "2  5700002325  20140605T000000  640000.0       3.0       1.75       2340.0   \n",
      "3  0475000510  20141118T000000  594000.0       3.0       1.00       1320.0   \n",
      "4  0844001052  20150128T000000  365000.0       4.0       2.50       1904.0   \n",
      "\n",
      "   sqft_lot  floors  waterfront  view     ...      grade  sqft_above  \\\n",
      "0      5900     1.0           0     0     ...          8        1660   \n",
      "1      5978     2.0           0     0     ...          9        2490   \n",
      "2      4206     1.0           0     0     ...          7        1170   \n",
      "3      5000     1.0           0     0     ...          7        1090   \n",
      "4      8200     2.0           0     0     ...          7        1904   \n",
      "\n",
      "   sqft_basement  yr_built  yr_renovated  zipcode      lat     long  \\\n",
      "0           1140      1963             0    98115  47.6809 -122.286   \n",
      "1              0      2003             0    98074  47.6298 -122.022   \n",
      "2           1170      1917             0    98144  47.5759 -122.288   \n",
      "3            230      1920             0    98107  47.6674 -122.365   \n",
      "4              0      1999             0    98010  47.3107 -122.001   \n",
      "\n",
      "   sqft_living15  sqft_lot15  \n",
      "0         2580.0      5900.0  \n",
      "1         2710.0      6629.0  \n",
      "2         1360.0      4725.0  \n",
      "3         1700.0      5000.0  \n",
      "4         1560.0     12426.0  \n",
      "\n",
      "[5 rows x 21 columns]\n",
      "           id             date     price  bedrooms  bathrooms  sqft_living  \\\n",
      "0  3793500160  20150312T000000  323000.0       3.0       2.50       1890.0   \n",
      "1  1175000570  20150312T000000  530000.0       5.0       2.00       1810.0   \n",
      "2  0016000397  20141205T000000  189000.0       2.0       1.00       1200.0   \n",
      "3  0461000390  20140624T000000  687500.0       4.0       1.75       2330.0   \n",
      "4  7895500070  20150213T000000  240000.0       4.0       1.00       1220.0   \n",
      "\n",
      "   sqft_lot  floors  waterfront  view     ...      grade  sqft_above  \\\n",
      "0      6560     2.0           0     0     ...          7        1890   \n",
      "1      4850     1.5           0     0     ...          7        1810   \n",
      "2      9850     1.0           0     0     ...          7        1200   \n",
      "3      5000     1.5           0     0     ...          7        1510   \n",
      "4      8075     1.0           0     0     ...          7         890   \n",
      "\n",
      "   sqft_basement  yr_built  yr_renovated  zipcode      lat     long  \\\n",
      "0              0      2003             0    98038  47.3684 -122.031   \n",
      "1              0      1900             0    98107  47.6700 -122.394   \n",
      "2              0      1921             0    98002  47.3089 -122.210   \n",
      "3            820      1929             0    98117  47.6823 -122.368   \n",
      "4            330      1969             0    98001  47.3341 -122.282   \n",
      "\n",
      "   sqft_living15  sqft_lot15  \n",
      "0         2390.0      7570.0  \n",
      "1         1360.0      4850.0  \n",
      "2         1060.0      5095.0  \n",
      "3         1460.0      5000.0  \n",
      "4         1290.0      7800.0  \n",
      "\n",
      "[5 rows x 21 columns]\n"
     ]
    }
   ],
   "source": [
    "train_valid_shuffled = pd.read_csv('wk3_kc_house_train_valid_shuffled.csv', dtype=dtype_dict)\n",
    "test = pd.read_csv('wk3_kc_house_test_data.csv', dtype=dtype_dict)\n",
    "\n",
    "print(train_valid_shuffled.head())\n",
    "print(test.head())"
   ]
  },
  {
   "cell_type": "code",
   "execution_count": 32,
   "metadata": {},
   "outputs": [
    {
     "name": "stdout",
     "output_type": "stream",
     "text": [
      "0 (0, 1938)\n",
      "1 (1939, 3878)\n",
      "2 (3879, 5817)\n",
      "3 (5818, 7757)\n",
      "4 (7758, 9697)\n",
      "5 (9698, 11636)\n",
      "6 (11637, 13576)\n",
      "7 (13577, 15515)\n",
      "8 (15516, 17455)\n",
      "9 (17456, 19395)\n"
     ]
    }
   ],
   "source": [
    "n = len(train_valid_shuffled)\n",
    "k = 10 # 10-fold cross-validation\n",
    "\n",
    "for i in range(k):\n",
    "    start = int((n*i)/k)\n",
    "    end = int((n*(i+1))/k-1)\n",
    "    print (i, (start, end))"
   ]
  },
  {
   "cell_type": "code",
   "execution_count": 63,
   "metadata": {},
   "outputs": [],
   "source": [
    "def k_fold_cross_validation(k, l2_penalty, data, output):\n",
    "    rss=[]\n",
    "    for i in range(k-1):\n",
    "        \n",
    "        output = pd.DataFrame(output)\n",
    "        \n",
    "        start = int((n*i)/k)\n",
    "        end = int((n*(i+1))/k-1)\n",
    "        \n",
    "        train_15 = pd.concat([data.loc[:start,:],data.loc[end:,:]])\n",
    "        valid = data.loc[start:end,:]\n",
    "        \n",
    "        train_out = pd.concat([output.loc[:start,:],output.loc[end:,:]])\n",
    "        valid_out = output.loc[start:end]\n",
    "        \n",
    "        model = Ridge(alpha=l2_penalty, normalize=True)\n",
    "        model.fit(train_15, pd.DataFrame(train_out))\n",
    "        \n",
    "        predict = model.predict(valid)\n",
    "        \n",
    "        rss.append(mean_squared_error(valid_out, predict))\n",
    "        \n",
    "    return np.mean(rss)"
   ]
  },
  {
   "cell_type": "code",
   "execution_count": 31,
   "metadata": {},
   "outputs": [
    {
     "name": "stdout",
     "output_type": "stream",
     "text": [
      "   power_1    power_2       power_3       power_4       power_5       power_6  \\\n",
      "0   2800.0  7840000.0  2.195200e+10  6.146560e+13  1.721037e+17  4.818903e+20   \n",
      "1   2490.0  6200100.0  1.543825e+10  3.844124e+13  9.571869e+16  2.383395e+20   \n",
      "2   2340.0  5475600.0  1.281290e+10  2.998220e+13  7.015834e+16  1.641705e+20   \n",
      "3   1320.0  1742400.0  2.299968e+09  3.035958e+12  4.007464e+15  5.289853e+18   \n",
      "4   1904.0  3625216.0  6.902411e+09  1.314219e+13  2.502273e+16  4.764328e+19   \n",
      "\n",
      "        power_7       power_8       power_9      power_10      power_11  \\\n",
      "0  1.349293e+24  3.778020e+27  1.057846e+31  2.961968e+34  8.293509e+37   \n",
      "1  5.934654e+23  1.477729e+27  3.679545e+30  9.162067e+33  2.281355e+37   \n",
      "2  3.841590e+23  8.989320e+26  2.103501e+30  4.922192e+33  1.151793e+37   \n",
      "3  6.982606e+21  9.217040e+24  1.216649e+28  1.605977e+31  2.119890e+34   \n",
      "4  9.071281e+22  1.727172e+26  3.288535e+29  6.261371e+32  1.192165e+36   \n",
      "\n",
      "       power_12      power_13      power_14      power_15  \n",
      "0  2.322183e+41  6.502111e+44  1.820591e+48  5.097655e+51  \n",
      "1  5.680573e+40  1.414463e+44  3.522012e+47  8.769810e+50  \n",
      "2  2.695196e+40  6.306758e+43  1.475781e+47  3.453328e+50  \n",
      "3  2.798254e+37  3.693696e+40  4.875678e+43  6.435895e+46  \n",
      "4  2.269882e+39  4.321856e+42  8.228813e+45  1.566766e+49  \n"
     ]
    }
   ],
   "source": [
    "train_valid_shuffled_15 = polynomial_sframe(train_valid_shuffled['sqft_living'], 15)\n",
    "\n",
    "print(train_valid_shuffled_15.head())"
   ]
  },
  {
   "cell_type": "code",
   "execution_count": 94,
   "metadata": {
    "scrolled": true
   },
   "outputs": [],
   "source": [
    "penalty = np.logspace(3, 9, num=13)\n",
    "rss_penalty = []\n",
    "\n",
    "for item in penalty:\n",
    "    rss_penalty.append(k_fold_cross_validation(10, item, train_valid_shuffled_15, train_valid_shuffled['price']))"
   ]
  },
  {
   "cell_type": "code",
   "execution_count": 101,
   "metadata": {},
   "outputs": [
    {
     "name": "stdout",
     "output_type": "stream",
     "text": [
      "1000.0\n"
     ]
    }
   ],
   "source": [
    "index = rss_penalty.index(min(rss_penalty))\n",
    "print(penalty[index])"
   ]
  },
  {
   "cell_type": "markdown",
   "metadata": {},
   "source": [
    "Qn 7"
   ]
  },
  {
   "cell_type": "code",
   "execution_count": 75,
   "metadata": {},
   "outputs": [
    {
     "name": "stdout",
     "output_type": "stream",
     "text": [
      "   power_1    power_2       power_3       power_4       power_5       power_6  \\\n",
      "0   1890.0  3572100.0  6.751269e+09  1.275990e+13  2.411621e+16  4.557963e+19   \n",
      "1   1810.0  3276100.0  5.929741e+09  1.073283e+13  1.942642e+16  3.516183e+19   \n",
      "2   1200.0  1440000.0  1.728000e+09  2.073600e+12  2.488320e+15  2.985984e+18   \n",
      "3   2330.0  5428900.0  1.264934e+10  2.947296e+13  6.867199e+16  1.600057e+20   \n",
      "4   1220.0  1488400.0  1.815848e+09  2.215335e+12  2.702708e+15  3.297304e+18   \n",
      "\n",
      "        power_7       power_8       power_9      power_10      power_11  \\\n",
      "0  8.614551e+22  1.628150e+26  3.077204e+29  5.815915e+32  1.099208e+36   \n",
      "1  6.364291e+22  1.151937e+26  2.085005e+29  3.773860e+32  6.830686e+35   \n",
      "2  3.583181e+21  4.299817e+24  5.159780e+27  6.191736e+30  7.430084e+33   \n",
      "3  3.728133e+23  8.686551e+26  2.023966e+30  4.715842e+33  1.098791e+37   \n",
      "4  4.022711e+21  4.907707e+24  5.987403e+27  7.304631e+30  8.911650e+33   \n",
      "\n",
      "       power_12      power_13      power_14      power_15  \n",
      "0  2.077503e+39  3.926481e+42  7.421048e+45  1.402578e+49  \n",
      "1  1.236354e+39  2.237801e+42  4.050420e+45  7.331260e+48  \n",
      "2  8.916100e+36  1.069932e+40  1.283918e+43  1.540702e+46  \n",
      "3  2.560183e+40  5.965227e+43  1.389898e+47  3.238462e+50  \n",
      "4  1.087221e+37  1.326410e+40  1.618220e+43  1.974229e+46  \n"
     ]
    }
   ],
   "source": [
    "test_15 = polynomial_sframe(test['sqft_living'], 15)\n",
    "\n",
    "print(test_15.head())"
   ]
  },
  {
   "cell_type": "code",
   "execution_count": 87,
   "metadata": {},
   "outputs": [],
   "source": [
    "model = Ridge(alpha=1000, normalize=True)"
   ]
  },
  {
   "cell_type": "code",
   "execution_count": 88,
   "metadata": {},
   "outputs": [
    {
     "data": {
      "text/plain": [
       "Ridge(alpha=1000, copy_X=True, fit_intercept=True, max_iter=None,\n",
       "   normalize=True, random_state=None, solver='auto', tol=0.001)"
      ]
     },
     "execution_count": 88,
     "metadata": {},
     "output_type": "execute_result"
    }
   ],
   "source": [
    "model.fit(train_valid_shuffled_15, pd.DataFrame(train_valid_shuffled['price']))"
   ]
  },
  {
   "cell_type": "code",
   "execution_count": 89,
   "metadata": {},
   "outputs": [
    {
     "data": {
      "text/plain": [
       "array([[538912.62911772],\n",
       "       [538869.40381503],\n",
       "       [538576.80910253],\n",
       "       ...,\n",
       "       [539536.98628839],\n",
       "       [538551.27510185],\n",
       "       [538581.11747518]])"
      ]
     },
     "execution_count": 89,
     "metadata": {},
     "output_type": "execute_result"
    }
   ],
   "source": [
    "predict = model.predict(test_15)\n",
    "\n",
    "predict"
   ]
  },
  {
   "cell_type": "code",
   "execution_count": 90,
   "metadata": {},
   "outputs": [
    {
     "data": {
      "text/plain": [
       "2217"
      ]
     },
     "execution_count": 90,
     "metadata": {},
     "output_type": "execute_result"
    }
   ],
   "source": [
    "n = len(predict)\n",
    "\n",
    "n"
   ]
  },
  {
   "cell_type": "code",
   "execution_count": 91,
   "metadata": {},
   "outputs": [
    {
     "data": {
      "text/plain": [
       "2.8385686122415086"
      ]
     },
     "execution_count": 91,
     "metadata": {},
     "output_type": "execute_result"
    }
   ],
   "source": [
    "rss = mean_squared_error(test['price'],predict) * n\n",
    "\n",
    "rss/10e13"
   ]
  }
 ],
 "metadata": {
  "kernelspec": {
   "display_name": "Python 3",
   "language": "python",
   "name": "python3"
  },
  "language_info": {
   "codemirror_mode": {
    "name": "ipython",
    "version": 3
   },
   "file_extension": ".py",
   "mimetype": "text/x-python",
   "name": "python",
   "nbconvert_exporter": "python",
   "pygments_lexer": "ipython3",
   "version": "3.6.4"
  }
 },
 "nbformat": 4,
 "nbformat_minor": 2
}
