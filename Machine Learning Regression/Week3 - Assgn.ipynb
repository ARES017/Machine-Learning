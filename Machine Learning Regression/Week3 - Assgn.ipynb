{
 "cells": [
  {
   "cell_type": "markdown",
   "metadata": {},
   "source": [
    "Importing Libraries"
   ]
  },
  {
   "cell_type": "code",
   "execution_count": 16,
   "metadata": {},
   "outputs": [],
   "source": [
    "import pandas as pd\n",
    "import numpy as np\n",
    "from sklearn.linear_model import LinearRegression\n",
    "import matplotlib.pyplot as plt"
   ]
  },
  {
   "cell_type": "markdown",
   "metadata": {},
   "source": [
    "Changing Column Type"
   ]
  },
  {
   "cell_type": "code",
   "execution_count": 2,
   "metadata": {},
   "outputs": [],
   "source": [
    "dtype_dict = {'bathrooms':float, 'waterfront':int, 'sqft_above':int, 'sqft_living15':float, 'grade':int, 'yr_renovated':int, 'price':float, 'bedrooms':float, 'zipcode':str, 'long':float, 'sqft_lot15':float, 'sqft_living':float, 'floors':str, 'condition':int, 'lat':float, 'date':str, 'sqft_basement':int, 'yr_built':int, 'id':str, 'sqft_lot':int, 'view':int}"
   ]
  },
  {
   "cell_type": "markdown",
   "metadata": {},
   "source": [
    "Add Feature to DataFrame"
   ]
  },
  {
   "cell_type": "code",
   "execution_count": 32,
   "metadata": {},
   "outputs": [],
   "source": [
    "def polynomial_dataframe(feature, degree): # feature is pandas.Series type\n",
    "    \n",
    "    # assume that degree >= 1\n",
    "    # initialize the dataframe:\n",
    "    poly_dataframe = pd.DataFrame()\n",
    "    \n",
    "    # and set poly_dataframe['power_1'] equal to the passed feature\n",
    "    poly_dataframe['power_1'] = feature\n",
    "    \n",
    "    # first check if degree > 1\n",
    "    if degree > 1:\n",
    "        # then loop over the remaining degrees:\n",
    "        for power in range(2, degree+1):\n",
    "            # first we'll give the column a name:\n",
    "            name = 'power_' + str(power)\n",
    "            \n",
    "            # assign poly_dataframe[name] to be feature^power; use apply(*)\n",
    "            poly_dataframe[name] = poly_dataframe['power_1'].apply(lambda x:x ** power)\n",
    "            \n",
    "    return poly_dataframe"
   ]
  },
  {
   "cell_type": "code",
   "execution_count": 6,
   "metadata": {},
   "outputs": [
    {
     "name": "stdout",
     "output_type": "stream",
     "text": [
      "           id             date     price  bedrooms  bathrooms  sqft_living  \\\n",
      "0  7129300520  20141013T000000  221900.0       3.0       1.00       1180.0   \n",
      "1  6414100192  20141209T000000  538000.0       3.0       2.25       2570.0   \n",
      "2  5631500400  20150225T000000  180000.0       2.0       1.00        770.0   \n",
      "3  2487200875  20141209T000000  604000.0       4.0       3.00       1960.0   \n",
      "4  1954400510  20150218T000000  510000.0       3.0       2.00       1680.0   \n",
      "\n",
      "   sqft_lot floors  waterfront  view     ...      grade  sqft_above  \\\n",
      "0      5650      1           0     0     ...          7        1180   \n",
      "1      7242      2           0     0     ...          7        2170   \n",
      "2     10000      1           0     0     ...          6         770   \n",
      "3      5000      1           0     0     ...          7        1050   \n",
      "4      8080      1           0     0     ...          8        1680   \n",
      "\n",
      "   sqft_basement  yr_built  yr_renovated  zipcode      lat     long  \\\n",
      "0              0      1955             0    98178  47.5112 -122.257   \n",
      "1            400      1951          1991    98125  47.7210 -122.319   \n",
      "2              0      1933             0    98028  47.7379 -122.233   \n",
      "3            910      1965             0    98136  47.5208 -122.393   \n",
      "4              0      1987             0    98074  47.6168 -122.045   \n",
      "\n",
      "   sqft_living15  sqft_lot15  \n",
      "0         1340.0      5650.0  \n",
      "1         1690.0      7639.0  \n",
      "2         2720.0      8062.0  \n",
      "3         1360.0      5000.0  \n",
      "4         1800.0      7503.0  \n",
      "\n",
      "[5 rows x 21 columns]\n"
     ]
    }
   ],
   "source": [
    "sales = pd.read_csv('kc_house_data.csv', dtype=dtype_dict)\n",
    "\n",
    "print(sales.head())"
   ]
  },
  {
   "cell_type": "code",
   "execution_count": 9,
   "metadata": {},
   "outputs": [
    {
     "name": "stdout",
     "output_type": "stream",
     "text": [
      "               id             date      price  bedrooms  bathrooms  \\\n",
      "19452  3980300371  20140926T000000   142000.0       0.0       0.00   \n",
      "15381  2856101479  20140701T000000   276000.0       1.0       0.75   \n",
      "860    1723049033  20140620T000000   245000.0       1.0       0.75   \n",
      "18379  1222029077  20141029T000000   265000.0       0.0       0.75   \n",
      "4868   6896300380  20141002T000000   228000.0       0.0       1.00   \n",
      "21332  9266700190  20150511T000000   245000.0       1.0       1.00   \n",
      "8623   6303400395  20150130T000000   325000.0       1.0       0.75   \n",
      "11500  4322200105  20150331T000000   229050.0       1.0       1.00   \n",
      "14466  7549801385  20140612T000000   280000.0       1.0       0.75   \n",
      "465    8658300340  20140523T000000    80000.0       1.0       0.75   \n",
      "1168   3523029041  20141009T000000   290000.0       2.0       0.75   \n",
      "18052  1352300580  20141114T000000   247000.0       1.0       1.00   \n",
      "12075  8655900162  20150219T000000   156000.0       1.0       0.75   \n",
      "15248  1320069249  20141020T000000   192500.0       1.0       1.00   \n",
      "17394  0745000005  20140825T000000   145000.0       1.0       0.75   \n",
      "8133   7849202585  20140904T000000   170000.0       1.0       1.00   \n",
      "4203   1437500015  20140709T000000   150000.0       3.0       0.75   \n",
      "4651   0859000110  20141002T000000   125000.0       1.0       1.00   \n",
      "2141   1623049041  20140508T000000    82500.0       2.0       1.00   \n",
      "3223   2420069251  20150225T000000   262000.0       1.0       0.75   \n",
      "18059  1773101530  20141218T000000   275000.0       1.0       1.00   \n",
      "2930   3702900165  20141104T000000   295000.0       1.0       1.00   \n",
      "6779   7588700177  20150420T000000   310000.0       1.0       0.75   \n",
      "9641   4391600065  20140814T000000   330000.0       2.0       0.75   \n",
      "12484  1172000150  20140829T000000   238000.0       1.0       1.00   \n",
      "3582   1925069006  20141203T000000   355000.0       1.0       0.75   \n",
      "7017   0203100460  20140924T000000   400000.0       1.0       1.00   \n",
      "14450  0126039305  20141013T000000   345000.0       1.0       1.00   \n",
      "12757  2767603026  20150415T000000   425000.0       2.0       1.00   \n",
      "18508  0623049232  20140715T000000   115000.0       2.0       0.75   \n",
      "...           ...              ...        ...       ...        ...   \n",
      "12872  2424049029  20140529T000000  3100000.0       6.0       4.25   \n",
      "15482  0624069108  20140812T000000  3200000.0       4.0       3.25   \n",
      "7035   0853200010  20140701T000000  3800000.0       5.0       5.50   \n",
      "4149   6447300265  20141014T000000  4000000.0       4.0       5.50   \n",
      "7907   1068000375  20140923T000000  3200000.0       6.0       5.00   \n",
      "21050  2424059170  20150219T000000   900000.0       5.0       6.00   \n",
      "6501   2626069030  20150209T000000  1940000.0       4.0       5.75   \n",
      "21506  2524069097  20140509T000000  2238890.0       5.0       6.50   \n",
      "18594  3023069166  20140708T000000  1135250.0       5.0       4.00   \n",
      "2713   7851980260  20140730T000000  1110000.0       5.0       3.50   \n",
      "1315   7558700030  20150413T000000  5300000.0       6.0       6.00   \n",
      "10373  3303850390  20141212T000000  2983000.0       5.0       5.50   \n",
      "11871  8835800350  20150112T000000  1950000.0       4.0       3.25   \n",
      "12370  6065300370  20150506T000000  4208000.0       5.0       6.00   \n",
      "4024   9175600025  20141007T000000   800000.0       7.0       6.75   \n",
      "14032  3459900230  20141125T000000  1680000.0       4.0       3.75   \n",
      "18477  1346300150  20141020T000000  3300000.0       8.0       4.00   \n",
      "16773  1630700380  20150130T000000  1920000.0       5.0       5.75   \n",
      "19858  2524069078  20150122T000000  2700000.0       4.0       4.00   \n",
      "13411  2426039123  20150130T000000  2415000.0       5.0       4.75   \n",
      "1448   8907500070  20150413T000000  5350000.0       5.0       5.00   \n",
      "1164   1247600105  20141020T000000  5110800.0       5.0       5.25   \n",
      "18302  6072800246  20140702T000000  3300000.0       5.0       6.25   \n",
      "14556  2303900035  20140611T000000  2888000.0       5.0       6.25   \n",
      "4411   2470100110  20140804T000000  5570000.0       5.0       5.75   \n",
      "8092   1924059029  20140617T000000  4668000.0       5.0       6.75   \n",
      "9254   9208900037  20140919T000000  6885000.0       6.0       7.75   \n",
      "3914   9808700762  20140611T000000  7062500.0       5.0       4.50   \n",
      "7252   6762700020  20141013T000000  7700000.0       6.0       8.00   \n",
      "12777  1225069038  20140505T000000  2280000.0       7.0       8.00   \n",
      "\n",
      "       sqft_living  sqft_lot floors  waterfront  view     ...      grade  \\\n",
      "19452        290.0     20875      1           0     0     ...          1   \n",
      "15381        370.0      1801      1           0     0     ...          5   \n",
      "860          380.0     15000      1           0     0     ...          5   \n",
      "18379        384.0    213444      1           0     0     ...          4   \n",
      "4868         390.0      5900      1           0     0     ...          4   \n",
      "21332        390.0      2000      1           0     0     ...          6   \n",
      "8623         410.0      8636      1           0     0     ...          4   \n",
      "11500        420.0      3298      1           0     0     ...          4   \n",
      "14466        420.0      6720      1           0     0     ...          5   \n",
      "465          430.0      5050      1           0     0     ...          4   \n",
      "1168         440.0      8313      1           1     3     ...          5   \n",
      "18052        460.0      4120      1           0     0     ...          4   \n",
      "12075        470.0     15000      1           0     0     ...          4   \n",
      "15248        470.0     63737      1           0     2     ...          5   \n",
      "17394        480.0      9750      1           0     0     ...          4   \n",
      "8133         480.0      4560      1           0     0     ...          5   \n",
      "4203         490.0     38500    1.5           0     0     ...          5   \n",
      "4651         500.0      7440      1           0     0     ...          5   \n",
      "2141         520.0     22334      1           0     0     ...          5   \n",
      "3223         520.0     12981      1           0     0     ...          3   \n",
      "18059        520.0      4800      1           0     0     ...          5   \n",
      "2930         520.0      5600      1           0     0     ...          6   \n",
      "6779         520.0      2885      1           0     0     ...          6   \n",
      "9641         520.0      6862      1           0     0     ...          4   \n",
      "12484        530.0      6350      1           0     0     ...          5   \n",
      "3582         530.0     33278      1           0     2     ...          4   \n",
      "7017         530.0     13679      1           0     0     ...          6   \n",
      "14450        540.0     10125      1           0     0     ...          5   \n",
      "12757        540.0      2500      1           0     0     ...          5   \n",
      "18508        550.0      7980      1           0     0     ...          5   \n",
      "...            ...       ...    ...         ...   ...     ...        ...   \n",
      "12872       6980.0     15682      3           0     4     ...         12   \n",
      "15482       7000.0     28206      1           1     4     ...         12   \n",
      "7035        7050.0     42840      1           0     2     ...         13   \n",
      "4149        7080.0     16573      2           0     0     ...         12   \n",
      "7907        7100.0     18200    2.5           0     0     ...         13   \n",
      "21050       7120.0     40806      2           0     4     ...         12   \n",
      "6501        7220.0    223462      2           0     4     ...         12   \n",
      "21506       7270.0    130017      2           0     0     ...         12   \n",
      "18594       7320.0    217800      2           0     0     ...         11   \n",
      "2713        7350.0     12231      2           0     4     ...         11   \n",
      "1315        7390.0     24829      2           1     4     ...         12   \n",
      "10373       7400.0     18898      2           0     3     ...         13   \n",
      "11871       7420.0    167869      2           0     3     ...         12   \n",
      "12370       7440.0     21540      2           0     0     ...         12   \n",
      "4024        7480.0     41664      2           0     2     ...         11   \n",
      "14032       7620.0     29536      2           0     3     ...         11   \n",
      "18477       7710.0     11750    3.5           0     0     ...         12   \n",
      "16773       7730.0    230868      2           0     0     ...         12   \n",
      "19858       7850.0     89651      2           0     0     ...         12   \n",
      "13411       7880.0     24250      2           0     2     ...         13   \n",
      "1448        8000.0     23985      2           0     4     ...         12   \n",
      "1164        8010.0     45517      2           1     4     ...         12   \n",
      "18302       8020.0     21738      2           0     0     ...         11   \n",
      "14556       8670.0     64033      2           0     4     ...         13   \n",
      "4411        9200.0     35069      2           0     0     ...         13   \n",
      "8092        9640.0     13068      1           1     4     ...         12   \n",
      "9254        9890.0     31374      2           0     4     ...         13   \n",
      "3914       10040.0     37325      2           1     2     ...         11   \n",
      "7252       12050.0     27600    2.5           0     3     ...         13   \n",
      "12777      13540.0    307752      3           0     4     ...         12   \n",
      "\n",
      "       sqft_above  sqft_basement  yr_built  yr_renovated  zipcode      lat  \\\n",
      "19452         290              0      1963             0    98024  47.5308   \n",
      "15381         370              0      1923             0    98117  47.6778   \n",
      "860           380              0      1963             0    98168  47.4810   \n",
      "18379         384              0      2003             0    98070  47.4177   \n",
      "4868          390              0      1953             0    98118  47.5260   \n",
      "21332         390              0      1920             0    98103  47.6938   \n",
      "8623          410              0      1953             0    98146  47.5077   \n",
      "11500         420              0      1949             0    98136  47.5375   \n",
      "14466         420              0      1922             0    98108  47.5520   \n",
      "465           430              0      1912             0    98014  47.6499   \n",
      "1168          440              0      1943             0    98070  47.4339   \n",
      "18052         460              0      1937             0    98055  47.4868   \n",
      "12075         470              0      1947             0    98014  47.6554   \n",
      "15248         470              0      1924             0    98022  47.2163   \n",
      "17394         480              0      1948             0    98146  47.4982   \n",
      "8133          480              0      1922             0    98065  47.5253   \n",
      "4203          490              0      1959             0    98014  47.7112   \n",
      "4651          500              0      1928             0    98106  47.5252   \n",
      "2141          520              0      1951             0    98168  47.4799   \n",
      "3223          520              0      1920             0    98022  47.2082   \n",
      "18059         520              0      1930             0    98106  47.5533   \n",
      "2930          520              0      1918             0    98116  47.5579   \n",
      "6779          520              0      1947             0    98117  47.6886   \n",
      "9641          520              0      1924          1980    98010  47.3260   \n",
      "12484         530              0      1941             0    98103  47.6946   \n",
      "3582          530              0      1950             0    98074  47.6412   \n",
      "7017          530              0      1949             0    98053  47.6422   \n",
      "14450         540              0      1961             0    98177  47.7739   \n",
      "12757         540              0      1905             0    98107  47.6729   \n",
      "18508         550              0      1952             0    98146  47.5110   \n",
      "...           ...            ...       ...           ...      ...      ...   \n",
      "12872        5330           1650      1999             0    98040  47.5552   \n",
      "15482        3500           3500      1991             0    98075  47.5928   \n",
      "7035         4320           2730      1978             0    98004  47.6229   \n",
      "4149         5760           1320      2008             0    98039  47.6151   \n",
      "7907         5240           1860      1933          2002    98199  47.6427   \n",
      "21050        5480           1640      2007             0    98006  47.5451   \n",
      "6501         6220           1000      2000             0    98053  47.7097   \n",
      "21506        6420            850      2010             0    98027  47.5371   \n",
      "18594        7320              0      1992             0    98058  47.4473   \n",
      "2713         4750           2600      2001             0    98065  47.5373   \n",
      "1315         5000           2390      1991             0    98040  47.5631   \n",
      "10373        6290           1110      2001             0    98006  47.5431   \n",
      "11871        7420              0      2002             0    98045  47.4548   \n",
      "12370        5550           1890      2003             0    98006  47.5692   \n",
      "4024         5080           2400      1953             0    98166  47.4643   \n",
      "14032        5980           1640      2005             0    98006  47.5571   \n",
      "18477        6090           1620      1904             0    98112  47.6263   \n",
      "16773        6660           1070      2004             0    98077  47.7615   \n",
      "19858        7850              0      2006             0    98027  47.5406   \n",
      "13411        7880              0      1996             0    98177  47.7334   \n",
      "1448         6720           1280      2009             0    98004  47.6232   \n",
      "1164         5990           2020      1999             0    98033  47.6767   \n",
      "18302        8020              0      2001             0    98006  47.5675   \n",
      "14556        6120           2550      1965          2003    98177  47.7295   \n",
      "4411         6200           3000      2001             0    98039  47.6289   \n",
      "8092         4820           4820      1983          2009    98040  47.5570   \n",
      "9254         8860           1030      2001             0    98039  47.6305   \n",
      "3914         7680           2360      1940          2001    98004  47.6500   \n",
      "7252         8570           3480      1910          1987    98102  47.6298   \n",
      "12777        9410           4130      1999             0    98053  47.6675   \n",
      "\n",
      "          long  sqft_living15  sqft_lot15  \n",
      "19452 -121.888         1620.0     22850.0  \n",
      "15381 -122.389         1340.0      5000.0  \n",
      "860   -122.323         1170.0     15000.0  \n",
      "18379 -122.491         1920.0    224341.0  \n",
      "4868  -122.261         2170.0      6000.0  \n",
      "21332 -122.347         1340.0      5100.0  \n",
      "8623  -122.357         1190.0      8636.0  \n",
      "11500 -122.391         1460.0      4975.0  \n",
      "14466 -122.311         1420.0      6720.0  \n",
      "465   -121.909         1200.0      7500.0  \n",
      "1168  -122.512          880.0     26289.0  \n",
      "18052 -122.199          990.0      4120.0  \n",
      "12075 -121.908         1730.0     22500.0  \n",
      "15248 -121.984         1350.0     46762.0  \n",
      "17394 -122.362         1550.0      9924.0  \n",
      "8133  -121.826          890.0      4803.0  \n",
      "4203  -121.315          800.0     18297.0  \n",
      "4651  -122.362         1350.0      7440.0  \n",
      "2141  -122.296         1572.0     10570.0  \n",
      "3223  -121.995         1340.0     12233.0  \n",
      "18059 -122.363          800.0      4960.0  \n",
      "2930  -122.395         1030.0      5265.0  \n",
      "6779  -122.378          980.0      4241.0  \n",
      "9641  -122.037         1170.0      8756.0  \n",
      "12484 -122.357         1200.0      6350.0  \n",
      "3582  -122.079         2830.0     14311.0  \n",
      "7017  -121.954         1930.0     20624.0  \n",
      "14450 -122.358         1840.0     10125.0  \n",
      "12757 -122.383         1290.0      5000.0  \n",
      "18508 -122.348         1330.0      7980.0  \n",
      "...        ...            ...         ...  \n",
      "12872 -122.231         3930.0     18367.0  \n",
      "15482 -122.086         4913.0     14663.0  \n",
      "7035  -122.220         5070.0     20570.0  \n",
      "4149  -122.224         3140.0     15996.0  \n",
      "7907  -122.408         3130.0      6477.0  \n",
      "21050 -122.114         3440.0     36859.0  \n",
      "6501  -122.013         2680.0      7593.0  \n",
      "21506 -121.982         1800.0     44890.0  \n",
      "18594 -122.086         3270.0     34500.0  \n",
      "2713  -121.865         5380.0     12587.0  \n",
      "1315  -122.210         4320.0     24619.0  \n",
      "10373 -122.112         6110.0     26442.0  \n",
      "11871 -121.764         5610.0    169549.0  \n",
      "12370 -122.189         4740.0     19329.0  \n",
      "4024  -122.368         2810.0     33190.0  \n",
      "14032 -122.140         2840.0     20809.0  \n",
      "18477 -122.314         4210.0      8325.0  \n",
      "16773 -122.084         2660.0     39292.0  \n",
      "19858 -121.982         6210.0     95832.0  \n",
      "13411 -122.362         2740.0     10761.0  \n",
      "1448  -122.220         4600.0     21750.0  \n",
      "1164  -122.211         3430.0     26788.0  \n",
      "18302 -122.189         4160.0     18969.0  \n",
      "14556 -122.372         4140.0     81021.0  \n",
      "4411  -122.233         3560.0     24345.0  \n",
      "8092  -122.210         3270.0     10454.0  \n",
      "9254  -122.240         4540.0     42730.0  \n",
      "3914  -122.214         3930.0     25449.0  \n",
      "7252  -122.323         3940.0      8800.0  \n",
      "12777 -121.986         4850.0    217800.0  \n",
      "\n",
      "[21613 rows x 21 columns]\n"
     ]
    }
   ],
   "source": [
    "sales = sales.sort_values(['sqft_living','price'])\n",
    "\n",
    "print(sales)"
   ]
  },
  {
   "cell_type": "code",
   "execution_count": 26,
   "metadata": {},
   "outputs": [
    {
     "name": "stdout",
     "output_type": "stream",
     "text": [
      "       power_1     price\n",
      "19452    290.0  142000.0\n",
      "15381    370.0  276000.0\n",
      "860      380.0  245000.0\n",
      "18379    384.0  265000.0\n",
      "4868     390.0  228000.0\n"
     ]
    }
   ],
   "source": [
    "poly1_data = polynomial_dataframe(sales['sqft_living'], 1)\n",
    "poly1_data['price'] = sales['price']\n",
    "\n",
    "print(poly1_data.head())"
   ]
  },
  {
   "cell_type": "code",
   "execution_count": 12,
   "metadata": {},
   "outputs": [],
   "source": [
    "model = LinearRegression()"
   ]
  },
  {
   "cell_type": "markdown",
   "metadata": {},
   "source": [
    "First Degree Polynomial"
   ]
  },
  {
   "cell_type": "code",
   "execution_count": 54,
   "metadata": {},
   "outputs": [
    {
     "data": {
      "text/plain": [
       "LinearRegression(copy_X=True, fit_intercept=True, n_jobs=1, normalize=False)"
      ]
     },
     "execution_count": 54,
     "metadata": {},
     "output_type": "execute_result"
    }
   ],
   "source": [
    "model.fit(pd.DataFrame(poly1_data['power_1']),pd.DataFrame(poly1_data['price']))"
   ]
  },
  {
   "cell_type": "code",
   "execution_count": 25,
   "metadata": {},
   "outputs": [
    {
     "data": {
      "text/plain": [
       "[<matplotlib.lines.Line2D at 0x1db89b04198>,\n",
       " <matplotlib.lines.Line2D at 0x1db89b04668>]"
      ]
     },
     "execution_count": 25,
     "metadata": {},
     "output_type": "execute_result"
    },
    {
     "data": {
      "image/png": "[encoded data removed]",
      "text/plain": [
       "<matplotlib.figure.Figure at 0x1db83c36da0>"
      ]
     },
     "metadata": {},
     "output_type": "display_data"
    }
   ],
   "source": [
    "%matplotlib inline\n",
    "plt.plot(poly1_data['power_1'],poly1_data['price'],'.',\n",
    "poly1_data['power_1'], model.predict(pd.DataFrame(poly1_data['power_1'])),'-')"
   ]
  },
  {
   "cell_type": "markdown",
   "metadata": {},
   "source": [
    "Second Degree Polynomial"
   ]
  },
  {
   "cell_type": "code",
   "execution_count": 33,
   "metadata": {},
   "outputs": [
    {
     "name": "stdout",
     "output_type": "stream",
     "text": [
      "       power_1   power_2     price\n",
      "19452    290.0   84100.0  142000.0\n",
      "15381    370.0  136900.0  276000.0\n",
      "860      380.0  144400.0  245000.0\n",
      "18379    384.0  147456.0  265000.0\n",
      "4868     390.0  152100.0  228000.0\n"
     ]
    }
   ],
   "source": [
    "poly2_data = polynomial_dataframe(sales['sqft_living'], 2)\n",
    "poly2_data['price'] = sales['price']\n",
    "\n",
    "print(poly2_data.head())"
   ]
  },
  {
   "cell_type": "code",
   "execution_count": 39,
   "metadata": {},
   "outputs": [
    {
     "data": {
      "text/plain": [
       "LinearRegression(copy_X=True, fit_intercept=True, n_jobs=1, normalize=False)"
      ]
     },
     "execution_count": 39,
     "metadata": {},
     "output_type": "execute_result"
    }
   ],
   "source": [
    "model.fit(poly2_data.iloc[:,:2],pd.DataFrame(poly2_data['price']))"
   ]
  },
  {
   "cell_type": "code",
   "execution_count": 40,
   "metadata": {},
   "outputs": [
    {
     "data": {
      "text/plain": [
       "[<matplotlib.lines.Line2D at 0x1db8ede5550>,\n",
       " <matplotlib.lines.Line2D at 0x1db8ede5630>,\n",
       " <matplotlib.lines.Line2D at 0x1db8ede5780>,\n",
       " <matplotlib.lines.Line2D at 0x1db8ede5eb8>]"
      ]
     },
     "execution_count": 40,
     "metadata": {},
     "output_type": "execute_result"
    },
    {
     "data": {
      "image/png": "[encoded data removed]",
      "text/plain": [
       "<matplotlib.figure.Figure at 0x1db89ae4f60>"
      ]
     },
     "metadata": {},
     "output_type": "display_data"
    }
   ],
   "source": [
    "%matplotlib inline\n",
    "plt.plot(poly2_data.iloc[:,:2],poly2_data['price'],'.',\n",
    "poly2_data.iloc[:,:2], model.predict(pd.DataFrame(poly2_data.iloc[:,:2])),'-')"
   ]
  },
  {
   "cell_type": "markdown",
   "metadata": {},
   "source": [
    "Third Degree Polynomial"
   ]
  },
  {
   "cell_type": "code",
   "execution_count": 38,
   "metadata": {},
   "outputs": [
    {
     "name": "stdout",
     "output_type": "stream",
     "text": [
      "       power_1   power_2     power_3     price\n",
      "19452    290.0   84100.0  24389000.0  142000.0\n",
      "15381    370.0  136900.0  50653000.0  276000.0\n",
      "860      380.0  144400.0  54872000.0  245000.0\n",
      "18379    384.0  147456.0  56623104.0  265000.0\n",
      "4868     390.0  152100.0  59319000.0  228000.0\n"
     ]
    }
   ],
   "source": [
    "poly3_data = polynomial_dataframe(sales['sqft_living'], 3)\n",
    "poly3_data['price'] = sales['price']\n",
    "\n",
    "print(poly3_data.head())"
   ]
  },
  {
   "cell_type": "code",
   "execution_count": 56,
   "metadata": {},
   "outputs": [
    {
     "data": {
      "text/plain": [
       "LinearRegression(copy_X=True, fit_intercept=True, n_jobs=1, normalize=False)"
      ]
     },
     "execution_count": 56,
     "metadata": {},
     "output_type": "execute_result"
    }
   ],
   "source": [
    "model.fit(poly3_data.iloc[:,:3],pd.DataFrame(poly3_data['price']))"
   ]
  },
  {
   "cell_type": "code",
   "execution_count": 44,
   "metadata": {},
   "outputs": [
    {
     "data": {
      "text/plain": [
       "[<matplotlib.lines.Line2D at 0x1db8edc8ac8>,\n",
       " <matplotlib.lines.Line2D at 0x1db8edc8ba8>,\n",
       " <matplotlib.lines.Line2D at 0x1db8edc8cf8>,\n",
       " <matplotlib.lines.Line2D at 0x1db8edc8e48>,\n",
       " <matplotlib.lines.Line2D at 0x1db8edaf860>,\n",
       " <matplotlib.lines.Line2D at 0x1db8edaf9b0>]"
      ]
     },
     "execution_count": 44,
     "metadata": {},
     "output_type": "execute_result"
    },
    {
     "data": {
      "image/png": "[encoded data removed]",
      "text/plain": [
       "<matplotlib.figure.Figure at 0x1db8edcf4e0>"
      ]
     },
     "metadata": {},
     "output_type": "display_data"
    }
   ],
   "source": [
    "%matplotlib inline\n",
    "plt.plot(poly3_data.iloc[:,:3],poly3_data['price'],'.',\n",
    "poly3_data.iloc[:,:3], model.predict(poly3_data.iloc[:,:3]),'-')"
   ]
  },
  {
   "cell_type": "markdown",
   "metadata": {},
   "source": [
    "Fifteenth Degree Polynomial"
   ]
  },
  {
   "cell_type": "code",
   "execution_count": 45,
   "metadata": {},
   "outputs": [
    {
     "name": "stdout",
     "output_type": "stream",
     "text": [
      "       power_1   power_2     power_3       power_4       power_5  \\\n",
      "19452    290.0   84100.0  24389000.0  7.072810e+09  2.051115e+12   \n",
      "15381    370.0  136900.0  50653000.0  1.874161e+10  6.934396e+12   \n",
      "860      380.0  144400.0  54872000.0  2.085136e+10  7.923517e+12   \n",
      "18379    384.0  147456.0  56623104.0  2.174327e+10  8.349416e+12   \n",
      "4868     390.0  152100.0  59319000.0  2.313441e+10  9.022420e+12   \n",
      "\n",
      "            power_6       power_7       power_8       power_9      power_10  \\\n",
      "19452  5.948233e+14  1.724988e+17  5.002464e+19  1.450715e+22  4.207072e+24   \n",
      "15381  2.565726e+15  9.493188e+17  3.512479e+20  1.299617e+23  4.808584e+25   \n",
      "860    3.010936e+15  1.144156e+18  4.347792e+20  1.652161e+23  6.278212e+25   \n",
      "18379  3.206176e+15  1.231172e+18  4.727699e+20  1.815436e+23  6.971275e+25   \n",
      "4868   3.518744e+15  1.372310e+18  5.352009e+20  2.087284e+23  8.140406e+25   \n",
      "\n",
      "           power_11      power_12      power_13      power_14      power_15  \\\n",
      "19452  1.220051e+27  3.538148e+29  1.026063e+32  2.975582e+34  8.629189e+36   \n",
      "15381  1.779176e+28  6.582952e+30  2.435692e+33  9.012061e+35  3.334463e+38   \n",
      "860    2.385721e+28  9.065738e+30  3.444980e+33  1.309093e+36  4.974552e+38   \n",
      "18379  2.676970e+28  1.027956e+31  3.947353e+33  1.515783e+36  5.820608e+38   \n",
      "4868   3.174758e+28  1.238156e+31  4.828807e+33  1.883235e+36  7.344616e+38   \n",
      "\n",
      "          price  \n",
      "19452  142000.0  \n",
      "15381  276000.0  \n",
      "860    245000.0  \n",
      "18379  265000.0  \n",
      "4868   228000.0  \n"
     ]
    }
   ],
   "source": [
    "poly15_data = polynomial_dataframe(sales['sqft_living'], 15)\n",
    "poly15_data['price'] = sales['price']\n",
    "\n",
    "print(poly15_data.head())"
   ]
  },
  {
   "cell_type": "code",
   "execution_count": 61,
   "metadata": {},
   "outputs": [
    {
     "data": {
      "text/plain": [
       "LinearRegression(copy_X=True, fit_intercept=True, n_jobs=1, normalize=False)"
      ]
     },
     "execution_count": 61,
     "metadata": {},
     "output_type": "execute_result"
    }
   ],
   "source": [
    "model.fit(poly15_data.iloc[:,:15],pd.DataFrame(poly15_data['price']))"
   ]
  },
  {
   "cell_type": "code",
   "execution_count": 62,
   "metadata": {},
   "outputs": [
    {
     "data": {
      "text/plain": [
       "[<matplotlib.lines.Line2D at 0x1db8ee49b70>,\n",
       " <matplotlib.lines.Line2D at 0x1db8ee49c50>,\n",
       " <matplotlib.lines.Line2D at 0x1db8ee49da0>,\n",
       " <matplotlib.lines.Line2D at 0x1db8ee49ef0>,\n",
       " <matplotlib.lines.Line2D at 0x1db8ee27080>,\n",
       " <matplotlib.lines.Line2D at 0x1db8ee271d0>,\n",
       " <matplotlib.lines.Line2D at 0x1db8ee27320>,\n",
       " <matplotlib.lines.Line2D at 0x1db8ee27470>,\n",
       " <matplotlib.lines.Line2D at 0x1db8ee275c0>,\n",
       " <matplotlib.lines.Line2D at 0x1db8ee27710>,\n",
       " <matplotlib.lines.Line2D at 0x1db8ee2a710>,\n",
       " <matplotlib.lines.Line2D at 0x1db8ee27978>,\n",
       " <matplotlib.lines.Line2D at 0x1db8ee27ac8>,\n",
       " <matplotlib.lines.Line2D at 0x1db8ee27c18>,\n",
       " <matplotlib.lines.Line2D at 0x1db8ee27d68>,\n",
       " <matplotlib.lines.Line2D at 0x1db8ee27eb8>,\n",
       " <matplotlib.lines.Line2D at 0x1db8ee388d0>,\n",
       " <matplotlib.lines.Line2D at 0x1db8ee38a20>,\n",
       " <matplotlib.lines.Line2D at 0x1db8ee38b70>,\n",
       " <matplotlib.lines.Line2D at 0x1db8ee38cc0>,\n",
       " <matplotlib.lines.Line2D at 0x1db8ee38e10>,\n",
       " <matplotlib.lines.Line2D at 0x1db8ee38f60>,\n",
       " <matplotlib.lines.Line2D at 0x1db8e9d60f0>,\n",
       " <matplotlib.lines.Line2D at 0x1db8e9d6240>,\n",
       " <matplotlib.lines.Line2D at 0x1db8e9d6390>,\n",
       " <matplotlib.lines.Line2D at 0x1db8e9d64e0>,\n",
       " <matplotlib.lines.Line2D at 0x1db8e9d6630>,\n",
       " <matplotlib.lines.Line2D at 0x1db8e9d6780>,\n",
       " <matplotlib.lines.Line2D at 0x1db8e9d68d0>,\n",
       " <matplotlib.lines.Line2D at 0x1db8e9d6a20>]"
      ]
     },
     "execution_count": 62,
     "metadata": {},
     "output_type": "execute_result"
    },
    {
     "data": {
      "image/png": "[encoded data removed]",
      "text/plain": [
       "<matplotlib.figure.Figure at 0x1db8edab2e8>"
      ]
     },
     "metadata": {},
     "output_type": "display_data"
    }
   ],
   "source": [
    "%matplotlib inline\n",
    "plt.plot(poly15_data.iloc[:,:15],poly15_data['price'],'.',\n",
    "poly15_data.iloc[:,:15], model.predict(poly15_data.iloc[:,:15]),'-')"
   ]
  },
  {
   "cell_type": "code",
   "execution_count": 63,
   "metadata": {},
   "outputs": [
    {
     "data": {
      "text/plain": [
       "array([[ 4.56404164e-91,  6.91713530e-51, -5.84668843e-56,\n",
       "         0.00000000e+00,  0.00000000e+00,  2.68575170e-71,\n",
       "         2.26147568e-67,  1.85900299e-63,  1.47144116e-59,\n",
       "         1.09771012e-55,  7.43509038e-52,  4.23015578e-48,\n",
       "         1.61618577e-44, -2.49283826e-48,  9.59718336e-53]])"
      ]
     },
     "execution_count": 63,
     "metadata": {},
     "output_type": "execute_result"
    }
   ],
   "source": [
    "model.coef_"
   ]
  },
  {
   "cell_type": "markdown",
   "metadata": {},
   "source": [
    "Qn 1"
   ]
  },
  {
   "cell_type": "code",
   "execution_count": 79,
   "metadata": {},
   "outputs": [
    {
     "name": "stdout",
     "output_type": "stream",
     "text": [
      "           id             date     price  bedrooms  bathrooms  sqft_living  \\\n",
      "0  8658300340  20140523T000000   80000.0       1.0       0.75        430.0   \n",
      "1  1352300580  20141114T000000  247000.0       1.0       1.00        460.0   \n",
      "2  1320069249  20141020T000000  192500.0       1.0       1.00        470.0   \n",
      "3  1437500015  20140709T000000  150000.0       3.0       0.75        490.0   \n",
      "4  0859000110  20141002T000000  125000.0       1.0       1.00        500.0   \n",
      "\n",
      "   sqft_lot floors  waterfront  view     ...      grade  sqft_above  \\\n",
      "0      5050      1           0     0     ...          4         430   \n",
      "1      4120      1           0     0     ...          4         460   \n",
      "2     63737      1           0     2     ...          5         470   \n",
      "3     38500    1.5           0     0     ...          5         490   \n",
      "4      7440      1           0     0     ...          5         500   \n",
      "\n",
      "   sqft_basement  yr_built  yr_renovated  zipcode      lat     long  \\\n",
      "0              0      1912             0    98014  47.6499 -121.909   \n",
      "1              0      1937             0    98055  47.4868 -122.199   \n",
      "2              0      1924             0    98022  47.2163 -121.984   \n",
      "3              0      1959             0    98014  47.7112 -121.315   \n",
      "4              0      1928             0    98106  47.5252 -122.362   \n",
      "\n",
      "   sqft_living15  sqft_lot15  \n",
      "0         1200.0      7500.0  \n",
      "1          990.0      4120.0  \n",
      "2         1350.0     46762.0  \n",
      "3          800.0     18297.0  \n",
      "4         1350.0      7440.0  \n",
      "\n",
      "[5 rows x 21 columns]\n",
      "           id             date     price  bedrooms  bathrooms  sqft_living  \\\n",
      "0  6896300380  20141002T000000  228000.0       0.0       1.00        390.0   \n",
      "1  6303400395  20150130T000000  325000.0       1.0       0.75        410.0   \n",
      "2  4322200105  20150331T000000  229050.0       1.0       1.00        420.0   \n",
      "3  7549801385  20140612T000000  280000.0       1.0       0.75        420.0   \n",
      "4  3523029041  20141009T000000  290000.0       2.0       0.75        440.0   \n",
      "\n",
      "   sqft_lot floors  waterfront  view     ...      grade  sqft_above  \\\n",
      "0      5900      1           0     0     ...          4         390   \n",
      "1      8636      1           0     0     ...          4         410   \n",
      "2      3298      1           0     0     ...          4         420   \n",
      "3      6720      1           0     0     ...          5         420   \n",
      "4      8313      1           1     3     ...          5         440   \n",
      "\n",
      "   sqft_basement  yr_built  yr_renovated  zipcode      lat     long  \\\n",
      "0              0      1953             0    98118  47.5260 -122.261   \n",
      "1              0      1953             0    98146  47.5077 -122.357   \n",
      "2              0      1949             0    98136  47.5375 -122.391   \n",
      "3              0      1922             0    98108  47.5520 -122.311   \n",
      "4              0      1943             0    98070  47.4339 -122.512   \n",
      "\n",
      "   sqft_living15  sqft_lot15  \n",
      "0         2170.0      6000.0  \n",
      "1         1190.0      8636.0  \n",
      "2         1460.0      4975.0  \n",
      "3         1420.0      6720.0  \n",
      "4          880.0     26289.0  \n",
      "\n",
      "[5 rows x 21 columns]\n",
      "           id             date     price  bedrooms  bathrooms  sqft_living  \\\n",
      "0  9266700190  20150511T000000  245000.0       1.0       1.00        390.0   \n",
      "1  0745000005  20140825T000000  145000.0       1.0       0.75        480.0   \n",
      "2  7849202585  20140904T000000  170000.0       1.0       1.00        480.0   \n",
      "3  2420069251  20150225T000000  262000.0       1.0       0.75        520.0   \n",
      "4  3702900165  20141104T000000  295000.0       1.0       1.00        520.0   \n",
      "\n",
      "   sqft_lot floors  waterfront  view     ...      grade  sqft_above  \\\n",
      "0      2000      1           0     0     ...          6         390   \n",
      "1      9750      1           0     0     ...          4         480   \n",
      "2      4560      1           0     0     ...          5         480   \n",
      "3     12981      1           0     0     ...          3         520   \n",
      "4      5600      1           0     0     ...          6         520   \n",
      "\n",
      "   sqft_basement  yr_built  yr_renovated  zipcode      lat     long  \\\n",
      "0              0      1920             0    98103  47.6938 -122.347   \n",
      "1              0      1948             0    98146  47.4982 -122.362   \n",
      "2              0      1922             0    98065  47.5253 -121.826   \n",
      "3              0      1920             0    98022  47.2082 -121.995   \n",
      "4              0      1918             0    98116  47.5579 -122.395   \n",
      "\n",
      "   sqft_living15  sqft_lot15  \n",
      "0         1340.0      5100.0  \n",
      "1         1550.0      9924.0  \n",
      "2          890.0      4803.0  \n",
      "3         1340.0     12233.0  \n",
      "4         1030.0      5265.0  \n",
      "\n",
      "[5 rows x 21 columns]\n",
      "           id             date     price  bedrooms  bathrooms  sqft_living  \\\n",
      "0  3980300371  20140926T000000  142000.0       0.0       0.00        290.0   \n",
      "1  2856101479  20140701T000000  276000.0       1.0       0.75        370.0   \n",
      "2  1723049033  20140620T000000  245000.0       1.0       0.75        380.0   \n",
      "3  1222029077  20141029T000000  265000.0       0.0       0.75        384.0   \n",
      "4  8655900162  20150219T000000  156000.0       1.0       0.75        470.0   \n",
      "\n",
      "   sqft_lot floors  waterfront  view     ...      grade  sqft_above  \\\n",
      "0     20875      1           0     0     ...          1         290   \n",
      "1      1801      1           0     0     ...          5         370   \n",
      "2     15000      1           0     0     ...          5         380   \n",
      "3    213444      1           0     0     ...          4         384   \n",
      "4     15000      1           0     0     ...          4         470   \n",
      "\n",
      "   sqft_basement  yr_built  yr_renovated  zipcode      lat     long  \\\n",
      "0              0      1963             0    98024  47.5308 -121.888   \n",
      "1              0      1923             0    98117  47.6778 -122.389   \n",
      "2              0      1963             0    98168  47.4810 -122.323   \n",
      "3              0      2003             0    98070  47.4177 -122.491   \n",
      "4              0      1947             0    98014  47.6554 -121.908   \n",
      "\n",
      "   sqft_living15  sqft_lot15  \n",
      "0         1620.0     22850.0  \n",
      "1         1340.0      5000.0  \n",
      "2         1170.0     15000.0  \n",
      "3         1920.0    224341.0  \n",
      "4         1730.0     22500.0  \n",
      "\n",
      "[5 rows x 21 columns]\n"
     ]
    }
   ],
   "source": [
    "train1 = pd.read_csv('wk3_kc_house_set_1_data.csv', dtype=dtype_dict)\n",
    "train2 = pd.read_csv('wk3_kc_house_set_2_data.csv', dtype=dtype_dict)\n",
    "train3 = pd.read_csv('wk3_kc_house_set_3_data.csv', dtype=dtype_dict)\n",
    "train4 = pd.read_csv('wk3_kc_house_set_4_data.csv', dtype=dtype_dict)\n",
    "\n",
    "print(train1.head())\n",
    "print(train2.head())\n",
    "print(train3.head())\n",
    "print(train4.head())"
   ]
  },
  {
   "cell_type": "code",
   "execution_count": 80,
   "metadata": {},
   "outputs": [
    {
     "name": "stdout",
     "output_type": "stream",
     "text": [
      "   power_1   power_2      power_3       power_4       power_5       power_6  \\\n",
      "0    430.0  184900.0   79507000.0  3.418801e+10  1.470084e+13  6.321363e+15   \n",
      "1    460.0  211600.0   97336000.0  4.477456e+10  2.059630e+13  9.474297e+15   \n",
      "2    470.0  220900.0  103823000.0  4.879681e+10  2.293450e+13  1.077922e+16   \n",
      "3    490.0  240100.0  117649000.0  5.764801e+10  2.824752e+13  1.384129e+16   \n",
      "4    500.0  250000.0  125000000.0  6.250000e+10  3.125000e+13  1.562500e+16   \n",
      "\n",
      "        power_7       power_8       power_9      power_10      power_11  \\\n",
      "0  2.718186e+18  1.168820e+21  5.025926e+23  2.161148e+26  9.292937e+28   \n",
      "1  4.358177e+18  2.004761e+21  9.221902e+23  4.242075e+26  1.951354e+29   \n",
      "2  5.066231e+18  2.381129e+21  1.119130e+24  5.259913e+26  2.472159e+29   \n",
      "3  6.782231e+18  3.323293e+21  1.628414e+24  7.979227e+26  3.909821e+29   \n",
      "4  7.812500e+18  3.906250e+21  1.953125e+24  9.765625e+26  4.882812e+29   \n",
      "\n",
      "       power_12      power_13      power_14      power_15     price  \n",
      "0  3.995963e+31  1.718264e+34  7.388536e+36  3.177070e+39   80000.0  \n",
      "1  8.976230e+31  4.129066e+34  1.899370e+37  8.737103e+39  247000.0  \n",
      "2  1.161915e+32  5.461000e+34  2.566670e+37  1.206335e+40  192500.0  \n",
      "3  1.915812e+32  9.387480e+34  4.599865e+37  2.253934e+40  150000.0  \n",
      "4  2.441406e+32  1.220703e+35  6.103516e+37  3.051758e+40  125000.0  \n"
     ]
    }
   ],
   "source": [
    "### Model1\n",
    "\n",
    "train1_data = polynomial_dataframe(train1['sqft_living'], 15)\n",
    "train1_data['price'] = train1['price']\n",
    "\n",
    "print(train1_data.head())"
   ]
  },
  {
   "cell_type": "code",
   "execution_count": 82,
   "metadata": {},
   "outputs": [
    {
     "data": {
      "text/plain": [
       "LinearRegression(copy_X=True, fit_intercept=True, n_jobs=1, normalize=False)"
      ]
     },
     "execution_count": 82,
     "metadata": {},
     "output_type": "execute_result"
    }
   ],
   "source": [
    "model.fit(train1_data.iloc[:,:15],pd.DataFrame(train1_data['price']))"
   ]
  },
  {
   "cell_type": "code",
   "execution_count": 83,
   "metadata": {},
   "outputs": [
    {
     "data": {
      "text/plain": [
       "[<matplotlib.lines.Line2D at 0x1db8e33b320>,\n",
       " <matplotlib.lines.Line2D at 0x1db8e33b400>,\n",
       " <matplotlib.lines.Line2D at 0x1db8df3c438>,\n",
       " <matplotlib.lines.Line2D at 0x1db8df3cb70>,\n",
       " <matplotlib.lines.Line2D at 0x1db8df3c588>,\n",
       " <matplotlib.lines.Line2D at 0x1db8e900828>,\n",
       " <matplotlib.lines.Line2D at 0x1db8e900940>,\n",
       " <matplotlib.lines.Line2D at 0x1db8e21a470>,\n",
       " <matplotlib.lines.Line2D at 0x1db8e21a358>,\n",
       " <matplotlib.lines.Line2D at 0x1db8e21a5c0>,\n",
       " <matplotlib.lines.Line2D at 0x1db8df20b70>,\n",
       " <matplotlib.lines.Line2D at 0x1db8e21a160>,\n",
       " <matplotlib.lines.Line2D at 0x1db8e21aac8>,\n",
       " <matplotlib.lines.Line2D at 0x1db8e21a390>,\n",
       " <matplotlib.lines.Line2D at 0x1db8e21a710>,\n",
       " <matplotlib.lines.Line2D at 0x1db8e8fd550>,\n",
       " <matplotlib.lines.Line2D at 0x1db8e2ba160>,\n",
       " <matplotlib.lines.Line2D at 0x1db8e2ba7f0>,\n",
       " <matplotlib.lines.Line2D at 0x1db8e2ba400>,\n",
       " <matplotlib.lines.Line2D at 0x1db8e2ba9b0>,\n",
       " <matplotlib.lines.Line2D at 0x1db8e2ba7b8>,\n",
       " <matplotlib.lines.Line2D at 0x1db8e2baef0>,\n",
       " <matplotlib.lines.Line2D at 0x1db8e2ba710>,\n",
       " <matplotlib.lines.Line2D at 0x1db8e2baf60>,\n",
       " <matplotlib.lines.Line2D at 0x1db8e241a90>,\n",
       " <matplotlib.lines.Line2D at 0x1db8e92a2e8>,\n",
       " <matplotlib.lines.Line2D at 0x1db914bb5f8>,\n",
       " <matplotlib.lines.Line2D at 0x1db914bb860>,\n",
       " <matplotlib.lines.Line2D at 0x1db914bba90>,\n",
       " <matplotlib.lines.Line2D at 0x1db914bb3c8>]"
      ]
     },
     "execution_count": 83,
     "metadata": {},
     "output_type": "execute_result"
    },
    {
     "data": {
      "image/png": "[encoded data removed]",
      "text/plain": [
       "<matplotlib.figure.Figure at 0x1db89ae2390>"
      ]
     },
     "metadata": {},
     "output_type": "display_data"
    }
   ],
   "source": [
    "%matplotlib inline\n",
    "plt.plot(train1_data.iloc[:,:15],train1_data['price'],'.',\n",
    "train1_data.iloc[:,:15], model.predict(train1_data.iloc[:,:15]),'-')"
   ]
  },
  {
   "cell_type": "code",
   "execution_count": 84,
   "metadata": {},
   "outputs": [
    {
     "data": {
      "text/plain": [
       "array([[ 3.05794168e-90, -1.69394947e-49, -5.61767588e-55,\n",
       "        -4.97841222e-60,  0.00000000e+00,  1.10358351e-70,\n",
       "         8.37724029e-67,  6.23411957e-63,  4.49156442e-59,\n",
       "         3.06938763e-55,  1.91749300e-51,  1.01335180e-47,\n",
       "         3.62176959e-44, -5.63501661e-48,  2.18641116e-52]])"
      ]
     },
     "execution_count": 84,
     "metadata": {},
     "output_type": "execute_result"
    }
   ],
   "source": [
    "model.coef_ ### +ve for x^15"
   ]
  },
  {
   "cell_type": "code",
   "execution_count": 85,
   "metadata": {},
   "outputs": [
    {
     "name": "stdout",
     "output_type": "stream",
     "text": [
      "   power_1   power_2     power_3       power_4       power_5       power_6  \\\n",
      "0    390.0  152100.0  59319000.0  2.313441e+10  9.022420e+12  3.518744e+15   \n",
      "1    410.0  168100.0  68921000.0  2.825761e+10  1.158562e+13  4.750104e+15   \n",
      "2    420.0  176400.0  74088000.0  3.111696e+10  1.306912e+13  5.489032e+15   \n",
      "3    420.0  176400.0  74088000.0  3.111696e+10  1.306912e+13  5.489032e+15   \n",
      "4    440.0  193600.0  85184000.0  3.748096e+10  1.649162e+13  7.256314e+15   \n",
      "\n",
      "        power_7       power_8       power_9      power_10      power_11  \\\n",
      "0  1.372310e+18  5.352009e+20  2.087284e+23  8.140406e+25  3.174758e+28   \n",
      "1  1.947543e+18  7.984925e+20  3.273819e+23  1.342266e+26  5.503290e+28   \n",
      "2  2.305393e+18  9.682652e+20  4.066714e+23  1.708020e+26  7.173683e+28   \n",
      "3  2.305393e+18  9.682652e+20  4.066714e+23  1.708020e+26  7.173683e+28   \n",
      "4  3.192778e+18  1.404822e+21  6.181218e+23  2.719736e+26  1.196684e+29   \n",
      "\n",
      "       power_12      power_13      power_14      power_15     price  \n",
      "0  1.238156e+31  4.828807e+33  1.883235e+36  7.344616e+38  228000.0  \n",
      "1  2.256349e+31  9.251031e+33  3.792923e+36  1.555098e+39  325000.0  \n",
      "2  3.012947e+31  1.265438e+34  5.314838e+36  2.232232e+39  229050.0  \n",
      "3  3.012947e+31  1.265438e+34  5.314838e+36  2.232232e+39  280000.0  \n",
      "4  5.265409e+31  2.316780e+34  1.019383e+37  4.485286e+39  290000.0  \n"
     ]
    }
   ],
   "source": [
    "### Model2\n",
    "\n",
    "train2_data = polynomial_dataframe(train2['sqft_living'], 15)\n",
    "train2_data['price'] = train2['price']\n",
    "\n",
    "print(train2_data.head())"
   ]
  },
  {
   "cell_type": "code",
   "execution_count": 86,
   "metadata": {},
   "outputs": [
    {
     "data": {
      "text/plain": [
       "LinearRegression(copy_X=True, fit_intercept=True, n_jobs=1, normalize=False)"
      ]
     },
     "execution_count": 86,
     "metadata": {},
     "output_type": "execute_result"
    }
   ],
   "source": [
    "model.fit(train2_data.iloc[:,:15],pd.DataFrame(train2_data['price']))"
   ]
  },
  {
   "cell_type": "code",
   "execution_count": 87,
   "metadata": {},
   "outputs": [
    {
     "data": {
      "text/plain": [
       "[<matplotlib.lines.Line2D at 0x1db8d81d438>,\n",
       " <matplotlib.lines.Line2D at 0x1db8d81d748>,\n",
       " <matplotlib.lines.Line2D at 0x1db8d81d198>,\n",
       " <matplotlib.lines.Line2D at 0x1db8d81d160>,\n",
       " <matplotlib.lines.Line2D at 0x1db8d81d0b8>,\n",
       " <matplotlib.lines.Line2D at 0x1db8d7ebc50>,\n",
       " <matplotlib.lines.Line2D at 0x1db8d7eb908>,\n",
       " <matplotlib.lines.Line2D at 0x1db8d7ebeb8>,\n",
       " <matplotlib.lines.Line2D at 0x1db8d7eb9e8>,\n",
       " <matplotlib.lines.Line2D at 0x1db8d7ebe10>,\n",
       " <matplotlib.lines.Line2D at 0x1db8c005320>,\n",
       " <matplotlib.lines.Line2D at 0x1db8d7eb630>,\n",
       " <matplotlib.lines.Line2D at 0x1db8d7eb4a8>,\n",
       " <matplotlib.lines.Line2D at 0x1db8d7eb6a0>,\n",
       " <matplotlib.lines.Line2D at 0x1db8d7ec0b8>,\n",
       " <matplotlib.lines.Line2D at 0x1db8d7ec208>,\n",
       " <matplotlib.lines.Line2D at 0x1db8dbf0278>,\n",
       " <matplotlib.lines.Line2D at 0x1db8dbf0198>,\n",
       " <matplotlib.lines.Line2D at 0x1db8deb2320>,\n",
       " <matplotlib.lines.Line2D at 0x1db8deb2dd8>,\n",
       " <matplotlib.lines.Line2D at 0x1db8deb2f60>,\n",
       " <matplotlib.lines.Line2D at 0x1db8deb20f0>,\n",
       " <matplotlib.lines.Line2D at 0x1db8deb26a0>,\n",
       " <matplotlib.lines.Line2D at 0x1db8deb2908>,\n",
       " <matplotlib.lines.Line2D at 0x1db8deb2ba8>,\n",
       " <matplotlib.lines.Line2D at 0x1db8deb2e80>,\n",
       " <matplotlib.lines.Line2D at 0x1db8deb2860>,\n",
       " <matplotlib.lines.Line2D at 0x1db8deb2c18>,\n",
       " <matplotlib.lines.Line2D at 0x1db8deb2358>,\n",
       " <matplotlib.lines.Line2D at 0x1db8deb2b70>]"
      ]
     },
     "execution_count": 87,
     "metadata": {},
     "output_type": "execute_result"
    },
    {
     "data": {
      "image/png": "[encoded data removed]",
      "text/plain": [
       "<matplotlib.figure.Figure at 0x1db8df76128>"
      ]
     },
     "metadata": {},
     "output_type": "display_data"
    }
   ],
   "source": [
    "%matplotlib inline\n",
    "plt.plot(train2_data.iloc[:,:15],train2_data['price'],'.',\n",
    "train2_data.iloc[:,:15], model.predict(train2_data.iloc[:,:15]),'-')"
   ]
  },
  {
   "cell_type": "code",
   "execution_count": 88,
   "metadata": {},
   "outputs": [
    {
     "data": {
      "text/plain": [
       "array([[ 2.71335949e-77,  7.33541092e-39, -1.85014873e-44,\n",
       "         8.43742368e-50,  0.00000000e+00,  0.00000000e+00,\n",
       "         3.64549213e-55,  1.50416258e-51,  5.76015665e-48,\n",
       "         1.95770497e-44,  5.39396539e-41,  9.40376360e-38,\n",
       "        -3.63529141e-41,  4.65476524e-45, -1.97197311e-49]])"
      ]
     },
     "execution_count": 88,
     "metadata": {},
     "output_type": "execute_result"
    }
   ],
   "source": [
    "model.coef_   ### -ve for x^15"
   ]
  },
  {
   "cell_type": "code",
   "execution_count": 89,
   "metadata": {},
   "outputs": [
    {
     "name": "stdout",
     "output_type": "stream",
     "text": [
      "   power_1   power_2      power_3       power_4       power_5       power_6  \\\n",
      "0    390.0  152100.0   59319000.0  2.313441e+10  9.022420e+12  3.518744e+15   \n",
      "1    480.0  230400.0  110592000.0  5.308416e+10  2.548040e+13  1.223059e+16   \n",
      "2    480.0  230400.0  110592000.0  5.308416e+10  2.548040e+13  1.223059e+16   \n",
      "3    520.0  270400.0  140608000.0  7.311616e+10  3.802040e+13  1.977061e+16   \n",
      "4    520.0  270400.0  140608000.0  7.311616e+10  3.802040e+13  1.977061e+16   \n",
      "\n",
      "        power_7       power_8       power_9      power_10      power_11  \\\n",
      "0  1.372310e+18  5.352009e+20  2.087284e+23  8.140406e+25  3.174758e+28   \n",
      "1  5.870683e+18  2.817928e+21  1.352605e+24  6.492506e+26  3.116403e+29   \n",
      "2  5.870683e+18  2.817928e+21  1.352605e+24  6.492506e+26  3.116403e+29   \n",
      "3  1.028072e+19  5.345973e+21  2.779906e+24  1.445551e+27  7.516866e+29   \n",
      "4  1.028072e+19  5.345973e+21  2.779906e+24  1.445551e+27  7.516866e+29   \n",
      "\n",
      "       power_12      power_13      power_14      power_15     price  \n",
      "0  1.238156e+31  4.828807e+33  1.883235e+36  7.344616e+38  245000.0  \n",
      "1  1.495873e+32  7.180192e+34  3.446492e+37  1.654316e+40  145000.0  \n",
      "2  1.495873e+32  7.180192e+34  3.446492e+37  1.654316e+40  170000.0  \n",
      "3  3.908770e+32  2.032560e+35  1.056931e+38  5.496043e+40  262000.0  \n",
      "4  3.908770e+32  2.032560e+35  1.056931e+38  5.496043e+40  295000.0  \n"
     ]
    }
   ],
   "source": [
    "### Model3\n",
    "\n",
    "train3_data = polynomial_dataframe(train3['sqft_living'], 15)\n",
    "train3_data['price'] = train3['price']\n",
    "\n",
    "print(train3_data.head())"
   ]
  },
  {
   "cell_type": "code",
   "execution_count": 90,
   "metadata": {},
   "outputs": [
    {
     "data": {
      "text/plain": [
       "LinearRegression(copy_X=True, fit_intercept=True, n_jobs=1, normalize=False)"
      ]
     },
     "execution_count": 90,
     "metadata": {},
     "output_type": "execute_result"
    }
   ],
   "source": [
    "model.fit(train3_data.iloc[:,:15],pd.DataFrame(train3_data['price']))"
   ]
  },
  {
   "cell_type": "code",
   "execution_count": 91,
   "metadata": {},
   "outputs": [
    {
     "data": {
      "text/plain": [
       "[<matplotlib.lines.Line2D at 0x1db985f9908>,\n",
       " <matplotlib.lines.Line2D at 0x1db985f99e8>,\n",
       " <matplotlib.lines.Line2D at 0x1db985f9b38>,\n",
       " <matplotlib.lines.Line2D at 0x1db985f9c88>,\n",
       " <matplotlib.lines.Line2D at 0x1db985f9dd8>,\n",
       " <matplotlib.lines.Line2D at 0x1db985f9f28>,\n",
       " <matplotlib.lines.Line2D at 0x1db985fe0b8>,\n",
       " <matplotlib.lines.Line2D at 0x1db985fe208>,\n",
       " <matplotlib.lines.Line2D at 0x1db985fe358>,\n",
       " <matplotlib.lines.Line2D at 0x1db985fe4a8>,\n",
       " <matplotlib.lines.Line2D at 0x1db913f1f98>,\n",
       " <matplotlib.lines.Line2D at 0x1db985fe710>,\n",
       " <matplotlib.lines.Line2D at 0x1db985fe860>,\n",
       " <matplotlib.lines.Line2D at 0x1db985fe9b0>,\n",
       " <matplotlib.lines.Line2D at 0x1db985feb00>,\n",
       " <matplotlib.lines.Line2D at 0x1db985fec50>,\n",
       " <matplotlib.lines.Line2D at 0x1db90fd3668>,\n",
       " <matplotlib.lines.Line2D at 0x1db90fd37b8>,\n",
       " <matplotlib.lines.Line2D at 0x1db90fd3908>,\n",
       " <matplotlib.lines.Line2D at 0x1db90fd3a58>,\n",
       " <matplotlib.lines.Line2D at 0x1db90fd3ba8>,\n",
       " <matplotlib.lines.Line2D at 0x1db90fd3cf8>,\n",
       " <matplotlib.lines.Line2D at 0x1db90fd3e48>,\n",
       " <matplotlib.lines.Line2D at 0x1db90fd3f98>,\n",
       " <matplotlib.lines.Line2D at 0x1db90fc6128>,\n",
       " <matplotlib.lines.Line2D at 0x1db90fc6278>,\n",
       " <matplotlib.lines.Line2D at 0x1db90fc63c8>,\n",
       " <matplotlib.lines.Line2D at 0x1db90fc6518>,\n",
       " <matplotlib.lines.Line2D at 0x1db90fc6668>,\n",
       " <matplotlib.lines.Line2D at 0x1db90fc67b8>]"
      ]
     },
     "execution_count": 91,
     "metadata": {},
     "output_type": "execute_result"
    },
    {
     "data": {
      "image/png": "[encoded data removed]",
      "text/plain": [
       "<matplotlib.figure.Figure at 0x1db8bc9f668>"
      ]
     },
     "metadata": {},
     "output_type": "display_data"
    }
   ],
   "source": [
    "%matplotlib inline\n",
    "plt.plot(train3_data.iloc[:,:15],train3_data['price'],'.',\n",
    "train3_data.iloc[:,:15], model.predict(train3_data.iloc[:,:15]),'-')"
   ]
  },
  {
   "cell_type": "code",
   "execution_count": 92,
   "metadata": {},
   "outputs": [
    {
     "data": {
      "text/plain": [
       "array([[ 2.83751934e-88, -7.80224148e-49, -1.38767183e-55,\n",
       "         3.98272978e-59,  0.00000000e+00,  4.27894986e-69,\n",
       "         2.68009626e-65,  1.63911362e-61,  9.66435015e-58,\n",
       "         5.38044653e-54,  2.72563636e-50,  1.16253248e-46,\n",
       "         3.33756141e-43, -6.76238818e-47,  3.43132932e-51]])"
      ]
     },
     "execution_count": 92,
     "metadata": {},
     "output_type": "execute_result"
    }
   ],
   "source": [
    "model.coef_  ### +ve for x^15"
   ]
  },
  {
   "cell_type": "code",
   "execution_count": 93,
   "metadata": {},
   "outputs": [
    {
     "name": "stdout",
     "output_type": "stream",
     "text": [
      "   power_1   power_2      power_3       power_4       power_5       power_6  \\\n",
      "0    290.0   84100.0   24389000.0  7.072810e+09  2.051115e+12  5.948233e+14   \n",
      "1    370.0  136900.0   50653000.0  1.874161e+10  6.934396e+12  2.565726e+15   \n",
      "2    380.0  144400.0   54872000.0  2.085136e+10  7.923517e+12  3.010936e+15   \n",
      "3    384.0  147456.0   56623104.0  2.174327e+10  8.349416e+12  3.206176e+15   \n",
      "4    470.0  220900.0  103823000.0  4.879681e+10  2.293450e+13  1.077922e+16   \n",
      "\n",
      "        power_7       power_8       power_9      power_10      power_11  \\\n",
      "0  1.724988e+17  5.002464e+19  1.450715e+22  4.207072e+24  1.220051e+27   \n",
      "1  9.493188e+17  3.512479e+20  1.299617e+23  4.808584e+25  1.779176e+28   \n",
      "2  1.144156e+18  4.347792e+20  1.652161e+23  6.278212e+25  2.385721e+28   \n",
      "3  1.231172e+18  4.727699e+20  1.815436e+23  6.971275e+25  2.676970e+28   \n",
      "4  5.066231e+18  2.381129e+21  1.119130e+24  5.259913e+26  2.472159e+29   \n",
      "\n",
      "       power_12      power_13      power_14      power_15     price  \n",
      "0  3.538148e+29  1.026063e+32  2.975582e+34  8.629189e+36  142000.0  \n",
      "1  6.582952e+30  2.435692e+33  9.012061e+35  3.334463e+38  276000.0  \n",
      "2  9.065738e+30  3.444980e+33  1.309093e+36  4.974552e+38  245000.0  \n",
      "3  1.027956e+31  3.947353e+33  1.515783e+36  5.820608e+38  265000.0  \n",
      "4  1.161915e+32  5.461000e+34  2.566670e+37  1.206335e+40  156000.0  \n"
     ]
    }
   ],
   "source": [
    "### Model4\n",
    "\n",
    "train4_data = polynomial_dataframe(train4['sqft_living'], 15)\n",
    "train4_data['price'] = train4['price']\n",
    "\n",
    "print(train4_data.head())"
   ]
  },
  {
   "cell_type": "code",
   "execution_count": 94,
   "metadata": {},
   "outputs": [
    {
     "data": {
      "text/plain": [
       "LinearRegression(copy_X=True, fit_intercept=True, n_jobs=1, normalize=False)"
      ]
     },
     "execution_count": 94,
     "metadata": {},
     "output_type": "execute_result"
    }
   ],
   "source": [
    "model.fit(train4_data.iloc[:,:15],pd.DataFrame(train4_data['price']))"
   ]
  },
  {
   "cell_type": "code",
   "execution_count": 95,
   "metadata": {},
   "outputs": [
    {
     "data": {
      "text/plain": [
       "[<matplotlib.lines.Line2D at 0x1db8e9917f0>,\n",
       " <matplotlib.lines.Line2D at 0x1db8e9918d0>,\n",
       " <matplotlib.lines.Line2D at 0x1db8e991a20>,\n",
       " <matplotlib.lines.Line2D at 0x1db8e991b70>,\n",
       " <matplotlib.lines.Line2D at 0x1db8e991cc0>,\n",
       " <matplotlib.lines.Line2D at 0x1db8e991e10>,\n",
       " <matplotlib.lines.Line2D at 0x1db8e991f60>,\n",
       " <matplotlib.lines.Line2D at 0x1db915520f0>,\n",
       " <matplotlib.lines.Line2D at 0x1db91552240>,\n",
       " <matplotlib.lines.Line2D at 0x1db91552390>,\n",
       " <matplotlib.lines.Line2D at 0x1db8e9acfd0>,\n",
       " <matplotlib.lines.Line2D at 0x1db915525f8>,\n",
       " <matplotlib.lines.Line2D at 0x1db91552748>,\n",
       " <matplotlib.lines.Line2D at 0x1db91552898>,\n",
       " <matplotlib.lines.Line2D at 0x1db915529e8>,\n",
       " <matplotlib.lines.Line2D at 0x1db91552b38>,\n",
       " <matplotlib.lines.Line2D at 0x1db91569550>,\n",
       " <matplotlib.lines.Line2D at 0x1db915696a0>,\n",
       " <matplotlib.lines.Line2D at 0x1db915697f0>,\n",
       " <matplotlib.lines.Line2D at 0x1db91569940>,\n",
       " <matplotlib.lines.Line2D at 0x1db91569a90>,\n",
       " <matplotlib.lines.Line2D at 0x1db91569be0>,\n",
       " <matplotlib.lines.Line2D at 0x1db91569d30>,\n",
       " <matplotlib.lines.Line2D at 0x1db91569e80>,\n",
       " <matplotlib.lines.Line2D at 0x1db91569fd0>,\n",
       " <matplotlib.lines.Line2D at 0x1db9873d160>,\n",
       " <matplotlib.lines.Line2D at 0x1db9873d2b0>,\n",
       " <matplotlib.lines.Line2D at 0x1db9873d400>,\n",
       " <matplotlib.lines.Line2D at 0x1db9873d550>,\n",
       " <matplotlib.lines.Line2D at 0x1db9873d6a0>]"
      ]
     },
     "execution_count": 95,
     "metadata": {},
     "output_type": "execute_result"
    },
    {
     "data": {
      "image/png": "[encoded data removed]",
      "text/plain": [
       "<matplotlib.figure.Figure at 0x1db8ecd3710>"
      ]
     },
     "metadata": {},
     "output_type": "display_data"
    }
   ],
   "source": [
    "%matplotlib inline\n",
    "plt.plot(train4_data.iloc[:,:15],train4_data['price'],'.',\n",
    "train4_data.iloc[:,:15], model.predict(train4_data.iloc[:,:15]),'-')"
   ]
  },
  {
   "cell_type": "code",
   "execution_count": 99,
   "metadata": {},
   "outputs": [
    {
     "data": {
      "text/plain": [
       "array([[ 1.37116050e-76,  2.79678201e-40, -2.13063569e-44,\n",
       "        -5.68255825e-49,  0.00000000e+00,  0.00000000e+00,\n",
       "         1.27070051e-54,  4.87868972e-51,  1.73549022e-47,\n",
       "         5.47058320e-44,  1.39587599e-40,  2.25041871e-37,\n",
       "        -9.43954119e-41,  1.31573060e-44, -6.09163273e-49]])"
      ]
     },
     "execution_count": 99,
     "metadata": {},
     "output_type": "execute_result"
    }
   ],
   "source": [
    "model.coef_  ### -ve for x^15"
   ]
  },
  {
   "cell_type": "markdown",
   "metadata": {},
   "source": [
    "Qn 2"
   ]
  },
  {
   "cell_type": "code",
   "execution_count": 100,
   "metadata": {},
   "outputs": [],
   "source": [
    "### b"
   ]
  },
  {
   "cell_type": "markdown",
   "metadata": {},
   "source": [
    "Qn 3"
   ]
  },
  {
   "cell_type": "code",
   "execution_count": 162,
   "metadata": {},
   "outputs": [
    {
     "name": "stdout",
     "output_type": "stream",
     "text": [
      "           id             date      price  bedrooms  bathrooms  sqft_living  \\\n",
      "0  2487200875  20141209T000000   604000.0       4.0       3.00       1960.0   \n",
      "1  7237550310  20140512T000000  1225000.0       4.0       4.50       5420.0   \n",
      "2  9212900260  20140527T000000   468000.0       2.0       1.00       1160.0   \n",
      "3  0114101516  20140528T000000   310000.0       3.0       1.00       1430.0   \n",
      "4  6054650070  20141007T000000   400000.0       3.0       1.75       1370.0   \n",
      "\n",
      "   sqft_lot floors  waterfront  view     ...      grade  sqft_above  \\\n",
      "0      5000      1           0     0     ...          7        1050   \n",
      "1    101930      1           0     0     ...         11        3890   \n",
      "2      6000      1           0     0     ...          7         860   \n",
      "3     19901    1.5           0     0     ...          7        1430   \n",
      "4      9680      1           0     0     ...          7        1370   \n",
      "\n",
      "   sqft_basement  yr_built  yr_renovated  zipcode      lat     long  \\\n",
      "0            910      1965             0    98136  47.5208 -122.393   \n",
      "1           1530      2001             0    98053  47.6561 -122.005   \n",
      "2            300      1942             0    98115  47.6900 -122.292   \n",
      "3              0      1927             0    98028  47.7558 -122.229   \n",
      "4              0      1977             0    98074  47.6127 -122.045   \n",
      "\n",
      "   sqft_living15  sqft_lot15  \n",
      "0         1360.0      5000.0  \n",
      "1         4760.0    101930.0  \n",
      "2         1330.0      6000.0  \n",
      "3         1780.0     12697.0  \n",
      "4         1370.0     10208.0  \n",
      "\n",
      "[5 rows x 21 columns]\n",
      "           id             date     price  bedrooms  bathrooms  sqft_living  \\\n",
      "0  7129300520  20141013T000000  221900.0       3.0       1.00       1180.0   \n",
      "1  6414100192  20141209T000000  538000.0       3.0       2.25       2570.0   \n",
      "2  5631500400  20150225T000000  180000.0       2.0       1.00        770.0   \n",
      "3  1954400510  20150218T000000  510000.0       3.0       2.00       1680.0   \n",
      "4  1321400060  20140627T000000  257500.0       3.0       2.25       1715.0   \n",
      "\n",
      "   sqft_lot floors  waterfront  view     ...      grade  sqft_above  \\\n",
      "0      5650      1           0     0     ...          7        1180   \n",
      "1      7242      2           0     0     ...          7        2170   \n",
      "2     10000      1           0     0     ...          6         770   \n",
      "3      8080      1           0     0     ...          8        1680   \n",
      "4      6819      2           0     0     ...          7        1715   \n",
      "\n",
      "   sqft_basement  yr_built  yr_renovated  zipcode      lat     long  \\\n",
      "0              0      1955             0    98178  47.5112 -122.257   \n",
      "1            400      1951          1991    98125  47.7210 -122.319   \n",
      "2              0      1933             0    98028  47.7379 -122.233   \n",
      "3              0      1987             0    98074  47.6168 -122.045   \n",
      "4              0      1995             0    98003  47.3097 -122.327   \n",
      "\n",
      "   sqft_living15  sqft_lot15  \n",
      "0         1340.0      5650.0  \n",
      "1         1690.0      7639.0  \n",
      "2         2720.0      8062.0  \n",
      "3         1800.0      7503.0  \n",
      "4         2238.0      6819.0  \n",
      "\n",
      "[5 rows x 21 columns]\n"
     ]
    }
   ],
   "source": [
    "train_data = pd.read_csv('wk3_kc_house_train_data.csv', dtype = dtype_dict)\n",
    "valid_data = pd.read_csv('wk3_kc_house_valid_data.csv', dtype = dtype_dict)\n",
    "\n",
    "print(train_data.head())\n",
    "print(valid_data.head())"
   ]
  },
  {
   "cell_type": "code",
   "execution_count": 142,
   "metadata": {},
   "outputs": [
    {
     "name": "stdout",
     "output_type": "stream",
     "text": [
      "[629097886299585.8, 623955062706518.0, 625820280251531.0, 629987341468500.5, 628240679314420.9, 566268593934056.0, 1073845792802398.6, 7087731525068529.0, 4.530345223846528e+16, 2.475686241299034e+17, 1.193801479215099e+18, 5.08007108579008e+18, 7.616230021251494e+17, 2.2975609250157368e+18, 6.955038097259907e+18]\n"
     ]
    }
   ],
   "source": [
    "rss = []\n",
    "\n",
    "for degree in range(1,16):\n",
    "    \n",
    "    train_data_final = polynomial_dataframe(train_data['sqft_living'], degree)\n",
    "    train_data_final['price'] = train_data['price']\n",
    "    valid_data_final = polynomial_dataframe(valid_data['sqft_living'], degree)\n",
    "    valid_data_final['price'] = valid_data['price']\n",
    "    \n",
    "    model = LinearRegression()\n",
    "    model.fit(pd.DataFrame(train_data_final.iloc[:,:degree]),pd.DataFrame(train_data_final['price']))\n",
    "    \n",
    "    predict = model.predict(pd.DataFrame(valid_data_final.iloc[:,:degree]))\n",
    "    \n",
    "    rss.append(((valid_data_final['price'] - pd.Series(predict.ravel()))**2).sum())\n",
    "    \n",
    "print(rss)"
   ]
  },
  {
   "cell_type": "code",
   "execution_count": 149,
   "metadata": {},
   "outputs": [
    {
     "name": "stdout",
     "output_type": "stream",
     "text": [
      "6\n"
     ]
    }
   ],
   "source": [
    "### Finding degree giving lowest RSS\n",
    "\n",
    "best_degree = rss.index(min(rss))+1\n",
    "print(best_degree)"
   ]
  },
  {
   "cell_type": "markdown",
   "metadata": {},
   "source": [
    "Qn 4"
   ]
  },
  {
   "cell_type": "code",
   "execution_count": 163,
   "metadata": {},
   "outputs": [
    {
     "name": "stdout",
     "output_type": "stream",
     "text": [
      "           id             date     price  bedrooms  bathrooms  sqft_living  \\\n",
      "0  3793500160  20150312T000000  323000.0       3.0       2.50       1890.0   \n",
      "1  1175000570  20150312T000000  530000.0       5.0       2.00       1810.0   \n",
      "2  0016000397  20141205T000000  189000.0       2.0       1.00       1200.0   \n",
      "3  0461000390  20140624T000000  687500.0       4.0       1.75       2330.0   \n",
      "4  7895500070  20150213T000000  240000.0       4.0       1.00       1220.0   \n",
      "\n",
      "   sqft_lot floors  waterfront  view     ...      grade  sqft_above  \\\n",
      "0      6560      2           0     0     ...          7        1890   \n",
      "1      4850    1.5           0     0     ...          7        1810   \n",
      "2      9850      1           0     0     ...          7        1200   \n",
      "3      5000    1.5           0     0     ...          7        1510   \n",
      "4      8075      1           0     0     ...          7         890   \n",
      "\n",
      "   sqft_basement  yr_built  yr_renovated  zipcode      lat     long  \\\n",
      "0              0      2003             0    98038  47.3684 -122.031   \n",
      "1              0      1900             0    98107  47.6700 -122.394   \n",
      "2              0      1921             0    98002  47.3089 -122.210   \n",
      "3            820      1929             0    98117  47.6823 -122.368   \n",
      "4            330      1969             0    98001  47.3341 -122.282   \n",
      "\n",
      "   sqft_living15  sqft_lot15  \n",
      "0         2390.0      7570.0  \n",
      "1         1360.0      4850.0  \n",
      "2         1060.0      5095.0  \n",
      "3         1460.0      5000.0  \n",
      "4         1290.0      7800.0  \n",
      "\n",
      "[5 rows x 21 columns]\n"
     ]
    }
   ],
   "source": [
    "test_data = pd.read_csv('wk3_kc_house_test_data.csv', dtype = dtype_dict)\n",
    "\n",
    "print(test_data.head())"
   ]
  },
  {
   "cell_type": "code",
   "execution_count": 166,
   "metadata": {},
   "outputs": [],
   "source": [
    "train_data_test = polynomial_dataframe(train_data['sqft_living'], 6)\n",
    "train_data_test['price'] = train_data['price']\n",
    "\n",
    "test_data_final = polynomial_dataframe(test_data['sqft_living'], 6)\n",
    "test_data_final['price'] = test_data['price']"
   ]
  },
  {
   "cell_type": "code",
   "execution_count": 165,
   "metadata": {},
   "outputs": [
    {
     "name": "stdout",
     "output_type": "stream",
     "text": [
      "1.3522511465662297\n"
     ]
    }
   ],
   "source": [
    "model = LinearRegression()\n",
    "\n",
    "model.fit(pd.DataFrame(train_data_test.iloc[:,:6]),pd.DataFrame(train_data_test['price']))\n",
    "    \n",
    "predict = model.predict(pd.DataFrame(test_data_final.iloc[:,:6]))\n",
    "\n",
    "test_rss = ((test_data_final['price'] - pd.Series(predict.ravel()))**2).sum()\n",
    "\n",
    "print(test_rss/10e13)"
   ]
  }
 ],
 "metadata": {
  "kernelspec": {
   "display_name": "Python 3",
   "language": "python",
   "name": "python3"
  },
  "language_info": {
   "codemirror_mode": {
    "name": "ipython",
    "version": 3
   },
   "file_extension": ".py",
   "mimetype": "text/x-python",
   "name": "python",
   "nbconvert_exporter": "python",
   "pygments_lexer": "ipython3",
   "version": "3.6.4"
  }
 },
 "nbformat": 4,
 "nbformat_minor": 2
}
