{
 "cells": [
  {
   "cell_type": "markdown",
   "metadata": {},
   "source": [
    "Importing Libraries"
   ]
  },
  {
   "cell_type": "code",
   "execution_count": 1,
   "metadata": {},
   "outputs": [],
   "source": [
    "import pandas as pd\n",
    "import numpy as np"
   ]
  },
  {
   "cell_type": "markdown",
   "metadata": {},
   "source": [
    "Load Data"
   ]
  },
  {
   "cell_type": "code",
   "execution_count": 2,
   "metadata": {},
   "outputs": [],
   "source": [
    "dtype_dict = {'bathrooms':float, 'waterfront':int, 'sqft_above':int, 'sqft_living15':float, 'grade':int, 'yr_renovated':int, 'price':float, 'bedrooms':float, 'zipcode':str, 'long':float, 'sqft_lot15':float, 'sqft_living':float, 'floors':str, 'condition':int, 'lat':float, 'date':str, 'sqft_basement':int, 'yr_built':int, 'id':str, 'sqft_lot':int, 'view':int}"
   ]
  },
  {
   "cell_type": "code",
   "execution_count": 3,
   "metadata": {},
   "outputs": [
    {
     "name": "stdout",
     "output_type": "stream",
     "text": [
      "           id             date     price  bedrooms  bathrooms  sqft_living  \\\n",
      "0  7129300520  20141013T000000  221900.0       3.0       1.00       1180.0   \n",
      "1  6414100192  20141209T000000  538000.0       3.0       2.25       2570.0   \n",
      "2  5631500400  20150225T000000  180000.0       2.0       1.00        770.0   \n",
      "3  2487200875  20141209T000000  604000.0       4.0       3.00       1960.0   \n",
      "4  1954400510  20150218T000000  510000.0       3.0       2.00       1680.0   \n",
      "\n",
      "   sqft_lot floors  waterfront  view     ...      grade  sqft_above  \\\n",
      "0      5650      1           0     0     ...          7        1180   \n",
      "1      7242      2           0     0     ...          7        2170   \n",
      "2     10000      1           0     0     ...          6         770   \n",
      "3      5000      1           0     0     ...          7        1050   \n",
      "4      8080      1           0     0     ...          8        1680   \n",
      "\n",
      "   sqft_basement  yr_built  yr_renovated  zipcode      lat     long  \\\n",
      "0              0      1955             0    98178  47.5112 -122.257   \n",
      "1            400      1951          1991    98125  47.7210 -122.319   \n",
      "2              0      1933             0    98028  47.7379 -122.233   \n",
      "3            910      1965             0    98136  47.5208 -122.393   \n",
      "4              0      1987             0    98074  47.6168 -122.045   \n",
      "\n",
      "   sqft_living15  sqft_lot15  \n",
      "0         1340.0      5650.0  \n",
      "1         1690.0      7639.0  \n",
      "2         2720.0      8062.0  \n",
      "3         1360.0      5000.0  \n",
      "4         1800.0      7503.0  \n",
      "\n",
      "[5 rows x 21 columns]\n",
      "           id             date     price  bedrooms  bathrooms  sqft_living  \\\n",
      "0  0114101516  20140528T000000  310000.0       3.0        1.0       1430.0   \n",
      "1  9297300055  20150124T000000  650000.0       4.0        3.0       2950.0   \n",
      "2  1202000200  20141103T000000  233000.0       3.0        2.0       1710.0   \n",
      "3  8562750320  20141110T000000  580500.0       3.0        2.5       2320.0   \n",
      "4  7589200193  20141110T000000  535000.0       3.0        1.0       1090.0   \n",
      "\n",
      "   sqft_lot floors  waterfront  view     ...      grade  sqft_above  \\\n",
      "0     19901    1.5           0     0     ...          7        1430   \n",
      "1      5000      2           0     3     ...          9        1980   \n",
      "2      4697    1.5           0     0     ...          6        1710   \n",
      "3      3980      2           0     0     ...          8        2320   \n",
      "4      3000    1.5           0     0     ...          8        1090   \n",
      "\n",
      "   sqft_basement  yr_built  yr_renovated  zipcode      lat     long  \\\n",
      "0              0      1927             0    98028  47.7558 -122.229   \n",
      "1            970      1979             0    98126  47.5714 -122.375   \n",
      "2              0      1941             0    98002  47.3048 -122.218   \n",
      "3              0      2003             0    98027  47.5391 -122.070   \n",
      "4              0      1929             0    98117  47.6889 -122.375   \n",
      "\n",
      "   sqft_living15  sqft_lot15  \n",
      "0         1780.0     12697.0  \n",
      "1         2140.0      4000.0  \n",
      "2         1030.0      4705.0  \n",
      "3         2580.0      3980.0  \n",
      "4         1570.0      5080.0  \n",
      "\n",
      "[5 rows x 21 columns]\n"
     ]
    }
   ],
   "source": [
    "train_data = pd.read_csv('kc_house_train_data.csv', dtype = dtype_dict)\n",
    "test_data = pd.read_csv('kc_house_test_data.csv', dtype = dtype_dict)\n",
    "\n",
    "print(train_data.head())\n",
    "print(test_data.head())"
   ]
  },
  {
   "cell_type": "markdown",
   "metadata": {},
   "source": [
    "Built Feature Matrices"
   ]
  },
  {
   "cell_type": "code",
   "execution_count": 4,
   "metadata": {},
   "outputs": [],
   "source": [
    "def get_numpy_data(data_frame, features, output):\n",
    "    data_frame['constant'] = 1 # add a constant column to an SFrame\n",
    "    \n",
    "    features = ['constant'] + features\n",
    "    \n",
    "    # select the columns of dataframe given by the ‘features’ list\n",
    "    features_frame = data_frame.loc[:,features]\n",
    "\n",
    "    # this will convert the Dataframe into a numpy matrix\n",
    "    features_matrix = np.array(features_frame)\n",
    "    \n",
    "    # assign the column of data_sframe associated with the target to the variable ‘output_sarray’\n",
    "    output_array = data_frame[output]\n",
    "    \n",
    "    # this will convert the Series into a numpy array:\n",
    "    output_array = np.array(output_array )\n",
    "    \n",
    "    return(features_matrix, output_array)"
   ]
  },
  {
   "cell_type": "markdown",
   "metadata": {},
   "source": [
    "Predict Function"
   ]
  },
  {
   "cell_type": "code",
   "execution_count": 5,
   "metadata": {},
   "outputs": [],
   "source": [
    "def predict_outcome(feature_matrix, weights):\n",
    "    predictions = np.dot(feature_matrix,weights)\n",
    "    return(predictions)"
   ]
  },
  {
   "cell_type": "markdown",
   "metadata": {},
   "source": [
    "Derivative Function"
   ]
  },
  {
   "cell_type": "code",
   "execution_count": 16,
   "metadata": {},
   "outputs": [],
   "source": [
    "def feature_derivative_ridge(errors, feature, weight, l2_penalty, feature_is_constant):\n",
    "    \n",
    "    if not feature_is_constant:\n",
    "            \n",
    "        derivative = 2*np.sum(errors * feature) + 2*l2_penalty*weight\n",
    "    else:\n",
    "        \n",
    "        derivative = 2*np.sum(errors * feature)\n",
    "        \n",
    "    return derivative"
   ]
  },
  {
   "cell_type": "markdown",
   "metadata": {},
   "source": [
    "Testing Derivative Function"
   ]
  },
  {
   "cell_type": "code",
   "execution_count": 7,
   "metadata": {},
   "outputs": [],
   "source": [
    "(example_features, example_output) = get_numpy_data(train_data, ['sqft_living'], 'price')\n",
    "my_weights = np.array([1., 10.])\n",
    "test_predictions = predict_outcome(example_features, my_weights)\n",
    "errors = test_predictions - example_output # prediction errors"
   ]
  },
  {
   "cell_type": "code",
   "execution_count": 17,
   "metadata": {},
   "outputs": [
    {
     "name": "stdout",
     "output_type": "stream",
     "text": [
      "-45532892335518.0\n",
      "-45532892335518.0\n",
      "\n"
     ]
    }
   ],
   "source": [
    "# next two lines should print the same values\n",
    "print(feature_derivative_ridge(errors, example_features[:,1], my_weights[1], 1, False))\n",
    "print(np.sum(errors*example_features[:,1])*2+20.)\n",
    "print('')"
   ]
  },
  {
   "cell_type": "code",
   "execution_count": 18,
   "metadata": {},
   "outputs": [
    {
     "name": "stdout",
     "output_type": "stream",
     "text": [
      "-18029479492.0\n",
      "-18029479492.0\n"
     ]
    }
   ],
   "source": [
    "# next two lines should print the same values\n",
    "print(feature_derivative_ridge(errors, example_features[:,0], my_weights[0], 1, True))\n",
    "print(np.sum(errors)*2.)"
   ]
  },
  {
   "cell_type": "markdown",
   "metadata": {},
   "source": [
    "Gradient Descent"
   ]
  },
  {
   "cell_type": "code",
   "execution_count": 10,
   "metadata": {},
   "outputs": [],
   "source": [
    "def ridge_regression_gradient_descent(feature_matrix, output, initial_weights, step_size, l2_penalty, max_iterations=100):\n",
    "    \n",
    "    weights = np.array(initial_weights) # make sure it's a numpy array\n",
    "    iterations = 0\n",
    "    \n",
    "    while iterations < max_iterations:\n",
    "        predict = predict_outcome(feature_matrix, weights)\n",
    "        error = predict - output\n",
    "\n",
    "        # compute the errors as predictions - output\n",
    "        for i in range(len(weights)):\n",
    "\n",
    "            if i == 0:\n",
    "                derivative = feature_derivative_ridge(error, feature_matrix[:,i], weights[i], l2_penalty, True)\n",
    "            else:\n",
    "                derivative = feature_derivative_ridge(error, feature_matrix[:,i], weights[i], l2_penalty, False)\n",
    "\n",
    "            weights[i] = weights[i] - step_size * derivative\n",
    "\n",
    "        iterations = iterations + 1\n",
    "            \n",
    "    return weights"
   ]
  },
  {
   "cell_type": "markdown",
   "metadata": {},
   "source": [
    "Qn 1"
   ]
  },
  {
   "cell_type": "code",
   "execution_count": 20,
   "metadata": {},
   "outputs": [],
   "source": [
    "simple_features = ['sqft_living']\n",
    "my_output = 'price'\n",
    "(simple_feature_matrix, output) = get_numpy_data(train_data, simple_features, my_output)\n",
    "(simple_test_feature_matrix, test_output) = get_numpy_data(test_data, simple_features, my_output)"
   ]
  },
  {
   "cell_type": "code",
   "execution_count": 29,
   "metadata": {},
   "outputs": [],
   "source": [
    "step_size = 1e-12\n",
    "max_iterations = 1000\n",
    "initial_weights = [0.,0.]\n",
    "l2_penalty=0"
   ]
  },
  {
   "cell_type": "code",
   "execution_count": 30,
   "metadata": {},
   "outputs": [
    {
     "name": "stdout",
     "output_type": "stream",
     "text": [
      "[-1.63113515e-01  2.63024369e+02]\n"
     ]
    }
   ],
   "source": [
    "weight_low_penalty = ridge_regression_gradient_descent(simple_feature_matrix, output, initial_weights, step_size, l2_penalty, max_iterations)\n",
    "\n",
    "print(weight_low_penalty)"
   ]
  },
  {
   "cell_type": "markdown",
   "metadata": {},
   "source": [
    "Qn 2"
   ]
  },
  {
   "cell_type": "code",
   "execution_count": 31,
   "metadata": {},
   "outputs": [],
   "source": [
    "l2_penalty=1e11"
   ]
  },
  {
   "cell_type": "code",
   "execution_count": 32,
   "metadata": {},
   "outputs": [
    {
     "name": "stdout",
     "output_type": "stream",
     "text": [
      "[  9.76730382 124.57217567]\n"
     ]
    }
   ],
   "source": [
    "weight_high_penalty = ridge_regression_gradient_descent(simple_feature_matrix, output, initial_weights, step_size, l2_penalty, max_iterations)\n",
    "\n",
    "print(weight_high_penalty)"
   ]
  },
  {
   "cell_type": "markdown",
   "metadata": {},
   "source": [
    "Qn 3 - Model with low penalty"
   ]
  },
  {
   "cell_type": "markdown",
   "metadata": {},
   "source": [
    "Qn 4"
   ]
  },
  {
   "cell_type": "code",
   "execution_count": 39,
   "metadata": {},
   "outputs": [
    {
     "data": {
      "text/plain": [
       "array([178147.97851192, 367497.68553032, 213028.18769952, ...,\n",
       "       313931.64999222, 287771.49310152, 127073.38648722])"
      ]
     },
     "execution_count": 39,
     "metadata": {},
     "output_type": "execute_result"
    }
   ],
   "source": [
    "test_predict1 = predict_outcome(simple_test_feature_matrix, [9.76730382, 124.57217567])\n",
    "test_predict1"
   ]
  },
  {
   "cell_type": "code",
   "execution_count": 40,
   "metadata": {},
   "outputs": [
    {
     "data": {
      "text/plain": [
       "6.946421015148961"
      ]
     },
     "execution_count": 40,
     "metadata": {},
     "output_type": "execute_result"
    }
   ],
   "source": [
    "rss = np.sum((test_predict1 - test_output) ** 2)\n",
    "rss/10e13"
   ]
  },
  {
   "cell_type": "code",
   "execution_count": 65,
   "metadata": {},
   "outputs": [
    {
     "data": {
      "text/plain": [
       "2.757236321531056"
      ]
     },
     "execution_count": 65,
     "metadata": {},
     "output_type": "execute_result"
    }
   ],
   "source": [
    "rss = np.sum((predict_outcome(simple_test_feature_matrix, [-1.63113515e-01, 2.63024369e+02]) - test_output) ** 2)\n",
    "rss/10e13"
   ]
  },
  {
   "cell_type": "code",
   "execution_count": 67,
   "metadata": {},
   "outputs": [
    {
     "data": {
      "text/plain": [
       "1.784273286136298"
      ]
     },
     "execution_count": 67,
     "metadata": {},
     "output_type": "execute_result"
    }
   ],
   "source": [
    "rss = np.sum((predict_outcome(simple_test_feature_matrix, [0., 0.]) - test_output) ** 2)\n",
    "rss/10e14"
   ]
  },
  {
   "cell_type": "markdown",
   "metadata": {},
   "source": [
    "Qn 5"
   ]
  },
  {
   "cell_type": "code",
   "execution_count": 54,
   "metadata": {},
   "outputs": [],
   "source": [
    "model_features = ['sqft_living', 'sqft_living15']\n",
    "my_output = 'price'\n",
    "(feature_matrix, output) = get_numpy_data(train_data, model_features, my_output)\n",
    "(test_feature_matrix, test_output) = get_numpy_data(test_data, model_features, my_output)"
   ]
  },
  {
   "cell_type": "code",
   "execution_count": 56,
   "metadata": {},
   "outputs": [],
   "source": [
    "initial_weights = [0.,0.,0.]\n",
    "step_size = 1e-12\n",
    "max_iterations = 1000\n",
    "l2_penalty = 0.0"
   ]
  },
  {
   "cell_type": "code",
   "execution_count": 57,
   "metadata": {},
   "outputs": [
    {
     "name": "stdout",
     "output_type": "stream",
     "text": [
      "[ -0.35743483 243.05416982  22.41481497]\n"
     ]
    }
   ],
   "source": [
    "weight_low_penalty = ridge_regression_gradient_descent(feature_matrix, output, initial_weights, step_size, l2_penalty, max_iterations)\n",
    "\n",
    "print(weight_low_penalty)"
   ]
  },
  {
   "cell_type": "markdown",
   "metadata": {},
   "source": [
    "Qn 6"
   ]
  },
  {
   "cell_type": "code",
   "execution_count": 58,
   "metadata": {},
   "outputs": [],
   "source": [
    "l2_penalty = 1e11"
   ]
  },
  {
   "cell_type": "code",
   "execution_count": 59,
   "metadata": {},
   "outputs": [
    {
     "name": "stdout",
     "output_type": "stream",
     "text": [
      "[ 6.74296579 91.48927365 78.43658766]\n"
     ]
    }
   ],
   "source": [
    "weight_high_penalty = ridge_regression_gradient_descent(feature_matrix, output, initial_weights, step_size, l2_penalty, max_iterations)\n",
    "\n",
    "print(weight_high_penalty)"
   ]
  },
  {
   "cell_type": "markdown",
   "metadata": {},
   "source": [
    "Qn 7"
   ]
  },
  {
   "cell_type": "code",
   "execution_count": 60,
   "metadata": {},
   "outputs": [
    {
     "data": {
      "text/plain": [
       "array([270453.53032009, 437754.39782569, 237243.08619709, ...,\n",
       "       428219.91346699, 354885.92051509, 173331.12150199])"
      ]
     },
     "execution_count": 60,
     "metadata": {},
     "output_type": "execute_result"
    }
   ],
   "source": [
    "test_predict2 = predict_outcome(test_feature_matrix, [6.74296579, 91.48927365, 78.43658766])\n",
    "test_predict2"
   ]
  },
  {
   "cell_type": "code",
   "execution_count": 61,
   "metadata": {},
   "outputs": [
    {
     "data": {
      "text/plain": [
       "5.00404800501054"
      ]
     },
     "execution_count": 61,
     "metadata": {},
     "output_type": "execute_result"
    }
   ],
   "source": [
    "rss = np.sum((test_predict2 - test_output) ** 2)\n",
    "rss/10e13"
   ]
  },
  {
   "cell_type": "code",
   "execution_count": 62,
   "metadata": {},
   "outputs": [
    {
     "data": {
      "text/plain": [
       "2.740676159186628"
      ]
     },
     "execution_count": 62,
     "metadata": {},
     "output_type": "execute_result"
    }
   ],
   "source": [
    "rss = np.sum((predict_outcome(test_feature_matrix, [-0.35743483, 243.05416982, 22.41481497]) - test_output) ** 2)\n",
    "rss/10e13"
   ]
  },
  {
   "cell_type": "code",
   "execution_count": 64,
   "metadata": {},
   "outputs": [
    {
     "data": {
      "text/plain": [
       "1.784273286136298"
      ]
     },
     "execution_count": 64,
     "metadata": {},
     "output_type": "execute_result"
    }
   ],
   "source": [
    "rss = np.sum((predict_outcome(test_feature_matrix, [0., 0., 0.]) - test_output) ** 2)\n",
    "rss/10e14"
   ]
  },
  {
   "cell_type": "markdown",
   "metadata": {},
   "source": [
    "Qn 8"
   ]
  },
  {
   "cell_type": "code",
   "execution_count": 46,
   "metadata": {},
   "outputs": [
    {
     "data": {
      "text/plain": [
       "416840.0"
      ]
     },
     "execution_count": 46,
     "metadata": {},
     "output_type": "execute_result"
    }
   ],
   "source": [
    "test_predict3 = predict_outcome(test_feature_matrix, [0,172,96])\n",
    "test_predict3[0]"
   ]
  },
  {
   "cell_type": "code",
   "execution_count": 47,
   "metadata": {},
   "outputs": [
    {
     "data": {
      "text/plain": [
       "267540.0"
      ]
     },
     "execution_count": 47,
     "metadata": {},
     "output_type": "execute_result"
    }
   ],
   "source": [
    "test_predict2[0]"
   ]
  },
  {
   "cell_type": "code",
   "execution_count": 48,
   "metadata": {},
   "outputs": [
    {
     "data": {
      "text/plain": [
       "310000.0"
      ]
     },
     "execution_count": 48,
     "metadata": {},
     "output_type": "execute_result"
    }
   ],
   "source": [
    "test_output[0] ### Model with high penalty predicts better"
   ]
  }
 ],
 "metadata": {
  "kernelspec": {
   "display_name": "Python 3",
   "language": "python",
   "name": "python3"
  },
  "language_info": {
   "codemirror_mode": {
    "name": "ipython",
    "version": 3
   },
   "file_extension": ".py",
   "mimetype": "text/x-python",
   "name": "python",
   "nbconvert_exporter": "python",
   "pygments_lexer": "ipython3",
   "version": "3.6.4"
  }
 },
 "nbformat": 4,
 "nbformat_minor": 2
}
