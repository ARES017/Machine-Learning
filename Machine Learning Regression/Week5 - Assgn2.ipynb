{
 "cells": [
  {
   "cell_type": "markdown",
   "metadata": {},
   "source": [
    "#### Importing Libraries"
   ]
  },
  {
   "cell_type": "code",
   "execution_count": 1,
   "metadata": {
    "collapsed": true
   },
   "outputs": [],
   "source": [
    "import pandas as pd\n",
    "import numpy as np\n",
    "from math import log, sqrt\n",
    "from sklearn.metrics import mean_squared_error"
   ]
  },
  {
   "cell_type": "markdown",
   "metadata": {},
   "source": [
    "#### Import Data"
   ]
  },
  {
   "cell_type": "code",
   "execution_count": 2,
   "metadata": {
    "collapsed": true
   },
   "outputs": [],
   "source": [
    "dtype_dict = {'bathrooms':float, 'waterfront':int, 'sqft_above':int, 'sqft_living15':float, 'grade':int, 'yr_renovated':int, 'price':float, 'bedrooms':float, 'zipcode':str, 'long':float, 'sqft_lot15':float, 'sqft_living':float, 'floors':float, 'condition':int, 'lat':float, 'date':str, 'sqft_basement':int, 'yr_built':int, 'id':str, 'sqft_lot':int, 'view':int}"
   ]
  },
  {
   "cell_type": "code",
   "execution_count": 62,
   "metadata": {
    "collapsed": true
   },
   "outputs": [],
   "source": [
    "sales = pd.read_csv('kc_house_data.csv ', dtype=dtype_dict)\n",
    "train_data = pd.read_csv('kc_house_train_data.csv', dtype=dtype_dict)\n",
    "test_data = pd.read_csv('kc_house_test_data.csv' , dtype=dtype_dict)"
   ]
  },
  {
   "cell_type": "code",
   "execution_count": 63,
   "metadata": {},
   "outputs": [
    {
     "name": "stdout",
     "output_type": "stream",
     "text": [
      "           id             date     price  bedrooms  bathrooms  sqft_living  \\\n",
      "0  7129300520  20141013T000000  221900.0       3.0       1.00       1180.0   \n",
      "1  6414100192  20141209T000000  538000.0       3.0       2.25       2570.0   \n",
      "2  5631500400  20150225T000000  180000.0       2.0       1.00        770.0   \n",
      "3  2487200875  20141209T000000  604000.0       4.0       3.00       1960.0   \n",
      "4  1954400510  20150218T000000  510000.0       3.0       2.00       1680.0   \n",
      "\n",
      "   sqft_lot  floors  waterfront  view     ...      grade  sqft_above  \\\n",
      "0      5650     1.0           0     0     ...          7        1180   \n",
      "1      7242     2.0           0     0     ...          7        2170   \n",
      "2     10000     1.0           0     0     ...          6         770   \n",
      "3      5000     1.0           0     0     ...          7        1050   \n",
      "4      8080     1.0           0     0     ...          8        1680   \n",
      "\n",
      "   sqft_basement  yr_built  yr_renovated  zipcode      lat     long  \\\n",
      "0              0      1955             0    98178  47.5112 -122.257   \n",
      "1            400      1951          1991    98125  47.7210 -122.319   \n",
      "2              0      1933             0    98028  47.7379 -122.233   \n",
      "3            910      1965             0    98136  47.5208 -122.393   \n",
      "4              0      1987             0    98074  47.6168 -122.045   \n",
      "\n",
      "   sqft_living15  sqft_lot15  \n",
      "0         1340.0      5650.0  \n",
      "1         1690.0      7639.0  \n",
      "2         2720.0      8062.0  \n",
      "3         1360.0      5000.0  \n",
      "4         1800.0      7503.0  \n",
      "\n",
      "[5 rows x 21 columns]\n",
      "           id             date     price  bedrooms  bathrooms  sqft_living  \\\n",
      "0  7129300520  20141013T000000  221900.0       3.0       1.00       1180.0   \n",
      "1  6414100192  20141209T000000  538000.0       3.0       2.25       2570.0   \n",
      "2  5631500400  20150225T000000  180000.0       2.0       1.00        770.0   \n",
      "3  2487200875  20141209T000000  604000.0       4.0       3.00       1960.0   \n",
      "4  1954400510  20150218T000000  510000.0       3.0       2.00       1680.0   \n",
      "\n",
      "   sqft_lot  floors  waterfront  view     ...      grade  sqft_above  \\\n",
      "0      5650     1.0           0     0     ...          7        1180   \n",
      "1      7242     2.0           0     0     ...          7        2170   \n",
      "2     10000     1.0           0     0     ...          6         770   \n",
      "3      5000     1.0           0     0     ...          7        1050   \n",
      "4      8080     1.0           0     0     ...          8        1680   \n",
      "\n",
      "   sqft_basement  yr_built  yr_renovated  zipcode      lat     long  \\\n",
      "0              0      1955             0    98178  47.5112 -122.257   \n",
      "1            400      1951          1991    98125  47.7210 -122.319   \n",
      "2              0      1933             0    98028  47.7379 -122.233   \n",
      "3            910      1965             0    98136  47.5208 -122.393   \n",
      "4              0      1987             0    98074  47.6168 -122.045   \n",
      "\n",
      "   sqft_living15  sqft_lot15  \n",
      "0         1340.0      5650.0  \n",
      "1         1690.0      7639.0  \n",
      "2         2720.0      8062.0  \n",
      "3         1360.0      5000.0  \n",
      "4         1800.0      7503.0  \n",
      "\n",
      "[5 rows x 21 columns]\n",
      "           id             date     price  bedrooms  bathrooms  sqft_living  \\\n",
      "0  0114101516  20140528T000000  310000.0       3.0        1.0       1430.0   \n",
      "1  9297300055  20150124T000000  650000.0       4.0        3.0       2950.0   \n",
      "2  1202000200  20141103T000000  233000.0       3.0        2.0       1710.0   \n",
      "3  8562750320  20141110T000000  580500.0       3.0        2.5       2320.0   \n",
      "4  7589200193  20141110T000000  535000.0       3.0        1.0       1090.0   \n",
      "\n",
      "   sqft_lot  floors  waterfront  view     ...      grade  sqft_above  \\\n",
      "0     19901     1.5           0     0     ...          7        1430   \n",
      "1      5000     2.0           0     3     ...          9        1980   \n",
      "2      4697     1.5           0     0     ...          6        1710   \n",
      "3      3980     2.0           0     0     ...          8        2320   \n",
      "4      3000     1.5           0     0     ...          8        1090   \n",
      "\n",
      "   sqft_basement  yr_built  yr_renovated  zipcode      lat     long  \\\n",
      "0              0      1927             0    98028  47.7558 -122.229   \n",
      "1            970      1979             0    98126  47.5714 -122.375   \n",
      "2              0      1941             0    98002  47.3048 -122.218   \n",
      "3              0      2003             0    98027  47.5391 -122.070   \n",
      "4              0      1929             0    98117  47.6889 -122.375   \n",
      "\n",
      "   sqft_living15  sqft_lot15  \n",
      "0         1780.0     12697.0  \n",
      "1         2140.0      4000.0  \n",
      "2         1030.0      4705.0  \n",
      "3         2580.0      3980.0  \n",
      "4         1570.0      5080.0  \n",
      "\n",
      "[5 rows x 21 columns]\n"
     ]
    }
   ],
   "source": [
    "print(sales.head())\n",
    "print(train_data.head())\n",
    "print(test_data.head())"
   ]
  },
  {
   "cell_type": "markdown",
   "metadata": {},
   "source": [
    "#### Adding Constant column to Feature Matrices"
   ]
  },
  {
   "cell_type": "code",
   "execution_count": 5,
   "metadata": {
    "collapsed": true
   },
   "outputs": [],
   "source": [
    "def get_numpy_data(data, features, output):\n",
    "    data['constant'] = 1 # add a constant column - for intercept term\n",
    "    \n",
    "    # prepend variable 'constant' to the features list\n",
    "    features = ['constant'] + features\n",
    "    \n",
    "    # this will convert the features_sframe into a numpy matrix with GraphLab Create >= 1.7!!\n",
    "    features_matrix = np.array(data.loc[:,features])\n",
    " \n",
    "\n",
    "    # this will convert the SArray into a numpy array:\n",
    "    output_array = np.array(data.loc[:,output]) \n",
    "    return(features_matrix, output_array)\n"
   ]
  },
  {
   "cell_type": "code",
   "execution_count": 6,
   "metadata": {
    "collapsed": true
   },
   "outputs": [],
   "source": [
    "def predict_output(feature_matrix, weights):\n",
    "    predictions = np.dot(feature_matrix, weights)\n",
    "    return(predictions)"
   ]
  },
  {
   "cell_type": "markdown",
   "metadata": {},
   "source": [
    "#### Normalization"
   ]
  },
  {
   "cell_type": "code",
   "execution_count": 7,
   "metadata": {
    "collapsed": true
   },
   "outputs": [],
   "source": [
    "def normalize_features(features):\n",
    "    norms = np.linalg.norm(features, axis=0) ### sqrt(f1^2 + f2^2 + ......... + fd^2)\n",
    "    normalized_features = features / norms\n",
    "    return (normalized_features, norms)"
   ]
  },
  {
   "cell_type": "markdown",
   "metadata": {},
   "source": [
    "#### Simple Model"
   ]
  },
  {
   "cell_type": "code",
   "execution_count": 8,
   "metadata": {
    "collapsed": true
   },
   "outputs": [],
   "source": [
    "simple_features = ['sqft_living', 'bedrooms']\n",
    "output = ['price']\n",
    "simple_features_matrix, simple_output = get_numpy_data(sales, simple_features, output)"
   ]
  },
  {
   "cell_type": "code",
   "execution_count": 9,
   "metadata": {},
   "outputs": [
    {
     "name": "stdout",
     "output_type": "stream",
     "text": [
      "[[  1.00000000e+00   1.18000000e+03   3.00000000e+00]\n",
      " [  1.00000000e+00   2.57000000e+03   3.00000000e+00]\n",
      " [  1.00000000e+00   7.70000000e+02   2.00000000e+00]\n",
      " ..., \n",
      " [  1.00000000e+00   1.02000000e+03   2.00000000e+00]\n",
      " [  1.00000000e+00   1.60000000e+03   3.00000000e+00]\n",
      " [  1.00000000e+00   1.02000000e+03   2.00000000e+00]]\n",
      "[[ 221900.]\n",
      " [ 538000.]\n",
      " [ 180000.]\n",
      " ..., \n",
      " [ 402101.]\n",
      " [ 400000.]\n",
      " [ 325000.]]\n"
     ]
    }
   ],
   "source": [
    "print(simple_features_matrix)\n",
    "print(simple_output)"
   ]
  },
  {
   "cell_type": "markdown",
   "metadata": {},
   "source": [
    "#### Normalizing Input"
   ]
  },
  {
   "cell_type": "code",
   "execution_count": 10,
   "metadata": {
    "collapsed": true
   },
   "outputs": [],
   "source": [
    "simple_features_matrix_norm, norms = normalize_features(simple_features_matrix)"
   ]
  },
  {
   "cell_type": "code",
   "execution_count": 11,
   "metadata": {},
   "outputs": [
    {
     "name": "stdout",
     "output_type": "stream",
     "text": [
      "[[ 0.00680209  0.00353021  0.00583571]\n",
      " [ 0.00680209  0.00768869  0.00583571]\n",
      " [ 0.00680209  0.00230361  0.00389048]\n",
      " ..., \n",
      " [ 0.00680209  0.00305154  0.00389048]\n",
      " [ 0.00680209  0.00478673  0.00583571]\n",
      " [ 0.00680209  0.00305154  0.00389048]]\n",
      "[  1.47013605e+02   3.34257264e+05   5.14075870e+02]\n"
     ]
    }
   ],
   "source": [
    "print(simple_features_matrix_norm)\n",
    "print(norms)"
   ]
  },
  {
   "cell_type": "markdown",
   "metadata": {},
   "source": [
    "#### Cordinate Descent"
   ]
  },
  {
   "cell_type": "code",
   "execution_count": 12,
   "metadata": {
    "collapsed": true
   },
   "outputs": [],
   "source": [
    "def lasso_coordinate_descent_step(i, feature_matrix, output, weights, l1_penalty):\n",
    "    \n",
    "    weights = np.array(weights)\n",
    "    \n",
    "    prediction = predict_output(feature_matrix, weights)\n",
    "    \n",
    "    # compute ro[i] = SUM[ [feature_i]*(output - prediction + weight[i]*[feature_i]) ]\n",
    "    ro_i = np.sum((feature_matrix[:,i]) * (output.reshape(len(output),) - prediction + np.dot(feature_matrix[:,i], weights[i])))\n",
    "    \n",
    "    if i == 0: # intercept -- do not regularize\n",
    "        new_weight_i = ro_i\n",
    "    elif ro_i < -l1_penalty/2.:\n",
    "        new_weight_i = ro_i + l1_penalty/2\n",
    "    elif ro_i > l1_penalty/2.:\n",
    "        new_weight_i = ro_i - l1_penalty/2\n",
    "    else:\n",
    "        new_weight_i = 0.\n",
    "    \n",
    "    return new_weight_i"
   ]
  },
  {
   "cell_type": "markdown",
   "metadata": {},
   "source": [
    "#### Qn 1"
   ]
  },
  {
   "cell_type": "code",
   "execution_count": 13,
   "metadata": {
    "collapsed": true
   },
   "outputs": [],
   "source": [
    "initial_weights = [1., 4., 1.]\n",
    "predict = predict_output(simple_features_matrix_norm, initial_weights)\n",
    "ro_i_feature1 = np.sum((simple_features_matrix_norm[:,1]) * (simple_output.reshape(len(simple_output),) - predict + np.dot(simple_features_matrix_norm[:,1], initial_weights[1])))"
   ]
  },
  {
   "cell_type": "code",
   "execution_count": 14,
   "metadata": {},
   "outputs": [
    {
     "name": "stdout",
     "output_type": "stream",
     "text": [
      "1.75878941647\n"
     ]
    }
   ],
   "source": [
    "print(2*ro_i_feature1/1e8)"
   ]
  },
  {
   "cell_type": "markdown",
   "metadata": {},
   "source": [
    "#### Qn 2"
   ]
  },
  {
   "cell_type": "code",
   "execution_count": 15,
   "metadata": {
    "collapsed": true
   },
   "outputs": [],
   "source": [
    "ro_i_feature2 = np.sum((simple_features_matrix_norm[:,2]) * (simple_output.reshape(len(simple_output),) - predict + np.dot(simple_features_matrix_norm[:,2], initial_weights[2])))"
   ]
  },
  {
   "cell_type": "code",
   "execution_count": 16,
   "metadata": {},
   "outputs": [
    {
     "name": "stdout",
     "output_type": "stream",
     "text": [
      "1.61933397332\n"
     ]
    }
   ],
   "source": [
    "print(2*ro_i_feature2/1e8)"
   ]
  },
  {
   "cell_type": "markdown",
   "metadata": {},
   "source": [
    "#### Test"
   ]
  },
  {
   "cell_type": "code",
   "execution_count": 17,
   "metadata": {},
   "outputs": [
    {
     "name": "stdout",
     "output_type": "stream",
     "text": [
      "0.425558846691\n"
     ]
    }
   ],
   "source": [
    "# should print 0.425558846691\n",
    "import math\n",
    "print(lasso_coordinate_descent_step(1, np.array([[3./math.sqrt(13),1./math.sqrt(10)],\n",
    "                   [2./math.sqrt(13),3./math.sqrt(10)]]), np.array([1., 1.]), np.array([1., 4.]), 0.1))"
   ]
  },
  {
   "cell_type": "markdown",
   "metadata": {},
   "source": [
    "#### Cyclical Coordinate Descent"
   ]
  },
  {
   "cell_type": "code",
   "execution_count": 213,
   "metadata": {
    "collapsed": true
   },
   "outputs": [],
   "source": [
    "def lasso_cyclical_coordinate_descent(feature_matrix, output, initial_weights, l1_penalty, tolerance):\n",
    "    \n",
    "    initial_weights = np.array(initial_weights)\n",
    "    \n",
    "    while True:\n",
    "        max_diff = 0\n",
    "        for i in range(feature_matrix.shape[1]):\n",
    "            weights = (lasso_coordinate_descent_step(i, feature_matrix, output, initial_weights, l1_penalty))\n",
    "            if np.absolute(weights - initial_weights[i]) > max_diff:\n",
    "                max_diff = np.absolute(weights - initial_weights[i])\n",
    "            initial_weights[i] = weights\n",
    "        \n",
    "        if max_diff < (tolerance * l1_penalty):\n",
    "            break\n",
    "    \n",
    "    return initial_weights"
   ]
  },
  {
   "cell_type": "markdown",
   "metadata": {},
   "source": [
    "#### Qn 3"
   ]
  },
  {
   "cell_type": "code",
   "execution_count": 210,
   "metadata": {
    "collapsed": true
   },
   "outputs": [],
   "source": [
    "initial_weights = [0.]*3\n",
    "l1_penalty = 1e7\n",
    "tolerance = 1.0"
   ]
  },
  {
   "cell_type": "code",
   "execution_count": 211,
   "metadata": {
    "collapsed": true
   },
   "outputs": [],
   "source": [
    "final_weights = lasso_cyclical_coordinate_descent(simple_features_matrix_norm, simple_output, initial_weights, l1_penalty, tolerance)"
   ]
  },
  {
   "cell_type": "code",
   "execution_count": 214,
   "metadata": {},
   "outputs": [
    {
     "data": {
      "text/plain": [
       "array([ 70262136.26121683,  18947595.76476732,         0.        ])"
      ]
     },
     "execution_count": 214,
     "metadata": {},
     "output_type": "execute_result"
    }
   ],
   "source": [
    "final_weights"
   ]
  },
  {
   "cell_type": "code",
   "execution_count": 215,
   "metadata": {},
   "outputs": [
    {
     "data": {
      "text/plain": [
       "array([ 322918.57015868,   85611.64645016,  341577.44693601, ...,\n",
       "        133647.8635352 ,  168626.55004532,  210748.8635352 ])"
      ]
     },
     "execution_count": 215,
     "metadata": {},
     "output_type": "execute_result"
    }
   ],
   "source": [
    "residue = predict_output(simple_features_matrix_norm, final_weights) - simple_output.reshape(len(simple_output),)\n",
    "residue"
   ]
  },
  {
   "cell_type": "code",
   "execution_count": 216,
   "metadata": {},
   "outputs": [
    {
     "data": {
      "text/plain": [
       "2.4586552174937886"
      ]
     },
     "execution_count": 216,
     "metadata": {},
     "output_type": "execute_result"
    }
   ],
   "source": [
    "rss = np.sum(residue ** 2)/1e15\n",
    "rss"
   ]
  },
  {
   "cell_type": "markdown",
   "metadata": {},
   "source": [
    "#### Qn 4"
   ]
  },
  {
   "cell_type": "code",
   "execution_count": 174,
   "metadata": {},
   "outputs": [
    {
     "data": {
      "text/plain": [
       "array([ 70262136.26121683,  18947595.76476732,         0.        ])"
      ]
     },
     "execution_count": 174,
     "metadata": {},
     "output_type": "execute_result"
    }
   ],
   "source": [
    "final_weights"
   ]
  },
  {
   "cell_type": "markdown",
   "metadata": {},
   "source": [
    "#### Qn 5"
   ]
  },
  {
   "cell_type": "code",
   "execution_count": 64,
   "metadata": {
    "collapsed": true
   },
   "outputs": [],
   "source": [
    "new_features = ['bedrooms', 'bathrooms', 'sqft_living', 'sqft_lot', 'floors', 'waterfront', 'view', 'condition', 'grade', 'sqft_above', 'sqft_basement', 'yr_built', 'yr_renovated']\n",
    "output = ['price']\n",
    "train_features_matrix, output_train = get_numpy_data(train_data, new_features, output)\n",
    "test_features_matrix, output_test = get_numpy_data(test_data, new_features, output)"
   ]
  },
  {
   "cell_type": "code",
   "execution_count": 70,
   "metadata": {},
   "outputs": [
    {
     "name": "stdout",
     "output_type": "stream",
     "text": [
      "[[  1.00000000e+00   3.00000000e+00   1.00000000e+00 ...,   0.00000000e+00\n",
      "    1.95500000e+03   0.00000000e+00]\n",
      " [  1.00000000e+00   3.00000000e+00   2.25000000e+00 ...,   4.00000000e+02\n",
      "    1.95100000e+03   1.99100000e+03]\n",
      " [  1.00000000e+00   2.00000000e+00   1.00000000e+00 ...,   0.00000000e+00\n",
      "    1.93300000e+03   0.00000000e+00]\n",
      " ..., \n",
      " [  1.00000000e+00   3.00000000e+00   2.50000000e+00 ...,   0.00000000e+00\n",
      "    2.00900000e+03   0.00000000e+00]\n",
      " [  1.00000000e+00   3.00000000e+00   2.50000000e+00 ...,   0.00000000e+00\n",
      "    2.00400000e+03   0.00000000e+00]\n",
      " [  1.00000000e+00   2.00000000e+00   7.50000000e-01 ...,   0.00000000e+00\n",
      "    2.00800000e+03   0.00000000e+00]]\n",
      "[[ 221900.]\n",
      " [ 538000.]\n",
      " [ 180000.]\n",
      " ..., \n",
      " [ 360000.]\n",
      " [ 400000.]\n",
      " [ 325000.]]\n"
     ]
    }
   ],
   "source": [
    "print(train_features_matrix)\n",
    "print(output_train)"
   ]
  },
  {
   "cell_type": "code",
   "execution_count": 69,
   "metadata": {},
   "outputs": [
    {
     "name": "stdout",
     "output_type": "stream",
     "text": [
      "[[  1.00000000e+00   3.00000000e+00   1.00000000e+00 ...,   0.00000000e+00\n",
      "    1.92700000e+03   0.00000000e+00]\n",
      " [  1.00000000e+00   4.00000000e+00   3.00000000e+00 ...,   9.70000000e+02\n",
      "    1.97900000e+03   0.00000000e+00]\n",
      " [  1.00000000e+00   3.00000000e+00   2.00000000e+00 ...,   0.00000000e+00\n",
      "    1.94100000e+03   0.00000000e+00]\n",
      " ..., \n",
      " [  1.00000000e+00   4.00000000e+00   2.50000000e+00 ...,   0.00000000e+00\n",
      "    2.01400000e+03   0.00000000e+00]\n",
      " [  1.00000000e+00   4.00000000e+00   2.50000000e+00 ...,   0.00000000e+00\n",
      "    2.01400000e+03   0.00000000e+00]\n",
      " [  1.00000000e+00   2.00000000e+00   7.50000000e-01 ...,   0.00000000e+00\n",
      "    2.00900000e+03   0.00000000e+00]]\n",
      "[[ 310000.]\n",
      " [ 650000.]\n",
      " [ 233000.]\n",
      " ..., \n",
      " [ 610685.]\n",
      " [ 400000.]\n",
      " [ 402101.]]\n"
     ]
    }
   ],
   "source": [
    "print(test_features_matrix)\n",
    "print(output_test)"
   ]
  },
  {
   "cell_type": "markdown",
   "metadata": {},
   "source": [
    "#### Normalizing Train Data"
   ]
  },
  {
   "cell_type": "code",
   "execution_count": 217,
   "metadata": {
    "collapsed": true
   },
   "outputs": [],
   "source": [
    "train_features_matrix_norm, train_norms = normalize_features(train_features_matrix)"
   ]
  },
  {
   "cell_type": "code",
   "execution_count": 218,
   "metadata": {},
   "outputs": [
    {
     "name": "stdout",
     "output_type": "stream",
     "text": [
      "[[ 0.00758447  0.00652117  0.0033687  ...,  0.          0.00752148  0.        ]\n",
      " [ 0.00758447  0.00652117  0.00757957 ...,  0.0057043   0.0075061\n",
      "   0.03707954]\n",
      " [ 0.00758447  0.00434745  0.0033687  ...,  0.          0.00743684  0.        ]\n",
      " ..., \n",
      " [ 0.00758447  0.00652117  0.00842175 ...,  0.          0.00772924  0.        ]\n",
      " [ 0.00758447  0.00652117  0.00842175 ...,  0.          0.00771     0.        ]\n",
      " [ 0.00758447  0.00434745  0.00252652 ...,  0.          0.00772539  0.        ]]\n",
      "[  1.31848398e+02   4.60040216e+02   2.96850552e+02   2.99962419e+05\n",
      "   5.81709718e+06   2.09458827e+02   1.15325626e+01   1.05933942e+02\n",
      "   4.57793622e+02   1.02101959e+03   2.59726472e+05   7.01224951e+04\n",
      "   2.59922094e+05   5.36953839e+04]\n"
     ]
    }
   ],
   "source": [
    "print(train_features_matrix_norm)\n",
    "print(train_norms)"
   ]
  },
  {
   "cell_type": "code",
   "execution_count": 219,
   "metadata": {
    "collapsed": true
   },
   "outputs": [],
   "source": [
    "initial_weights = [0.]*14\n",
    "l1_penalty = 1e7\n",
    "tolerance = 1.0"
   ]
  },
  {
   "cell_type": "code",
   "execution_count": 220,
   "metadata": {},
   "outputs": [
    {
     "data": {
      "text/plain": [
       "array([ 66090269.34433953,         0.        ,   5640929.98980149,\n",
       "         9576074.11132805,         0.        ,         0.        ,\n",
       "         4372018.71148063,   8681305.93741526,  -5916544.49084155,\n",
       "               0.        ,         0.        ,   2344289.5470792 ,\n",
       "        -2427081.43932464,         0.        ])"
      ]
     },
     "execution_count": 220,
     "metadata": {},
     "output_type": "execute_result"
    }
   ],
   "source": [
    "weights_1e7 = lasso_cyclical_coordinate_descent(train_features_matrix_norm, output_train, initial_weights, l1_penalty, tolerance)\n",
    "weights_1e7"
   ]
  },
  {
   "cell_type": "code",
   "execution_count": null,
   "metadata": {
    "collapsed": true
   },
   "outputs": [],
   "source": [
    "bathrooms, sqft_living, waterfront, view, condition, sqft_basement, yr_built\n",
    "bedrooms, bathrooms, sqft_living, sqft_lot, floors, waterfront, view, condition, grade, sqft_above, sqft_basement, yr_built, yr_renovated"
   ]
  },
  {
   "cell_type": "code",
   "execution_count": 201,
   "metadata": {},
   "outputs": [
    {
     "data": {
      "text/plain": [
       "0.46885790941584"
      ]
     },
     "execution_count": 201,
     "metadata": {},
     "output_type": "execute_result"
    }
   ],
   "source": [
    "2344289.5470792/0.5e7"
   ]
  },
  {
   "cell_type": "markdown",
   "metadata": {},
   "source": [
    "#### Qn 6"
   ]
  },
  {
   "cell_type": "code",
   "execution_count": 180,
   "metadata": {
    "collapsed": true
   },
   "outputs": [],
   "source": [
    "l1_penalty = 1e8"
   ]
  },
  {
   "cell_type": "code",
   "execution_count": 181,
   "metadata": {},
   "outputs": [
    {
     "data": {
      "text/plain": [
       "array([ 71114625.71488702,         0.        ,         0.        ,\n",
       "               0.        ,         0.        ,         0.        ,\n",
       "               0.        ,         0.        ,         0.        ,\n",
       "               0.        ,         0.        ,         0.        ,\n",
       "               0.        ,         0.        ])"
      ]
     },
     "execution_count": 181,
     "metadata": {},
     "output_type": "execute_result"
    }
   ],
   "source": [
    "weights_1e8 = lasso_cyclical_coordinate_descent(train_features_matrix_norm, output_train, initial_weights, l1_penalty, tolerance)\n",
    "weights_1e8"
   ]
  },
  {
   "cell_type": "markdown",
   "metadata": {},
   "source": [
    "#### Qn 7"
   ]
  },
  {
   "cell_type": "code",
   "execution_count": 182,
   "metadata": {
    "collapsed": true
   },
   "outputs": [],
   "source": [
    "l1_penalty = 1e4"
   ]
  },
  {
   "cell_type": "code",
   "execution_count": 183,
   "metadata": {},
   "outputs": [
    {
     "data": {
      "text/plain": [
       "array([  7.00051156e+08,  -1.94071020e+07,   1.11156277e+07,\n",
       "         5.24876410e+07,  -1.37873317e+06,   3.85963584e+06,\n",
       "         6.84667148e+06,   4.65892230e+06,   1.03636103e+07,\n",
       "         1.26466051e+08,   0.00000000e+00,   5.35299481e+05,\n",
       "        -8.09539500e+08,   9.70282024e+05])"
      ]
     },
     "execution_count": 183,
     "metadata": {},
     "output_type": "execute_result"
    }
   ],
   "source": [
    "weights_1e4 = lasso_cyclical_coordinate_descent(train_features_matrix_norm, output_train, initial_weights, l1_penalty, tolerance)\n",
    "weights_1e4"
   ]
  },
  {
   "cell_type": "markdown",
   "metadata": {},
   "source": [
    "#### Qn 8"
   ]
  },
  {
   "cell_type": "code",
   "execution_count": 191,
   "metadata": {
    "collapsed": true
   },
   "outputs": [],
   "source": [
    "### 1e7 penalty\n",
    "\n",
    "weights_1e7_norm = weights_1e7/train_norms"
   ]
  },
  {
   "cell_type": "code",
   "execution_count": 193,
   "metadata": {},
   "outputs": [
    {
     "data": {
      "text/plain": [
       "array([ 186223.8489603 ,  223471.32658052,  278110.45888695, ...,\n",
       "        -39048.17341711,  164932.73487634,   88441.60945701])"
      ]
     },
     "execution_count": 193,
     "metadata": {},
     "output_type": "execute_result"
    }
   ],
   "source": [
    "residue_1e7 = predict_output(test_features_matrix, weights_1e7_norm) - output_test.reshape(len(output_test),)\n",
    "residue_1e7"
   ]
  },
  {
   "cell_type": "code",
   "execution_count": 194,
   "metadata": {},
   "outputs": [
    {
     "data": {
      "text/plain": [
       "0.38988733983922685"
      ]
     },
     "execution_count": 194,
     "metadata": {},
     "output_type": "execute_result"
    }
   ],
   "source": [
    "rss_1e7 = np.sum(residue_1e7 ** 2)/1e15\n",
    "rss_1e7"
   ]
  },
  {
   "cell_type": "code",
   "execution_count": 195,
   "metadata": {
    "collapsed": true
   },
   "outputs": [],
   "source": [
    "### 1e8 penalty\n",
    "\n",
    "weights_1e8_norm = weights_1e8/train_norms"
   ]
  },
  {
   "cell_type": "code",
   "execution_count": 196,
   "metadata": {},
   "outputs": [
    {
     "data": {
      "text/plain": [
       "array([ 229366.62793373, -110633.37206627,  306366.62793373, ...,\n",
       "        -71318.37206627,  139366.62793373,  137265.62793373])"
      ]
     },
     "execution_count": 196,
     "metadata": {},
     "output_type": "execute_result"
    }
   ],
   "source": [
    "residue_1e8 = predict_output(test_features_matrix, weights_1e8_norm) - output_test.reshape(len(output_test),)\n",
    "residue_1e8"
   ]
  },
  {
   "cell_type": "code",
   "execution_count": 197,
   "metadata": {},
   "outputs": [
    {
     "data": {
      "text/plain": [
       "0.53716615149732272"
      ]
     },
     "execution_count": 197,
     "metadata": {},
     "output_type": "execute_result"
    }
   ],
   "source": [
    "rss_1e8 = np.sum(residue_1e8 ** 2)/1e15\n",
    "rss_1e8"
   ]
  },
  {
   "cell_type": "code",
   "execution_count": 198,
   "metadata": {
    "collapsed": true
   },
   "outputs": [],
   "source": [
    "### 1e4 penalty\n",
    "\n",
    "weights_1e4_norm = weights_1e4/train_norms"
   ]
  },
  {
   "cell_type": "code",
   "execution_count": 199,
   "metadata": {},
   "outputs": [
    {
     "data": {
      "text/plain": [
       "array([ 139408.48588709,  313302.71605342,  161623.85203612, ...,\n",
       "         10058.52798233,   60184.83733669, -256031.04904917])"
      ]
     },
     "execution_count": 199,
     "metadata": {},
     "output_type": "execute_result"
    }
   ],
   "source": [
    "residue_1e4 = predict_output(test_features_matrix, weights_1e4_norm) - output_test.reshape(len(output_test),)\n",
    "residue_1e4"
   ]
  },
  {
   "cell_type": "code",
   "execution_count": 200,
   "metadata": {},
   "outputs": [
    {
     "data": {
      "text/plain": [
       "0.19444810029655984"
      ]
     },
     "execution_count": 200,
     "metadata": {},
     "output_type": "execute_result"
    }
   ],
   "source": [
    "rss_1e4 = np.sum(residue_1e4 ** 2)/1e15\n",
    "rss_1e4"
   ]
  }
 ],
 "metadata": {
  "kernelspec": {
   "display_name": "Python 3",
   "language": "python",
   "name": "python3"
  },
  "language_info": {
   "codemirror_mode": {
    "name": "ipython",
    "version": 3
   },
   "file_extension": ".py",
   "mimetype": "text/x-python",
   "name": "python",
   "nbconvert_exporter": "python",
   "pygments_lexer": "ipython3",
   "version": "3.6.1"
  }
 },
 "nbformat": 4,
 "nbformat_minor": 2
}
