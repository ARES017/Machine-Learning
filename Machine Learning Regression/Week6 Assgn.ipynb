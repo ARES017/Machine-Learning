{
 "cells": [
  {
   "cell_type": "markdown",
   "metadata": {},
   "source": [
    "#### Import Libraries"
   ]
  },
  {
   "cell_type": "code",
   "execution_count": 109,
   "metadata": {},
   "outputs": [],
   "source": [
    "import pandas as pd\n",
    "import numpy as np\n",
    "from sklearn.metrics import mean_squared_error"
   ]
  },
  {
   "cell_type": "markdown",
   "metadata": {},
   "source": [
    "#### Import Data"
   ]
  },
  {
   "cell_type": "code",
   "execution_count": 3,
   "metadata": {},
   "outputs": [],
   "source": [
    "dtype_dict = {'bathrooms':float, 'waterfront':int, 'sqft_above':int, 'sqft_living15':float, 'grade':int, 'yr_renovated':int, 'price':float, 'bedrooms':float, 'zipcode':str, 'long':float, 'sqft_lot15':float, 'sqft_living':float, 'floors':float, 'condition':int, 'lat':float, 'date':str, 'sqft_basement':int, 'yr_built':int, 'id':str, 'sqft_lot':int, 'view':int}"
   ]
  },
  {
   "cell_type": "code",
   "execution_count": 4,
   "metadata": {},
   "outputs": [],
   "source": [
    "sales = pd.read_csv('kc_house_data_small.csv', dtype = dtype_dict)\n",
    "train = pd.read_csv('kc_house_data_small_train.csv', dtype = dtype_dict)\n",
    "validation = pd.read_csv('kc_house_data_validation.csv', dtype = dtype_dict)\n",
    "test = pd.read_csv('kc_house_data_small_test.csv', dtype = dtype_dict)"
   ]
  },
  {
   "cell_type": "code",
   "execution_count": 5,
   "metadata": {},
   "outputs": [
    {
     "name": "stdout",
     "output_type": "stream",
     "text": [
      "           id             date     price  bedrooms  bathrooms  sqft_living  \\\n",
      "0  7129300520  20141013T000000  221900.0       3.0       1.00       1180.0   \n",
      "1  6414100192  20141209T000000  538000.0       3.0       2.25       2570.0   \n",
      "2  5631500400  20150225T000000  180000.0       2.0       1.00        770.0   \n",
      "3  2487200875  20141209T000000  604000.0       4.0       3.00       1960.0   \n",
      "4  1954400510  20150218T000000  510000.0       3.0       2.00       1680.0   \n",
      "\n",
      "   sqft_lot  floors  waterfront  view     ...      grade  sqft_above  \\\n",
      "0      5650     1.0           0     0     ...          7        1180   \n",
      "1      7242     2.0           0     0     ...          7        2170   \n",
      "2     10000     1.0           0     0     ...          6         770   \n",
      "3      5000     1.0           0     0     ...          7        1050   \n",
      "4      8080     1.0           0     0     ...          8        1680   \n",
      "\n",
      "   sqft_basement  yr_built  yr_renovated  zipcode      lat     long  \\\n",
      "0              0      1955             0    98178  47.5112 -122.257   \n",
      "1            400      1951          1991    98125  47.7210 -122.319   \n",
      "2              0      1933             0    98028  47.7379 -122.233   \n",
      "3            910      1965             0    98136  47.5208 -122.393   \n",
      "4              0      1987             0    98074  47.6168 -122.045   \n",
      "\n",
      "   sqft_living15  sqft_lot15  \n",
      "0         1340.0      5650.0  \n",
      "1         1690.0      7639.0  \n",
      "2         2720.0      8062.0  \n",
      "3         1360.0      5000.0  \n",
      "4         1800.0      7503.0  \n",
      "\n",
      "[5 rows x 21 columns]\n",
      "           id             date     price  bedrooms  bathrooms  sqft_living  \\\n",
      "0  7129300520  20141013T000000  221900.0       3.0       1.00       1180.0   \n",
      "1  6414100192  20141209T000000  538000.0       3.0       2.25       2570.0   \n",
      "2  5631500400  20150225T000000  180000.0       2.0       1.00        770.0   \n",
      "3  2487200875  20141209T000000  604000.0       4.0       3.00       1960.0   \n",
      "4  1954400510  20150218T000000  510000.0       3.0       2.00       1680.0   \n",
      "\n",
      "   sqft_lot  floors  waterfront  view     ...      grade  sqft_above  \\\n",
      "0      5650     1.0           0     0     ...          7        1180   \n",
      "1      7242     2.0           0     0     ...          7        2170   \n",
      "2     10000     1.0           0     0     ...          6         770   \n",
      "3      5000     1.0           0     0     ...          7        1050   \n",
      "4      8080     1.0           0     0     ...          8        1680   \n",
      "\n",
      "   sqft_basement  yr_built  yr_renovated  zipcode      lat     long  \\\n",
      "0              0      1955             0    98178  47.5112 -122.257   \n",
      "1            400      1951          1991    98125  47.7210 -122.319   \n",
      "2              0      1933             0    98028  47.7379 -122.233   \n",
      "3            910      1965             0    98136  47.5208 -122.393   \n",
      "4              0      1987             0    98074  47.6168 -122.045   \n",
      "\n",
      "   sqft_living15  sqft_lot15  \n",
      "0         1340.0      5650.0  \n",
      "1         1690.0      7639.0  \n",
      "2         2720.0      8062.0  \n",
      "3         1360.0      5000.0  \n",
      "4         1800.0      7503.0  \n",
      "\n",
      "[5 rows x 21 columns]\n",
      "           id             date     price  bedrooms  bathrooms  sqft_living  \\\n",
      "0  6300500875  20140514T000000  385000.0       4.0       1.75       1620.0   \n",
      "1  7137970340  20140703T000000  285000.0       5.0       2.50       2270.0   \n",
      "2  0461000390  20140624T000000  687500.0       4.0       1.75       2330.0   \n",
      "3  9270200160  20141028T000000  685000.0       3.0       1.00       1570.0   \n",
      "4  8079040320  20150223T000000  430000.0       4.0       3.00       1850.0   \n",
      "\n",
      "   sqft_lot  floors  waterfront  view     ...      grade  sqft_above  \\\n",
      "0      4980     1.0           0     0     ...          7         860   \n",
      "1      6300     2.0           0     0     ...          8        2270   \n",
      "2      5000     1.5           0     0     ...          7        1510   \n",
      "3      2280     2.0           0     0     ...          7        1570   \n",
      "4      9976     2.0           0     0     ...          8        1850   \n",
      "\n",
      "   sqft_basement  yr_built  yr_renovated  zipcode      lat     long  \\\n",
      "0            760      1947             0    98133  47.7025 -122.341   \n",
      "1              0      1995             0    98092  47.3266 -122.169   \n",
      "2            820      1929             0    98117  47.6823 -122.368   \n",
      "3              0      1922             0    98119  47.6413 -122.364   \n",
      "4              0      1991             0    98059  47.5059 -122.149   \n",
      "\n",
      "   sqft_living15  sqft_lot15  \n",
      "0         1400.0      4980.0  \n",
      "1         2240.0      7005.0  \n",
      "2         1460.0      5000.0  \n",
      "3         1580.0      2640.0  \n",
      "4         2270.0      8542.0  \n",
      "\n",
      "[5 rows x 21 columns]\n",
      "           id             date     price  bedrooms  bathrooms  sqft_living  \\\n",
      "0  9297300055  20150124T000000  650000.0       4.0       3.00       2950.0   \n",
      "1  6865200140  20140529T000000  485000.0       4.0       1.00       1600.0   \n",
      "2  5101402488  20140624T000000  438000.0       3.0       1.75       1520.0   \n",
      "3  7589200193  20141110T000000  535000.0       3.0       1.00       1090.0   \n",
      "4  4178300310  20140716T000000  785000.0       4.0       2.50       2290.0   \n",
      "\n",
      "   sqft_lot  floors  waterfront  view     ...      grade  sqft_above  \\\n",
      "0      5000     2.0           0     3     ...          9        1980   \n",
      "1      4300     1.5           0     0     ...          7        1600   \n",
      "2      6380     1.0           0     0     ...          7         790   \n",
      "3      3000     1.5           0     0     ...          8        1090   \n",
      "4     13416     2.0           0     0     ...          9        2290   \n",
      "\n",
      "   sqft_basement  yr_built  yr_renovated  zipcode      lat     long  \\\n",
      "0            970      1979             0    98126  47.5714 -122.375   \n",
      "1              0      1916             0    98103  47.6648 -122.343   \n",
      "2            730      1948             0    98115  47.6950 -122.304   \n",
      "3              0      1929             0    98117  47.6889 -122.375   \n",
      "4              0      1981             0    98007  47.6194 -122.151   \n",
      "\n",
      "   sqft_living15  sqft_lot15  \n",
      "0         2140.0      4000.0  \n",
      "1         1610.0      4300.0  \n",
      "2         1520.0      6235.0  \n",
      "3         1570.0      5080.0  \n",
      "4         2680.0     13685.0  \n",
      "\n",
      "[5 rows x 21 columns]\n"
     ]
    }
   ],
   "source": [
    "print(sales.head())\n",
    "print(train.head())\n",
    "print(validation.head())\n",
    "print(test.head())"
   ]
  },
  {
   "cell_type": "markdown",
   "metadata": {},
   "source": [
    "#### Function to convert Data to Array"
   ]
  },
  {
   "cell_type": "code",
   "execution_count": 6,
   "metadata": {},
   "outputs": [],
   "source": [
    "def get_numpy_data(data, features, output):\n",
    "    data['constant'] = 1 # add a constant column - for intercept term\n",
    "    \n",
    "    # prepend variable 'constant' to the features list\n",
    "    features = ['constant'] + features\n",
    "    \n",
    "    # this will convert the features_sframe into a numpy matrix with GraphLab Create >= 1.7!!\n",
    "    features_matrix = np.array(data.loc[:,features])\n",
    " \n",
    "\n",
    "    # this will convert the SArray into a numpy array:\n",
    "    output_array = np.array(data.loc[:,output]) \n",
    "    return(features_matrix, output_array)\n"
   ]
  },
  {
   "cell_type": "markdown",
   "metadata": {},
   "source": [
    "#### Function to normalize features"
   ]
  },
  {
   "cell_type": "code",
   "execution_count": 7,
   "metadata": {},
   "outputs": [],
   "source": [
    "def normalize_features(features):\n",
    "    norms = np.linalg.norm(features, axis=0) ### sqrt(f1^2 + f2^2 + ......... + fd^2)\n",
    "    normalized_features = features / norms\n",
    "    return (normalized_features, norms)"
   ]
  },
  {
   "cell_type": "markdown",
   "metadata": {},
   "source": [
    "#### Convert Data to Array"
   ]
  },
  {
   "cell_type": "code",
   "execution_count": 8,
   "metadata": {},
   "outputs": [],
   "source": [
    "features = ['bathrooms', 'waterfront', 'sqft_above', 'sqft_living15', 'grade', 'yr_renovated', 'bedrooms', 'long', 'sqft_lot15', 'sqft_living', 'floors', 'condition', 'lat', 'sqft_basement', 'yr_built', 'sqft_lot', 'view']\n",
    "output = ['price']\n",
    "features_train, output_train = get_numpy_data(train, features, output)"
   ]
  },
  {
   "cell_type": "code",
   "execution_count": 9,
   "metadata": {},
   "outputs": [],
   "source": [
    "features_validation, output_validation = get_numpy_data(validation, features, output)\n",
    "features_test, output_test = get_numpy_data(test, features, output)"
   ]
  },
  {
   "cell_type": "markdown",
   "metadata": {},
   "source": [
    "#### Normalize Data"
   ]
  },
  {
   "cell_type": "code",
   "execution_count": 10,
   "metadata": {
    "scrolled": true
   },
   "outputs": [
    {
     "name": "stdout",
     "output_type": "stream",
     "text": [
      "[[0.01345102 0.00602491 0.         ... 0.01333931 0.00181386 0.        ]\n",
      " [0.01345102 0.01355605 0.         ... 0.01331201 0.00232495 0.        ]\n",
      " [0.01345102 0.00602491 0.         ... 0.0131892  0.00321036 0.        ]\n",
      " ...\n",
      " [0.01345102 0.01506227 0.         ... 0.01366682 0.00177726 0.        ]\n",
      " [0.01345102 0.01506227 0.         ... 0.01374187 0.0019336  0.        ]\n",
      " [0.01345102 0.01506227 0.         ... 0.01370776 0.00036309 0.        ]]\n",
      "[7.43437960e+01 1.65977596e+02 6.32455532e+00 1.45365513e+05\n",
      " 1.55531640e+05 5.75318173e+02 2.99361461e+04 2.57850732e+02\n",
      " 9.08552952e+03 2.46533053e+06 1.67688695e+05 1.17240138e+02\n",
      " 2.57906960e+02 3.53588887e+03 3.90863965e+04 1.46559338e+05\n",
      " 3.11491224e+06 5.87962584e+01]\n"
     ]
    }
   ],
   "source": [
    "features_train_norm, norms = normalize_features(features_train)\n",
    "\n",
    "print(features_train_norm)\n",
    "print(norms)"
   ]
  },
  {
   "cell_type": "code",
   "execution_count": 11,
   "metadata": {},
   "outputs": [
    {
     "name": "stdout",
     "output_type": "stream",
     "text": [
      "[[0.01345102 0.01807473 0.         ... 0.01350306 0.00160518 0.05102365]\n",
      " [0.01345102 0.00602491 0.         ... 0.0130732  0.00138046 0.        ]\n",
      " [0.01345102 0.01054359 0.         ... 0.01329154 0.00204821 0.        ]\n",
      " ...\n",
      " [0.01345102 0.01355605 0.         ... 0.01370776 0.00032457 0.        ]\n",
      " [0.01345102 0.02108718 0.         ... 0.01374187 0.00179042 0.        ]\n",
      " [0.01345102 0.01054359 0.         ... 0.01374187 0.00384216 0.        ]]\n",
      "[[0.01345102 0.01054359 0.         ... 0.01328472 0.00159876 0.        ]\n",
      " [0.01345102 0.01506227 0.         ... 0.01361223 0.00202253 0.        ]\n",
      " [0.01345102 0.01054359 0.         ... 0.0131619  0.00160518 0.        ]\n",
      " ...\n",
      " [0.01345102 0.01506227 0.         ... 0.01370094 0.00032746 0.        ]\n",
      " [0.01345102 0.00903736 0.         ... 0.01370776 0.00056759 0.        ]\n",
      " [0.01345102 0.01204982 0.         ... 0.01374187 0.00036149 0.        ]]\n"
     ]
    }
   ],
   "source": [
    "features_test_norm = features_test / norms\n",
    "features_validation_norm = features_validation / norms\n",
    "\n",
    "print(features_test_norm)\n",
    "print(features_validation_norm)"
   ]
  },
  {
   "cell_type": "markdown",
   "metadata": {},
   "source": [
    "#### Qn 1"
   ]
  },
  {
   "cell_type": "code",
   "execution_count": 12,
   "metadata": {},
   "outputs": [
    {
     "name": "stdout",
     "output_type": "stream",
     "text": [
      "[ 0.01345102  0.01807473  0.          0.01362084  0.01375926  0.01564352\n",
      "  0.          0.01551285 -0.01346922  0.0016225   0.01759212  0.017059\n",
      "  0.0116321   0.01345387  0.02481682  0.01350306  0.00160518  0.05102365]\n",
      "[ 0.01345102  0.00602491  0.          0.0096309   0.01195898  0.01390535\n",
      "  0.          0.01163464 -0.01346251  0.00156612  0.0083488   0.01279425\n",
      "  0.01938684  0.01346821  0.          0.01302544  0.00050756  0.        ]\n"
     ]
    }
   ],
   "source": [
    "print(features_test_norm[0])\n",
    "print(features_train_norm[9])"
   ]
  },
  {
   "cell_type": "code",
   "execution_count": 13,
   "metadata": {},
   "outputs": [
    {
     "data": {
      "text/plain": [
       "0.05972359371398078"
      ]
     },
     "execution_count": 13,
     "metadata": {},
     "output_type": "execute_result"
    }
   ],
   "source": [
    "np.sqrt(np.sum((features_train_norm[9] - features_test_norm[0]) ** 2))"
   ]
  },
  {
   "cell_type": "code",
   "execution_count": 24,
   "metadata": {},
   "outputs": [
    {
     "data": {
      "text/plain": [
       "-0.09343399874654644"
      ]
     },
     "execution_count": 24,
     "metadata": {},
     "output_type": "execute_result"
    }
   ],
   "source": [
    "### Test\n",
    "\n",
    "np.sum(features_train_norm[-1] - features_test_norm[0])"
   ]
  },
  {
   "cell_type": "markdown",
   "metadata": {},
   "source": [
    "#### Qn 2"
   ]
  },
  {
   "cell_type": "code",
   "execution_count": 45,
   "metadata": {},
   "outputs": [],
   "source": [
    "dist = []\n",
    "\n",
    "for i in range(10):\n",
    "    dist.append(np.sqrt(np.sum((features_train_norm[i] - features_test_norm[0]) ** 2)))"
   ]
  },
  {
   "cell_type": "code",
   "execution_count": 46,
   "metadata": {},
   "outputs": [
    {
     "data": {
      "text/plain": [
       "8"
      ]
     },
     "execution_count": 46,
     "metadata": {},
     "output_type": "execute_result"
    }
   ],
   "source": [
    "np.argmin(dist)"
   ]
  },
  {
   "cell_type": "markdown",
   "metadata": {},
   "source": [
    "#### Distance Function"
   ]
  },
  {
   "cell_type": "code",
   "execution_count": 48,
   "metadata": {},
   "outputs": [],
   "source": [
    "def compute_distances(features_instances, features_query):\n",
    "    \n",
    "    distances = []\n",
    "    for i in range(len(features_instances)):\n",
    "        distances.append(np.sqrt(np.sum((features_instances[i] - features_query) ** 2)))\n",
    "    \n",
    "    return distances"
   ]
  },
  {
   "cell_type": "markdown",
   "metadata": {},
   "source": [
    "#### Qn 3"
   ]
  },
  {
   "cell_type": "code",
   "execution_count": 53,
   "metadata": {},
   "outputs": [],
   "source": [
    "dist_qn3 = compute_distances(features_train_norm, features_test_norm[2])"
   ]
  },
  {
   "cell_type": "code",
   "execution_count": 55,
   "metadata": {},
   "outputs": [
    {
     "data": {
      "text/plain": [
       "382"
      ]
     },
     "execution_count": 55,
     "metadata": {},
     "output_type": "execute_result"
    }
   ],
   "source": [
    "np.argmin(dist_qn3)"
   ]
  },
  {
   "cell_type": "markdown",
   "metadata": {},
   "source": [
    "#### Qn 4"
   ]
  },
  {
   "cell_type": "code",
   "execution_count": 56,
   "metadata": {},
   "outputs": [
    {
     "data": {
      "text/plain": [
       "array([249000.])"
      ]
     },
     "execution_count": 56,
     "metadata": {},
     "output_type": "execute_result"
    }
   ],
   "source": [
    "output_train[382]"
   ]
  },
  {
   "cell_type": "markdown",
   "metadata": {},
   "source": [
    "#### Qn 5"
   ]
  },
  {
   "cell_type": "code",
   "execution_count": 57,
   "metadata": {},
   "outputs": [],
   "source": [
    "def k_nearest_neighbors(k, feature_train, features_query):\n",
    "\n",
    "    distances = []\n",
    "    for i in range(len(feature_train)):\n",
    "        distances.append(np.sqrt(np.sum((feature_train[i] - features_query) ** 2)))\n",
    "        \n",
    "    sort_list = np.argsort(distances)\n",
    "    neighbors = sort_list[:k]\n",
    "    \n",
    "    return neighbors"
   ]
  },
  {
   "cell_type": "code",
   "execution_count": 58,
   "metadata": {},
   "outputs": [
    {
     "data": {
      "text/plain": [
       "array([ 382, 1149, 4087, 3142], dtype=int64)"
      ]
     },
     "execution_count": 58,
     "metadata": {},
     "output_type": "execute_result"
    }
   ],
   "source": [
    "k_nearest_neighbors(4, features_train_norm, features_test_norm[2])"
   ]
  },
  {
   "cell_type": "markdown",
   "metadata": {},
   "source": [
    "#### Qn 6"
   ]
  },
  {
   "cell_type": "code",
   "execution_count": 62,
   "metadata": {},
   "outputs": [],
   "source": [
    "def predict_output_of_query(k, features_train, output_train, features_query):\n",
    "    \n",
    "    k_neighbors = k_nearest_neighbors(k, features_train, features_query)\n",
    "    \n",
    "    total_price = 0\n",
    "    \n",
    "    for item in k_neighbors:\n",
    "        total_price = total_price + output_train[item]\n",
    "    \n",
    "    prediction = total_price/k\n",
    "        \n",
    "    return prediction"
   ]
  },
  {
   "cell_type": "code",
   "execution_count": 63,
   "metadata": {},
   "outputs": [
    {
     "data": {
      "text/plain": [
       "array([413987.5])"
      ]
     },
     "execution_count": 63,
     "metadata": {},
     "output_type": "execute_result"
    }
   ],
   "source": [
    "predict_output_of_query(4, features_train_norm, output_train, features_test_norm[2])"
   ]
  },
  {
   "cell_type": "markdown",
   "metadata": {},
   "source": [
    "#### Qn 7"
   ]
  },
  {
   "cell_type": "code",
   "execution_count": 130,
   "metadata": {},
   "outputs": [],
   "source": [
    "def predict_output(k, features_train, output_train, features_query):\n",
    "    \n",
    "    predictions = []\n",
    "    \n",
    "    for house in features_query:\n",
    "        predictions.append(predict_output_of_query(k, features_train, output_train, house))\n",
    "        \n",
    "    return predictions"
   ]
  },
  {
   "cell_type": "code",
   "execution_count": 131,
   "metadata": {},
   "outputs": [],
   "source": [
    "prediction_multi_query_point = predict_output(10, features_train_norm, output_train, features_test_norm[0:10])"
   ]
  },
  {
   "cell_type": "code",
   "execution_count": 128,
   "metadata": {},
   "outputs": [
    {
     "data": {
      "text/plain": [
       "[array([881300.]),\n",
       " array([431860.]),\n",
       " array([460595.]),\n",
       " array([430200.]),\n",
       " array([766750.]),\n",
       " array([667420.]),\n",
       " array([350032.]),\n",
       " array([512800.7]),\n",
       " array([484000.]),\n",
       " array([457235.])]"
      ]
     },
     "execution_count": 128,
     "metadata": {},
     "output_type": "execute_result"
    }
   ],
   "source": [
    "prediction_multi_query_point"
   ]
  },
  {
   "cell_type": "markdown",
   "metadata": {},
   "source": [
    "#### Qn 8"
   ]
  },
  {
   "cell_type": "code",
   "execution_count": 135,
   "metadata": {},
   "outputs": [],
   "source": [
    "k_validation_pred = []\n",
    "\n",
    "for k in range(1,16):\n",
    "    k_validation_pred.append(predict_output(k, features_train_norm, output_train, features_validation_norm))"
   ]
  },
  {
   "cell_type": "code",
   "execution_count": 136,
   "metadata": {},
   "outputs": [
    {
     "data": {
      "text/plain": [
       "15"
      ]
     },
     "execution_count": 136,
     "metadata": {},
     "output_type": "execute_result"
    }
   ],
   "source": [
    "len(k_validation_pred)"
   ]
  },
  {
   "cell_type": "code",
   "execution_count": 139,
   "metadata": {},
   "outputs": [],
   "source": [
    "k_mean_rss = []\n",
    "\n",
    "for item in k_validation_pred:\n",
    "    k_mean_rss.append(mean_squared_error(item, output_validation))"
   ]
  },
  {
   "cell_type": "code",
   "execution_count": 144,
   "metadata": {},
   "outputs": [
    {
     "data": {
      "text/plain": [
       "8"
      ]
     },
     "execution_count": 144,
     "metadata": {},
     "output_type": "execute_result"
    }
   ],
   "source": [
    "best_k = np.argmin(k_mean_rss) + 1\n",
    "\n",
    "best_k"
   ]
  },
  {
   "cell_type": "code",
   "execution_count": 145,
   "metadata": {},
   "outputs": [],
   "source": [
    "test_pred = predict_output(best_k, features_train_norm, output_train, features_test_norm)"
   ]
  },
  {
   "cell_type": "code",
   "execution_count": 146,
   "metadata": {},
   "outputs": [
    {
     "data": {
      "text/plain": [
       "1.331188235515168"
      ]
     },
     "execution_count": 146,
     "metadata": {},
     "output_type": "execute_result"
    }
   ],
   "source": [
    "test_rss = mean_squared_error(test_pred, output_test) * len(output_test)\n",
    "\n",
    "test_rss/1e14"
   ]
  }
 ],
 "metadata": {
  "kernelspec": {
   "display_name": "Python 3",
   "language": "python",
   "name": "python3"
  },
  "language_info": {
   "codemirror_mode": {
    "name": "ipython",
    "version": 3
   },
   "file_extension": ".py",
   "mimetype": "text/x-python",
   "name": "python",
   "nbconvert_exporter": "python",
   "pygments_lexer": "ipython3",
   "version": "3.6.4"
  }
 },
 "nbformat": 4,
 "nbformat_minor": 2
}
