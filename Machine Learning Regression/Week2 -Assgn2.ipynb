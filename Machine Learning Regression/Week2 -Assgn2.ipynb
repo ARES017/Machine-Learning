{
 "cells": [
  {
   "cell_type": "markdown",
   "metadata": {},
   "source": [
    "Import Libraries Required"
   ]
  },
  {
   "cell_type": "code",
   "execution_count": 1,
   "metadata": {
    "collapsed": true
   },
   "outputs": [],
   "source": [
    "import pandas as pd\n",
    "import numpy as np"
   ]
  },
  {
   "cell_type": "markdown",
   "metadata": {},
   "source": [
    "Import Train and Test Data"
   ]
  },
  {
   "cell_type": "code",
   "execution_count": 5,
   "metadata": {},
   "outputs": [
    {
     "name": "stdout",
     "output_type": "stream",
     "text": [
      "           id             date     price  bedrooms  bathrooms  sqft_living  \\\n",
      "0  7129300520  20141013T000000  221900.0         3       1.00         1180   \n",
      "1  6414100192  20141209T000000  538000.0         3       2.25         2570   \n",
      "2  5631500400  20150225T000000  180000.0         2       1.00          770   \n",
      "3  2487200875  20141209T000000  604000.0         4       3.00         1960   \n",
      "4  1954400510  20150218T000000  510000.0         3       2.00         1680   \n",
      "\n",
      "   sqft_lot  floors  waterfront  view     ...      grade  sqft_above  \\\n",
      "0      5650     1.0           0     0     ...          7        1180   \n",
      "1      7242     2.0           0     0     ...          7        2170   \n",
      "2     10000     1.0           0     0     ...          6         770   \n",
      "3      5000     1.0           0     0     ...          7        1050   \n",
      "4      8080     1.0           0     0     ...          8        1680   \n",
      "\n",
      "   sqft_basement  yr_built  yr_renovated  zipcode      lat     long  \\\n",
      "0              0      1955             0    98178  47.5112 -122.257   \n",
      "1            400      1951          1991    98125  47.7210 -122.319   \n",
      "2              0      1933             0    98028  47.7379 -122.233   \n",
      "3            910      1965             0    98136  47.5208 -122.393   \n",
      "4              0      1987             0    98074  47.6168 -122.045   \n",
      "\n",
      "   sqft_living15  sqft_lot15  \n",
      "0           1340        5650  \n",
      "1           1690        7639  \n",
      "2           2720        8062  \n",
      "3           1360        5000  \n",
      "4           1800        7503  \n",
      "\n",
      "[5 rows x 21 columns]\n",
      "           id             date     price  bedrooms  bathrooms  sqft_living  \\\n",
      "0   114101516  20140528T000000  310000.0         3        1.0         1430   \n",
      "1  9297300055  20150124T000000  650000.0         4        3.0         2950   \n",
      "2  1202000200  20141103T000000  233000.0         3        2.0         1710   \n",
      "3  8562750320  20141110T000000  580500.0         3        2.5         2320   \n",
      "4  7589200193  20141110T000000  535000.0         3        1.0         1090   \n",
      "\n",
      "   sqft_lot  floors  waterfront  view     ...      grade  sqft_above  \\\n",
      "0     19901     1.5           0     0     ...          7        1430   \n",
      "1      5000     2.0           0     3     ...          9        1980   \n",
      "2      4697     1.5           0     0     ...          6        1710   \n",
      "3      3980     2.0           0     0     ...          8        2320   \n",
      "4      3000     1.5           0     0     ...          8        1090   \n",
      "\n",
      "   sqft_basement  yr_built  yr_renovated  zipcode      lat     long  \\\n",
      "0              0      1927             0    98028  47.7558 -122.229   \n",
      "1            970      1979             0    98126  47.5714 -122.375   \n",
      "2              0      1941             0    98002  47.3048 -122.218   \n",
      "3              0      2003             0    98027  47.5391 -122.070   \n",
      "4              0      1929             0    98117  47.6889 -122.375   \n",
      "\n",
      "   sqft_living15  sqft_lot15  \n",
      "0           1780       12697  \n",
      "1           2140        4000  \n",
      "2           1030        4705  \n",
      "3           2580        3980  \n",
      "4           1570        5080  \n",
      "\n",
      "[5 rows x 21 columns]\n"
     ]
    }
   ],
   "source": [
    "train_data = pd.read_csv('kc_house_train_data.csv')\n",
    "test_data = pd.read_csv('kc_house_test_data.csv')\n",
    "print(train_data.head())\n",
    "print(test_data.head())"
   ]
  },
  {
   "cell_type": "markdown",
   "metadata": {},
   "source": [
    "Function to create required feature matrices"
   ]
  },
  {
   "cell_type": "code",
   "execution_count": 16,
   "metadata": {},
   "outputs": [],
   "source": [
    "def get_numpy_data(data, features, output):\n",
    "    data['constant'] = 1 # add a constant column - for intercept term\n",
    "    \n",
    "    # prepend variable 'constant' to the features list\n",
    "    features = ['constant'] + features\n",
    "    \n",
    "    # this will convert the features_sframe into a numpy matrix with GraphLab Create >= 1.7!!\n",
    "    features_matrix = np.array(data.loc[:,features])\n",
    " \n",
    "\n",
    "    # this will convert the SArray into a numpy array:\n",
    "    output_array = np.array(data.loc[:,output]) \n",
    "    return(features_matrix, output_array)\n"
   ]
  },
  {
   "cell_type": "markdown",
   "metadata": {},
   "source": [
    "Derivative Function"
   ]
  },
  {
   "cell_type": "code",
   "execution_count": 56,
   "metadata": {
    "collapsed": true
   },
   "outputs": [],
   "source": [
    "def feature_derivative(errors, feature):\n",
    "    derivative = 2 * np.dot(feature, errors)\n",
    "    return(derivative)"
   ]
  },
  {
   "cell_type": "markdown",
   "metadata": {},
   "source": [
    "Prediction"
   ]
  },
  {
   "cell_type": "code",
   "execution_count": 19,
   "metadata": {
    "collapsed": true
   },
   "outputs": [],
   "source": [
    "def predict_outcome(feature_matrix, weights):\n",
    "    predictions = np.dot(feature_matrix, weights)\n",
    "    return(predictions)"
   ]
  },
  {
   "cell_type": "markdown",
   "metadata": {},
   "source": [
    "Grdaient Descent"
   ]
  },
  {
   "cell_type": "code",
   "execution_count": 83,
   "metadata": {
    "collapsed": true
   },
   "outputs": [],
   "source": [
    "def regression_gradient_descent(feature_matrix, output, initial_weights, step_size, tolerance):\n",
    "    converged = False\n",
    "    weights = np.array(initial_weights)\n",
    "    while not converged:\n",
    "        prediction = predict_outcome(feature_matrix, weights)\n",
    "        error = prediction - output\n",
    "        \n",
    "        # initialize the gradient\n",
    "        gradient_sum_squares = 0 \n",
    "        \n",
    "        # while not converged, update each weight individually:\n",
    "        for i in range(len(weights)):\n",
    "            # Recall that feature_matrix[:, i] is the feature column associated with weights[i]\n",
    "            derivative = feature_derivative(error, feature_matrix[:,i])\n",
    "            \n",
    "            # add the squared derivative to the gradient magnitude\n",
    "            gradient_sum_squares = gradient_sum_squares + (derivative ** 2)\n",
    "            \n",
    "            # update the weight based on step size and derivative:\n",
    "            weights[i] = weights[i] - (step_size * derivative)\n",
    "            \n",
    "        gradient_magnitude = np.sqrt(gradient_sum_squares)\n",
    "        if gradient_magnitude < tolerance:\n",
    "            converged = True\n",
    "    return(weights)\n"
   ]
  },
  {
   "cell_type": "markdown",
   "metadata": {},
   "source": [
    "Execution"
   ]
  },
  {
   "cell_type": "code",
   "execution_count": 174,
   "metadata": {},
   "outputs": [],
   "source": [
    "### Model1 Parameters\n",
    "\n",
    "features_cols = ['sqft_living']\n",
    "output_cols = 'price'\n",
    "initial_weights = [-47000., 1.]\n",
    "step_size = 7e-12\n",
    "tolerance = 2.5e7"
   ]
  },
  {
   "cell_type": "code",
   "execution_count": 172,
   "metadata": {},
   "outputs": [
    {
     "name": "stdout",
     "output_type": "stream",
     "text": [
      "[[   1 1180]\n",
      " [   1 2570]\n",
      " [   1  770]\n",
      " ..., \n",
      " [   1 1530]\n",
      " [   1 1600]\n",
      " [   1 1020]]\n",
      "[ 221900.  538000.  180000. ...,  360000.  400000.  325000.]\n"
     ]
    }
   ],
   "source": [
    "(feature_matrix, output) = get_numpy_data(train_data, features_cols, output_cols)\n",
    "\n",
    "print(feature_matrix)\n",
    "print(output)"
   ]
  },
  {
   "cell_type": "markdown",
   "metadata": {},
   "source": [
    "Qn 1"
   ]
  },
  {
   "cell_type": "code",
   "execution_count": 175,
   "metadata": {},
   "outputs": [
    {
     "name": "stdout",
     "output_type": "stream",
     "text": [
      "[-46999.88716555    281.91211918]\n"
     ]
    }
   ],
   "source": [
    "simple_weights = regression_gradient_descent(feature_matrix, output, initial_weights, step_size, tolerance)\n",
    "\n",
    "print(simple_weights)"
   ]
  },
  {
   "cell_type": "markdown",
   "metadata": {},
   "source": [
    "Qn 2"
   ]
  },
  {
   "cell_type": "code",
   "execution_count": 176,
   "metadata": {},
   "outputs": [
    {
     "name": "stdout",
     "output_type": "stream",
     "text": [
      "[[   1 1430]\n",
      " [   1 2950]\n",
      " [   1 1710]\n",
      " ..., \n",
      " [   1 2520]\n",
      " [   1 2310]\n",
      " [   1 1020]]\n",
      "[ 310000.  650000.  233000. ...,  610685.  400000.  402101.]\n"
     ]
    }
   ],
   "source": [
    "(test_feature_matrix, test_output) = get_numpy_data(test_data, features_cols, output_cols)\n",
    "\n",
    "print(test_feature_matrix)\n",
    "print(test_output)"
   ]
  },
  {
   "cell_type": "code",
   "execution_count": 179,
   "metadata": {},
   "outputs": [
    {
     "data": {
      "text/plain": [
       "array([ 356134.443255  ,  784640.86440132,  435069.83662406, ...,\n",
       "        663418.65315598,  604217.10812919,  240550.47439317])"
      ]
     },
     "execution_count": 179,
     "metadata": {},
     "output_type": "execute_result"
    }
   ],
   "source": [
    "test_prediction = predict_outcome(test_feature_matrix, simple_weights)\n",
    "test_prediction"
   ]
  },
  {
   "cell_type": "code",
   "execution_count": 180,
   "metadata": {},
   "outputs": [
    {
     "name": "stdout",
     "output_type": "stream",
     "text": [
      "356134.443255\n"
     ]
    }
   ],
   "source": [
    "print(test_prediction[0])   ### Predicted Price of first house"
   ]
  },
  {
   "cell_type": "code",
   "execution_count": 202,
   "metadata": {},
   "outputs": [
    {
     "name": "stdout",
     "output_type": "stream",
     "text": [
      "310000.0\n"
     ]
    }
   ],
   "source": [
    "print(test_output[0])       ### Actual Price of first house"
   ]
  },
  {
   "cell_type": "markdown",
   "metadata": {},
   "source": [
    "Model 1 - RSS"
   ]
  },
  {
   "cell_type": "code",
   "execution_count": 190,
   "metadata": {},
   "outputs": [
    {
     "data": {
      "text/plain": [
       "2.7540004490212833"
      ]
     },
     "execution_count": 190,
     "metadata": {},
     "output_type": "execute_result"
    }
   ],
   "source": [
    "np.sum((test_prediction - test_output)**2)/10**14"
   ]
  },
  {
   "cell_type": "markdown",
   "metadata": {},
   "source": [
    "Qn 3"
   ]
  },
  {
   "cell_type": "code",
   "execution_count": 193,
   "metadata": {},
   "outputs": [],
   "source": [
    "### Model2 Parameters\n",
    "\n",
    "model_features = ['sqft_living', 'sqft_living15']\n",
    "my_output = 'price'\n",
    "initial_weights = np.array([-100000., 1., 1.])\n",
    "step_size = 4e-12\n",
    "tolerance = 1e9"
   ]
  },
  {
   "cell_type": "code",
   "execution_count": 192,
   "metadata": {},
   "outputs": [
    {
     "name": "stdout",
     "output_type": "stream",
     "text": [
      "[[   1 1180 1340]\n",
      " [   1 2570 1690]\n",
      " [   1  770 2720]\n",
      " ..., \n",
      " [   1 1530 1530]\n",
      " [   1 1600 1410]\n",
      " [   1 1020 1020]]\n",
      "[ 221900.  538000.  180000. ...,  360000.  400000.  325000.]\n"
     ]
    }
   ],
   "source": [
    "(feature_matrix, output) = get_numpy_data(train_data, model_features,my_output)\n",
    "\n",
    "print(feature_matrix)\n",
    "print(output)"
   ]
  },
  {
   "cell_type": "code",
   "execution_count": 194,
   "metadata": {},
   "outputs": [
    {
     "name": "stdout",
     "output_type": "stream",
     "text": [
      "[ -9.99999688e+04   2.45072603e+02   6.52795267e+01]\n"
     ]
    }
   ],
   "source": [
    "simple_weights = regression_gradient_descent(feature_matrix, output, initial_weights, step_size, tolerance)\n",
    "\n",
    "print(simple_weights)"
   ]
  },
  {
   "cell_type": "code",
   "execution_count": 198,
   "metadata": {},
   "outputs": [
    {
     "name": "stdout",
     "output_type": "stream",
     "text": [
      "[[   1 1430 1780]\n",
      " [   1 2950 2140]\n",
      " [   1 1710 1030]\n",
      " ..., \n",
      " [   1 2520 2520]\n",
      " [   1 2310 1830]\n",
      " [   1 1020 1020]]\n",
      "[ 310000.  650000.  233000. ...,  610685.  400000.  402101.]\n"
     ]
    }
   ],
   "source": [
    "(test_feature_matrix, test_output) = get_numpy_data(test_data, model_features, my_output)\n",
    "\n",
    "print(test_feature_matrix)\n",
    "print(test_output)"
   ]
  },
  {
   "cell_type": "code",
   "execution_count": 199,
   "metadata": {},
   "outputs": [
    {
     "data": {
      "text/plain": [
       "array([ 366651.41162949,  762662.39850726,  386312.09557541, ...,\n",
       "        682087.39916306,  585579.27901327,  216559.20391786])"
      ]
     },
     "execution_count": 199,
     "metadata": {},
     "output_type": "execute_result"
    }
   ],
   "source": [
    "test_prediction = predict_outcome(test_feature_matrix, simple_weights)\n",
    "test_prediction"
   ]
  },
  {
   "cell_type": "code",
   "execution_count": 200,
   "metadata": {},
   "outputs": [
    {
     "name": "stdout",
     "output_type": "stream",
     "text": [
      "366651.411629\n"
     ]
    }
   ],
   "source": [
    "print(test_prediction[0])   ### Predicted Price of first house"
   ]
  },
  {
   "cell_type": "code",
   "execution_count": 202,
   "metadata": {},
   "outputs": [
    {
     "name": "stdout",
     "output_type": "stream",
     "text": [
      "310000.0\n"
     ]
    }
   ],
   "source": [
    "print(test_output[0])       ### Actual Price of first house"
   ]
  },
  {
   "cell_type": "markdown",
   "metadata": {},
   "source": [
    "Model 2 - RSS"
   ]
  },
  {
   "cell_type": "code",
   "execution_count": 201,
   "metadata": {},
   "outputs": [
    {
     "data": {
      "text/plain": [
       "2.7026344362980357"
      ]
     },
     "execution_count": 201,
     "metadata": {},
     "output_type": "execute_result"
    }
   ],
   "source": [
    "np.sum((test_prediction - test_output)**2)/10**14"
   ]
  },
  {
   "cell_type": "markdown",
   "metadata": {},
   "source": [
    "Qn 4 - Model1"
   ]
  },
  {
   "cell_type": "markdown",
   "metadata": {},
   "source": [
    "Qn 5 - Model2"
   ]
  }
 ],
 "metadata": {
  "kernelspec": {
   "display_name": "Python 3",
   "language": "python",
   "name": "python3"
  },
  "language_info": {
   "codemirror_mode": {
    "name": "ipython",
    "version": 3
   },
   "file_extension": ".py",
   "mimetype": "text/x-python",
   "name": "python",
   "nbconvert_exporter": "python",
   "pygments_lexer": "ipython3",
   "version": "3.6.1"
  }
 },
 "nbformat": 4,
 "nbformat_minor": 2
}
